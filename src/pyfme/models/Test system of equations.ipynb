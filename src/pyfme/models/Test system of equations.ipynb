{
 "cells": [
  {
   "cell_type": "code",
   "execution_count": 4,
   "metadata": {},
   "outputs": [],
   "source": [
    "import numpy as np\n",
    "nl = np.linalg\n",
    "from pyfme.models.euler_flat_earth import _system_equations, _system_equations_0\n",
    "arr = np.array\n",
    "%load_ext autoreload\n",
    "%autoreload 2"
   ]
  },
  {
   "cell_type": "code",
   "execution_count": 5,
   "metadata": {},
   "outputs": [],
   "source": [
    "# _system_equations(time, state_vector, mass, inertia, inertia_inverse, forces, moments)"
   ]
  },
  {
   "cell_type": "code",
   "execution_count": 6,
   "metadata": {},
   "outputs": [],
   "source": [
    "mass = 10\n",
    "inertia = np.diag([10,60,9])\n",
    "inertia[0,2] = -99\n",
    "inertia[2,0] = -99\n",
    "inertia_inverse = nl.inv(inertia)"
   ]
  },
  {
   "cell_type": "code",
   "execution_count": 7,
   "metadata": {},
   "outputs": [],
   "source": [
    "state_vector = np.ones(9)\n",
    "state_vector[0:3] = arr([1,1,1])\n",
    "state_vector[3:6] = arr([-1,-1,-1])\n",
    "state_vector[6:9] = arr([0,0,0])"
   ]
  },
  {
   "cell_type": "code",
   "execution_count": 13,
   "metadata": {},
   "outputs": [],
   "source": [
    "moments = np.array([1,2,3])\n",
    "forces = np.array([1,2,3])"
   ]
  },
  {
   "cell_type": "code",
   "execution_count": 26,
   "metadata": {},
   "outputs": [
    {
     "data": {
      "text/plain": [
       "array([ 0.1       ,  0.2       ,  0.3       ,  1.34847081,  0.01666667,\n",
       "       -1.38904335, -1.        , -1.        , -1.        ,  1.        ,\n",
       "        1.        ,  1.        ])"
      ]
     },
     "execution_count": 26,
     "metadata": {},
     "output_type": "execute_result"
    }
   ],
   "source": [
    "_system_equations(0, state_vector, mass, inertia, inertia_inverse, forces, moments)"
   ]
  }
 ],
 "metadata": {
  "kernelspec": {
   "display_name": "Python 3",
   "language": "python",
   "name": "python3"
  },
  "language_info": {
   "codemirror_mode": {
    "name": "ipython",
    "version": 3
   },
   "file_extension": ".py",
   "mimetype": "text/x-python",
   "name": "python",
   "nbconvert_exporter": "python",
   "pygments_lexer": "ipython3",
   "version": "3.6.3"
  }
 },
 "nbformat": 4,
 "nbformat_minor": 2
}
