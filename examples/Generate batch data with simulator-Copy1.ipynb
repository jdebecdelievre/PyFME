{
 "cells": [
  {
   "cell_type": "markdown",
   "metadata": {},
   "source": [
    "<h1> Generate simulator data </h1>"
   ]
  },
  {
   "cell_type": "code",
   "execution_count": 74,
   "metadata": {},
   "outputs": [],
   "source": [
    "from pyfme.aircrafts import SimplifiedCessna172, BasisLinear, Debug\n",
    "from pyfme.aircrafts.aircraft import Aircraft\n",
    "import matplotlib.pyplot as plt\n",
    "import numpy as np\n",
    "import json\n",
    "import pandas as pd\n",
    "import quaternion"
   ]
  },
  {
   "cell_type": "code",
   "execution_count": 75,
   "metadata": {},
   "outputs": [],
   "source": [
    "# aircraft = SimplifiedCessna172()\n",
    "aircraft = BasisLinear('../src/pyfme/aircrafts/tmp.json')\n",
    "# aircraft = Debug()"
   ]
  },
  {
   "cell_type": "code",
   "execution_count": 76,
   "metadata": {},
   "outputs": [
    {
     "name": "stdout",
     "output_type": "stream",
     "text": [
      "The autoreload extension is already loaded. To reload it, use:\n",
      "  %reload_ext autoreload\n"
     ]
    }
   ],
   "source": [
    "%load_ext autoreload\n",
    "%autoreload 2"
   ]
  },
  {
   "cell_type": "code",
   "execution_count": 77,
   "metadata": {},
   "outputs": [],
   "source": [
    "from pyfme.environment import Environment\n",
    "from pyfme.models import RigidBodyEuler, RigidBodyEulerState, RigidBodyQuat, RigidBodyQuatState\n",
    "from pyfme.aircrafts.aircraft import ConventionalControls\n",
    "from pyfme.utils.input_generator import Constant, Step\n",
    "import time"
   ]
  },
  {
   "cell_type": "code",
   "execution_count": 78,
   "metadata": {},
   "outputs": [],
   "source": [
    "from pyfme.models.state import copyStateValues"
   ]
  },
  {
   "cell_type": "code",
   "execution_count": 79,
   "metadata": {},
   "outputs": [],
   "source": [
    "from pyfme.environment.gravity import VerticalConstant"
   ]
  },
  {
   "cell_type": "code",
   "execution_count": 80,
   "metadata": {},
   "outputs": [],
   "source": [
    "environment = Environment()"
   ]
  },
  {
   "cell_type": "code",
   "execution_count": 81,
   "metadata": {},
   "outputs": [],
   "source": [
    "controls_seq = {\n",
    "    'delta_elevator': Constant(0),\n",
    "    'delta_aileron': Constant(0),\n",
    "    'delta_rudder': Constant(0),\n",
    "    'delta_throttle': Constant(0)\n",
    "}"
   ]
  },
  {
   "cell_type": "code",
   "execution_count": 82,
   "metadata": {},
   "outputs": [],
   "source": [
    "system = RigidBodyQuat(aircraft, environment)"
   ]
  },
  {
   "cell_type": "code",
   "execution_count": 83,
   "metadata": {},
   "outputs": [],
   "source": [
    "state = RigidBodyQuatState(np.array([0,0,0,1.,0,0,0,10.,0,0.0,0,0,0]))"
   ]
  },
  {
   "cell_type": "code",
   "execution_count": 84,
   "metadata": {},
   "outputs": [],
   "source": [
    "state.attitude = [0, np.pi/180 * 25,0]\n",
    "state.earth_velocity = [10.0, 0, 5]\n",
    "state.q = 30.0"
   ]
  },
  {
   "cell_type": "code",
   "execution_count": 85,
   "metadata": {},
   "outputs": [],
   "source": [
    "sol = system.integrate(3, state, controls_seq, dt_eval=0.01)"
   ]
  },
  {
   "cell_type": "code",
   "execution_count": 86,
   "metadata": {},
   "outputs": [],
   "source": [
    "controls = system.aircraft.get_controls(sol.time, controls_seq)\n",
    "conditions = system.environment.calculate_aero_conditions(sol)\n",
    "L, D, Y, l, m, n = system.aircraft._calculate_aero_forces_moments(conditions, sol, controls)"
   ]
  },
  {
   "cell_type": "code",
   "execution_count": 131,
   "metadata": {},
   "outputs": [],
   "source": [
    "DF = sol.to_pandas()"
   ]
  },
  {
   "cell_type": "code",
   "execution_count": 132,
   "metadata": {},
   "outputs": [],
   "source": [
    "DF['alpha'] = sol.alpha\n",
    "DF['V'] = sol.V"
   ]
  },
  {
   "cell_type": "code",
   "execution_count": 133,
   "metadata": {},
   "outputs": [],
   "source": [
    "DF['theta'] = sol.theta"
   ]
  },
  {
   "cell_type": "code",
   "execution_count": 134,
   "metadata": {},
   "outputs": [],
   "source": [
    "DF['L'] = L\n",
    "DF['D'] = D\n",
    "DF['m'] = m"
   ]
  },
  {
   "cell_type": "code",
   "execution_count": 135,
   "metadata": {},
   "outputs": [],
   "source": [
    "Qinf = 1/2 * 1.225 * sol.V**2 * aircraft.Sw\n",
    "DF['CL'] = L/Qinf\n",
    "DF['CD'] = D/Qinf\n",
    "DF['Cm'] = m/Qinf/aircraft.chord"
   ]
  },
  {
   "cell_type": "code",
   "execution_count": 136,
   "metadata": {},
   "outputs": [],
   "source": [
    "DF['time'] = sol.time\n",
    "DF['dx_e'] = sol.earth_velocity[:,0]\n",
    "DF['dz_e'] = sol.earth_velocity[:,2]"
   ]
  },
  {
   "cell_type": "code",
   "execution_count": 137,
   "metadata": {},
   "outputs": [],
   "source": [
    "DF.to_csv('tmp.csv')"
   ]
  },
  {
   "cell_type": "code",
   "execution_count": 61,
   "metadata": {},
   "outputs": [],
   "source": [
    "mml = pd.read_csv('../../../../systemid/MyPackages/mechamod/mechamodlearnprivate/experiments/data.csv') "
   ]
  },
  {
   "cell_type": "code",
   "execution_count": null,
   "metadata": {},
   "outputs": [],
   "source": [
    "plt.pl"
   ]
  },
  {
   "cell_type": "markdown",
   "metadata": {},
   "source": [
    "# Vary elevator input"
   ]
  },
  {
   "cell_type": "code",
   "execution_count": null,
   "metadata": {},
   "outputs": [],
   "source": [
    "data = []\n",
    "i=0\n",
    "for de in np.linspace(-1,1,10):\n",
    "    for w in np.linspace(-1,1,10):\n",
    "        # update control sequence\n",
    "        controls_seq['delta_elevator'] = Step(t_init=1, T=3, A=de, offset=0)\n",
    "        \n",
    "        # integrate equations of motion\n",
    "        sol = system.integrate(5, state, controls_seq)\n",
    "        d = sol.to_pandas()\n",
    "        \n",
    "        # compute controls\n",
    "        for k in controls_seq:\n",
    "            d[k] = controls_seq[k](d.time)\n",
    "        \n",
    "        # compute forces and moments\n",
    "        controls = system.aircraft.get_controls(sol.time, controls_seq)\n",
    "        conditions = system.environment.calculate_aero_conditions(sol)\n",
    "        L, D, Y, l, m, n = system.aircraft._calculate_aero_forces_moments(conditions, sol, controls)\n",
    "        d['L'] = L\n",
    "        d['D'] = D\n",
    "        d['Y'] = Y \n",
    "        d['l'] = l \n",
    "        d['m'] = m \n",
    "        d['n'] = n \n",
    "        \n",
    "        # save\n",
    "        d.to_csv('trajectory'+str(i)+'.csv', index=False)\n",
    "        data.append(d)\n",
    "        i+=1"
   ]
  },
  {
   "cell_type": "markdown",
   "metadata": {},
   "source": [
    "# Vary initial condition"
   ]
  },
  {
   "cell_type": "code",
   "execution_count": null,
   "metadata": {},
   "outputs": [],
   "source": [
    "##### ## /!\\ Everything is cast to integer"
   ]
  },
  {
   "cell_type": "code",
   "execution_count": 12,
   "metadata": {},
   "outputs": [],
   "source": [
    "data = []\n",
    "i=0\n",
    "for i in range(100):\n",
    "    # update initial state value\n",
    "    state.u = np.random.uniform(4,7)\n",
    "    state.w = np.random.uniform(-.5,2)\n",
    "    state.q = np.random.uniform(-.05,.05)\n",
    "\n",
    "    # integrate equations of motion\n",
    "    sol = system.integrate(5, state, controls_seq)\n",
    "    d = sol.to_pandas()\n",
    "\n",
    "    # compute controls\n",
    "    for k in controls_seq:\n",
    "        d[k] = controls_seq[k](d.time)\n",
    "\n",
    "    # compute forces and moments\n",
    "    controls = system.aircraft.get_controls(sol.time, controls_seq)\n",
    "    conditions = system.environment.calculate_aero_conditions(sol)\n",
    "    L, D, Y, l, m, n = system.aircraft._calculate_aero_forces_moments(conditions, sol, controls)\n",
    "    d['L'] = L\n",
    "    d['D'] = D\n",
    "    d['Y'] = Y \n",
    "    d['l'] = l \n",
    "    d['m'] = m \n",
    "    d['n'] = n \n",
    "\n",
    "    # save\n",
    "    d.to_csv('trajectory'+str(i)+'.csv', index=False)\n",
    "    data.append(d)"
   ]
  },
  {
   "cell_type": "code",
   "execution_count": null,
   "metadata": {},
   "outputs": [],
   "source": []
  }
 ],
 "metadata": {
  "kernelspec": {
   "display_name": "Python 3",
   "language": "python",
   "name": "python3"
  },
  "language_info": {
   "codemirror_mode": {
    "name": "ipython",
    "version": 3
   },
   "file_extension": ".py",
   "mimetype": "text/x-python",
   "name": "python",
   "nbconvert_exporter": "python",
   "pygments_lexer": "ipython3",
   "version": "3.6.7"
  }
 },
 "nbformat": 4,
 "nbformat_minor": 2
}
