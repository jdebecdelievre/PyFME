{
 "cells": [
  {
   "cell_type": "markdown",
   "metadata": {},
   "source": [
    "<h1> Generate simulator data </h1>"
   ]
  },
  {
   "cell_type": "code",
   "execution_count": 1,
   "metadata": {},
   "outputs": [],
   "source": [
    "from pyfme.aircrafts import SimplifiedCessna172, BasisLinear, Debug, Linear\n",
    "from pyfme.aircrafts.aircraft import Aircraft\n",
    "import matplotlib.pyplot as plt\n",
    "import numpy as np\n",
    "import json\n",
    "import pandas as pd\n",
    "import quaternion"
   ]
  },
  {
   "cell_type": "code",
   "execution_count": 2,
   "metadata": {},
   "outputs": [],
   "source": [
    "%load_ext autoreload\n",
    "%autoreload 2"
   ]
  },
  {
   "cell_type": "code",
   "execution_count": 3,
   "metadata": {},
   "outputs": [],
   "source": [
    "# aircraft = SimplifiedCessna172()\n",
    "# aircraft = BasisLinear('../src/pyfme/aircrafts/tmp.json')\n",
    "aircraft = Linear(alpha_dot=False)\n",
    "# aircraft = Debug()"
   ]
  },
  {
   "cell_type": "code",
   "execution_count": 4,
   "metadata": {},
   "outputs": [],
   "source": [
    "from pyfme.environment import Environment\n",
    "from pyfme.models import RigidBodyEuler, RigidBodyEulerState, RigidBodyQuat, RigidBodyQuatState\n",
    "from pyfme.aircrafts.aircraft import ConventionalControls\n",
    "from pyfme.utils.input_generator import Constant, Step, Chirp, Doublet\n",
    "import time"
   ]
  },
  {
   "cell_type": "code",
   "execution_count": 5,
   "metadata": {},
   "outputs": [],
   "source": [
    "from pyfme.models.state import copyStateValues"
   ]
  },
  {
   "cell_type": "code",
   "execution_count": 6,
   "metadata": {},
   "outputs": [],
   "source": [
    "from pyfme.environment.gravity import VerticalConstant"
   ]
  },
  {
   "cell_type": "code",
   "execution_count": 7,
   "metadata": {},
   "outputs": [],
   "source": [
    "environment = Environment()"
   ]
  },
  {
   "cell_type": "code",
   "execution_count": 8,
   "metadata": {},
   "outputs": [],
   "source": [
    "controls_seq = {\n",
    "    'delta_elevator':  Chirp(3., 100., 0., 5.),\n",
    "    'delta_aileron': Chirp(3., 100., 3., 5.),\n",
    "    'delta_rudder': Chirp(3., 100., 3., 5.),\n",
    "    'delta_throttle': Constant(0)\n",
    "}"
   ]
  },
  {
   "cell_type": "code",
   "execution_count": 9,
   "metadata": {},
   "outputs": [],
   "source": [
    "state = RigidBodyQuatState(np.array([0,0,0,1.,0,0,0,10.,0,0.0,0,0,0]))"
   ]
  },
  {
   "cell_type": "code",
   "execution_count": 10,
   "metadata": {},
   "outputs": [],
   "source": [
    "state.attitude = np.array([0,  2.8*np.pi/180 - np.arctan(1/10), 0.])\n",
    "state.earth_velocity = np.array([5.7, 0., 0.57])\n",
    "# state.q = 0.0"
   ]
  },
  {
   "cell_type": "code",
   "execution_count": 11,
   "metadata": {},
   "outputs": [],
   "source": [
    "state.v = 0.2"
   ]
  },
  {
   "cell_type": "code",
   "execution_count": 12,
   "metadata": {},
   "outputs": [],
   "source": [
    "system = RigidBodyQuat(aircraft, environment)"
   ]
  },
  {
   "cell_type": "code",
   "execution_count": 13,
   "metadata": {},
   "outputs": [],
   "source": [
    "aircraft.state_dot = None\n",
    "sol = system.integrate(60., state, controls_seq, dt_eval=0.01, method='RK45')\n"
   ]
  },
  {
   "cell_type": "code",
   "execution_count": 15,
   "metadata": {},
   "outputs": [],
   "source": [
    "controls = system.aircraft.get_controls(sol.time, controls_seq)\n",
    "conditions = system.environment.calculate_aero_conditions(sol)\n",
    "L, D, Y, l, m, n = system.aircraft._calculate_aero_forces_moments(conditions, sol, controls)"
   ]
  },
  {
   "cell_type": "code",
   "execution_count": 16,
   "metadata": {},
   "outputs": [],
   "source": [
    "forces, moments = system.aircraft.calculate_forces_and_moments(sol,\n",
    "                                    conditions, controls)\n",
    "\n",
    "fg = conditions.gravity_vector * aircraft.mass"
   ]
  },
  {
   "cell_type": "code",
   "execution_count": 17,
   "metadata": {},
   "outputs": [],
   "source": [
    "CY, Cl, CN = aircraft._calculate_aero_lat_forces_moments_coeffs(sol.alpha, sol.beta, sol.V, sol, controls)"
   ]
  },
  {
   "cell_type": "code",
   "execution_count": 18,
   "metadata": {},
   "outputs": [
    {
     "data": {
      "text/plain": [
       "[<matplotlib.lines.Line2D at 0x1c274af2d0>]"
      ]
     },
     "execution_count": 18,
     "metadata": {},
     "output_type": "execute_result"
    },
    {
     "data": {
      "image/png": "[encoded data removed]",
      "text/plain": [
       "<Figure size 432x288 with 1 Axes>"
      ]
     },
     "metadata": {
      "needs_background": "light"
     },
     "output_type": "display_data"
    }
   ],
   "source": [
    "plt.plot(sol.x_e, -sol.z_e)"
   ]
  },
  {
   "cell_type": "code",
   "execution_count": 23,
   "metadata": {},
   "outputs": [],
   "source": [
    "DF = sol.to_pandas()"
   ]
  },
  {
   "cell_type": "code",
   "execution_count": 24,
   "metadata": {},
   "outputs": [],
   "source": [
    "DF['alpha'] = sol.alpha\n",
    "DF['V'] = sol.V"
   ]
  },
  {
   "cell_type": "code",
   "execution_count": 25,
   "metadata": {},
   "outputs": [],
   "source": [
    "DF['theta'] = sol.theta"
   ]
  },
  {
   "cell_type": "code",
   "execution_count": 26,
   "metadata": {},
   "outputs": [],
   "source": [
    "DF['L'] = L\n",
    "DF['D'] = D\n",
    "DF['m'] = m\n",
    "DF['l'] = l\n",
    "DF['n'] = n\n",
    "DF['Y'] = Y"
   ]
  },
  {
   "cell_type": "code",
   "execution_count": 27,
   "metadata": {},
   "outputs": [],
   "source": [
    "Qinf = 1/2 * 1.225 * sol.V**2 * aircraft.Sw\n",
    "DF['CL'] = L/Qinf\n",
    "DF['CD'] = D/Qinf\n",
    "DF['Cm'] = m/Qinf/aircraft.chord\n",
    "DF['Cl'] = l/Qinf/aircraft.span\n",
    "DF['Cn'] = n/Qinf/aircraft.span\n",
    "DF['CY'] = Y/Qinf"
   ]
  },
  {
   "cell_type": "code",
   "execution_count": 28,
   "metadata": {},
   "outputs": [],
   "source": [
    "DF['time'] = sol.time\n",
    "DF['dx_e'] = sol.earth_velocity[:,0]\n",
    "DF['dz_e'] = sol.earth_velocity[:,2]"
   ]
  },
  {
   "cell_type": "code",
   "execution_count": 29,
   "metadata": {},
   "outputs": [],
   "source": [
    "DF['elevator'] = controls.delta_elevator\n",
    "DF['rudder'] = controls.delta_rudder"
   ]
  },
  {
   "cell_type": "code",
   "execution_count": 30,
   "metadata": {},
   "outputs": [],
   "source": [
    "DF['aileron'] = controls.delta_aileron"
   ]
  },
  {
   "cell_type": "code",
   "execution_count": 31,
   "metadata": {},
   "outputs": [],
   "source": [
    "DF.to_csv('tmp.csv')"
   ]
  },
  {
   "cell_type": "code",
   "execution_count": 22,
   "metadata": {},
   "outputs": [
    {
     "data": {
      "text/plain": [
       "[<matplotlib.lines.Line2D at 0x104cbcdd0>]"
      ]
     },
     "execution_count": 22,
     "metadata": {},
     "output_type": "execute_result"
    },
    {
     "data": {
      "image/png": "[encoded data removed]",
      "text/plain": [
       "<Figure size 432x288 with 1 Axes>"
      ]
     },
     "metadata": {
      "needs_background": "light"
     },
     "output_type": "display_data"
    }
   ],
   "source": [
    "plt.plot(sol.time, controls.delta_aileron)"
   ]
  },
  {
   "cell_type": "code",
   "execution_count": 23,
   "metadata": {},
   "outputs": [
    {
     "data": {
      "text/plain": [
       "[<matplotlib.lines.Line2D at 0x104d2df90>]"
      ]
     },
     "execution_count": 23,
     "metadata": {},
     "output_type": "execute_result"
    },
    {
     "data": {
      "image/png": "[encoded data removed]",
      "text/plain": [
       "<Figure size 432x288 with 1 Axes>"
      ]
     },
     "metadata": {
      "needs_background": "light"
     },
     "output_type": "display_data"
    }
   ],
   "source": [
    "plt.plot(sol.x_e, -sol.z_e)"
   ]
  },
  {
   "cell_type": "code",
   "execution_count": 61,
   "metadata": {},
   "outputs": [],
   "source": [
    "mml = pd.read_csv('../../../../systemid/MyPackages/mechamod/mechamodlearnprivate/experiments/data.csv') "
   ]
  },
  {
   "cell_type": "markdown",
   "metadata": {},
   "source": [
    "# Vary elevator input"
   ]
  },
  {
   "cell_type": "code",
   "execution_count": null,
   "metadata": {},
   "outputs": [],
   "source": [
    "data = []\n",
    "i=0\n",
    "for de in np.linspace(-1,1,10):\n",
    "    for w in np.linspace(-1,1,10):\n",
    "        # update control sequence\n",
    "        controls_seq['delta_elevator'] = Step(t_init=1, T=3, A=de, offset=0)\n",
    "        \n",
    "        # integrate equations of motion\n",
    "        sol = system.integrate(5, state, controls_seq)\n",
    "        d = sol.to_pandas()\n",
    "        \n",
    "        # compute controls\n",
    "        for k in controls_seq:\n",
    "            d[k] = controls_seq[k](d.time)\n",
    "        \n",
    "        # compute forces and moments\n",
    "        controls = system.aircraft.get_controls(sol.time, controls_seq)\n",
    "        conditions = system.environment.calculate_aero_conditions(sol)\n",
    "        L, D, Y, l, m, n = system.aircraft._calculate_aero_forces_moments(conditions, sol, controls)\n",
    "        d['L'] = L\n",
    "        d['D'] = D\n",
    "        d['Y'] = Y \n",
    "        d['l'] = l \n",
    "        d['m'] = m \n",
    "        d['n'] = n \n",
    "        \n",
    "        # save\n",
    "        d.to_csv('trajectory'+str(i)+'.csv', index=False)\n",
    "        data.append(d)\n",
    "        i+=1"
   ]
  },
  {
   "cell_type": "markdown",
   "metadata": {},
   "source": [
    "# Vary initial condition"
   ]
  },
  {
   "cell_type": "code",
   "execution_count": null,
   "metadata": {},
   "outputs": [],
   "source": [
    "##### ## /!\\ Everything is cast to integer"
   ]
  },
  {
   "cell_type": "code",
   "execution_count": 12,
   "metadata": {},
   "outputs": [],
   "source": [
    "data = []\n",
    "i=0\n",
    "for i in range(100):\n",
    "    # update initial state value\n",
    "    state.u = np.random.uniform(4,7)\n",
    "    state.w = np.random.uniform(-.5,2)\n",
    "    state.q = np.random.uniform(-.05,.05)\n",
    "\n",
    "    # integrate equations of motion\n",
    "    sol = system.integrate(5, state, controls_seq)\n",
    "    d = sol.to_pandas()\n",
    "\n",
    "    # compute controls\n",
    "    for k in controls_seq:\n",
    "        d[k] = controls_seq[k](d.time)\n",
    "\n",
    "    # compute forces and moments\n",
    "    controls = system.aircraft.get_controls(sol.time, controls_seq)\n",
    "    conditions = system.environment.calculate_aero_conditions(sol)\n",
    "    L, D, Y, l, m, n = system.aircraft._calculate_aero_forces_moments(conditions, sol, controls)\n",
    "    d['L'] = L\n",
    "    d['D'] = D\n",
    "    d['Y'] = Y \n",
    "    d['l'] = l \n",
    "    d['m'] = m \n",
    "    d['n'] = n \n",
    "\n",
    "    # save\n",
    "    d.to_csv('trajectory'+str(i)+'.csv', index=False)\n",
    "    data.append(d)"
   ]
  },
  {
   "cell_type": "code",
   "execution_count": null,
   "metadata": {},
   "outputs": [],
   "source": []
  }
 ],
 "metadata": {
  "kernelspec": {
   "display_name": "Python 3",
   "language": "python",
   "name": "python3"
  },
  "language_info": {
   "codemirror_mode": {
    "name": "ipython",
    "version": 3
   },
   "file_extension": ".py",
   "mimetype": "text/x-python",
   "name": "python",
   "nbconvert_exporter": "python",
   "pygments_lexer": "ipython3",
   "version": "3.7.4"
  }
 },
 "nbformat": 4,
 "nbformat_minor": 2
}
