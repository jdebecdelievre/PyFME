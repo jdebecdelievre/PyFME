{
 "cells": [
  {
   "cell_type": "markdown",
   "metadata": {},
   "source": [
    "<h1> Generate simulator data </h1>"
   ]
  },
  {
   "cell_type": "code",
   "execution_count": 1,
   "metadata": {},
   "outputs": [],
   "source": [
    "from pyfme.aircrafts import SimplifiedCessna172, BasisLinear, Debug\n",
    "from pyfme.aircrafts.aircraft import Aircraft\n",
    "import matplotlib.pyplot as plt\n",
    "import numpy as np\n",
    "import json\n",
    "import pandas as pd\n",
    "import quaternion"
   ]
  },
  {
   "cell_type": "code",
   "execution_count": 2,
   "metadata": {},
   "outputs": [],
   "source": [
    "# aircraft = SimplifiedCessna172()\n",
    "aircraft = BasisLinear('../src/pyfme/aircrafts/basis_linear.json')\n",
    "# aircraft = Debug()"
   ]
  },
  {
   "cell_type": "code",
   "execution_count": 3,
   "metadata": {},
   "outputs": [],
   "source": [
    "%load_ext autoreload\n",
    "%autoreload 2"
   ]
  },
  {
   "cell_type": "code",
   "execution_count": 4,
   "metadata": {},
   "outputs": [],
   "source": [
    "from pyfme.environment import Environment\n",
    "from pyfme.models import RigidBodyEuler, RigidBodyEulerState, RigidBodyQuat, RigidBodyQuatState\n",
    "from pyfme.aircrafts.aircraft import ConventionalControls\n",
    "from pyfme.utils.input_generator import Constant, Step\n",
    "import time"
   ]
  },
  {
   "cell_type": "code",
   "execution_count": 5,
   "metadata": {},
   "outputs": [],
   "source": [
    "from pyfme.models.state import copyStateValues"
   ]
  },
  {
   "cell_type": "code",
   "execution_count": 6,
   "metadata": {},
   "outputs": [],
   "source": [
    "from pyfme.environment.gravity import VerticalConstant"
   ]
  },
  {
   "cell_type": "code",
   "execution_count": 7,
   "metadata": {},
   "outputs": [],
   "source": [
    "environment = Environment()"
   ]
  },
  {
   "cell_type": "code",
   "execution_count": 8,
   "metadata": {},
   "outputs": [],
   "source": [
    "controls_seq = {\n",
    "    'delta_elevator': Constant(0),\n",
    "    'delta_aileron': Constant(0),\n",
    "    'delta_rudder': Constant(0),\n",
    "    'delta_throttle': Constant(0)\n",
    "}"
   ]
  },
  {
   "cell_type": "code",
   "execution_count": 9,
   "metadata": {},
   "outputs": [],
   "source": [
    "system = RigidBodyQuat(aircraft, environment)"
   ]
  },
  {
   "cell_type": "code",
   "execution_count": 10,
   "metadata": {},
   "outputs": [],
   "source": [
    "state = RigidBodyQuatState(np.array([0,0,0,1.,0,0,0,5.,0,0,0,0,0]))"
   ]
  },
  {
   "cell_type": "code",
   "execution_count": null,
   "metadata": {},
   "outputs": [],
   "source": [
    "%prun sol = system.integrate(5, state, controls_seq, dt_eval=0.0005)"
   ]
  },
  {
   "cell_type": "markdown",
   "metadata": {},
   "source": [
    "# Vary elevator input"
   ]
  },
  {
   "cell_type": "code",
   "execution_count": null,
   "metadata": {},
   "outputs": [],
   "source": [
    "data = []\n",
    "i=0\n",
    "for de in np.linspace(-1,1,10):\n",
    "    for w in np.linspace(-1,1,10):\n",
    "        # update control sequence\n",
    "        controls_seq['delta_elevator'] = Step(t_init=1, T=3, A=de, offset=0)\n",
    "        \n",
    "        # integrate equations of motion\n",
    "        sol = system.integrate(5, state, controls_seq)\n",
    "        d = sol.to_pandas()\n",
    "        \n",
    "        # compute controls\n",
    "        for k in controls_seq:\n",
    "            d[k] = controls_seq[k](d.time)\n",
    "        \n",
    "        # compute forces and moments\n",
    "        controls = system.aircraft.get_controls(sol.time, controls_seq)\n",
    "        conditions = system.environment.calculate_aero_conditions(sol)\n",
    "        L, D, Y, l, m, n = system.aircraft._calculate_aero_forces_moments(conditions, sol, controls)\n",
    "        d['L'] = L\n",
    "        d['D'] = D\n",
    "        d['Y'] = Y \n",
    "        d['l'] = l \n",
    "        d['m'] = m \n",
    "        d['n'] = n \n",
    "        \n",
    "        # save\n",
    "        d.to_csv('trajectory'+str(i)+'.csv', index=False)\n",
    "        data.append(d)\n",
    "        i+=1"
   ]
  },
  {
   "cell_type": "markdown",
   "metadata": {},
   "source": [
    "# Vary initial condition"
   ]
  },
  {
   "cell_type": "code",
   "execution_count": null,
   "metadata": {},
   "outputs": [],
   "source": [
    "##### ## /!\\ Everything is cast to integer"
   ]
  },
  {
   "cell_type": "code",
   "execution_count": 12,
   "metadata": {},
   "outputs": [],
   "source": [
    "data = []\n",
    "i=0\n",
    "for i in range(100):\n",
    "    # update initial state value\n",
    "    state.u = np.random.uniform(4,7)\n",
    "    state.w = np.random.uniform(-.5,2)\n",
    "    state.q = np.random.uniform(-.05,.05)\n",
    "\n",
    "    # integrate equations of motion\n",
    "    sol = system.integrate(5, state, controls_seq)\n",
    "    d = sol.to_pandas()\n",
    "\n",
    "    # compute controls\n",
    "    for k in controls_seq:\n",
    "        d[k] = controls_seq[k](d.time)\n",
    "\n",
    "    # compute forces and moments\n",
    "    controls = system.aircraft.get_controls(sol.time, controls_seq)\n",
    "    conditions = system.environment.calculate_aero_conditions(sol)\n",
    "    L, D, Y, l, m, n = system.aircraft._calculate_aero_forces_moments(conditions, sol, controls)\n",
    "    d['L'] = L\n",
    "    d['D'] = D\n",
    "    d['Y'] = Y \n",
    "    d['l'] = l \n",
    "    d['m'] = m \n",
    "    d['n'] = n \n",
    "\n",
    "    # save\n",
    "    d.to_csv('trajectory'+str(i)+'.csv', index=False)\n",
    "    data.append(d)"
   ]
  },
  {
   "cell_type": "code",
   "execution_count": null,
   "metadata": {},
   "outputs": [],
   "source": []
  }
 ],
 "metadata": {
  "kernelspec": {
   "display_name": "Python 3",
   "language": "python",
   "name": "python3"
  },
  "language_info": {
   "codemirror_mode": {
    "name": "ipython",
    "version": 3
   },
   "file_extension": ".py",
   "mimetype": "text/x-python",
   "name": "python",
   "nbconvert_exporter": "python",
   "pygments_lexer": "ipython3",
   "version": "3.6.7"
  }
 },
 "nbformat": 4,
 "nbformat_minor": 2
}
