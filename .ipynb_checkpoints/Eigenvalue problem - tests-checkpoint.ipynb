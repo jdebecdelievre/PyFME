{
 "cells": [
  {
   "cell_type": "markdown",
   "metadata": {},
   "source": [
    "# Python Flight Mechanics Engine "
   ]
  },
  {
   "cell_type": "code",
   "execution_count": 299,
   "metadata": {},
   "outputs": [],
   "source": [
    "from pyfme.aircrafts import LinearB747, SimplifiedCessna172\n",
    "from pyfme.models import EulerFlatEarth\n",
    "import numpy as np\n",
    "nl = np.linalg\n",
    "import matplotlib.pyplot as plt\n",
    "from pyfme.environment.atmosphere import ISA1976\n",
    "from pyfme.environment.wind import NoWind\n",
    "from pyfme.environment.gravity import VerticalConstant\n",
    "from pyfme.environment import Environment\n",
    "from pyfme.utils.trimmer import steady_state_trim\n",
    "from pyfme.models.state.position import EarthPosition\n",
    "from pyfme.simulator import Simulation\n",
    "from pyfme.models import EulerFlatEarth\n",
    "from pyfme.models.euler_flat_earth import wind2body4attitude"
   ]
  },
  {
   "cell_type": "code",
   "execution_count": 300,
   "metadata": {},
   "outputs": [
    {
     "name": "stdout",
     "output_type": "stream",
     "text": [
      "The autoreload extension is already loaded. To reload it, use:\n",
      "  %reload_ext autoreload\n"
     ]
    }
   ],
   "source": [
    "%load_ext autoreload\n",
    "%autoreload 2"
   ]
  },
  {
   "cell_type": "markdown",
   "metadata": {},
   "source": [
    "# Test on Boeing"
   ]
  },
  {
   "cell_type": "code",
   "execution_count": 301,
   "metadata": {
    "collapsed": true
   },
   "outputs": [],
   "source": [
    "aircraft = LinearB747()"
   ]
  },
  {
   "cell_type": "code",
   "execution_count": 302,
   "metadata": {},
   "outputs": [
    {
     "name": "stdout",
     "output_type": "stream",
     "text": [
      "Aircraft mass: 288660.5504587156 kg\n",
      "Aircraft inertia tensor: \n",
      " [[ 24700000.         0.  -2120000.]\n",
      " [        0.  44900000.         0.]\n",
      " [ -2120000.         0.  67300000.]] kg/m²\n"
     ]
    }
   ],
   "source": [
    "print(f\"Aircraft mass: {aircraft.mass} kg\")\n",
    "print(f\"Aircraft inertia tensor: \\n {aircraft.inertia} kg/m²\")"
   ]
  },
  {
   "cell_type": "code",
   "execution_count": 303,
   "metadata": {
    "collapsed": true
   },
   "outputs": [],
   "source": [
    "state, environment = aircraft.trimmed_conditions()"
   ]
  },
  {
   "cell_type": "code",
   "execution_count": 304,
   "metadata": {
    "collapsed": true
   },
   "outputs": [],
   "source": [
    "system = EulerFlatEarth(t0=0, full_state=state)"
   ]
  },
  {
   "cell_type": "code",
   "execution_count": 305,
   "metadata": {},
   "outputs": [],
   "source": [
    "A_long, A_lat = system.linearized_model(state, aircraft, environment, method=\"from_forces\")"
   ]
  },
  {
   "cell_type": "code",
   "execution_count": 306,
   "metadata": {},
   "outputs": [
    {
     "name": "stdout",
     "output_type": "stream",
     "text": [
      "[[ -6.86619629e-03   1.39437135e-02   0.00000000e+00  -9.80665000e+00]\n",
      " [ -9.04964592e-02  -3.14906754e-01   2.35892792e+02  -0.00000000e+00]\n",
      " [  3.89092422e-04  -3.36169904e-03  -4.28171388e-01   0.00000000e+00]\n",
      " [  0.00000000e+00   0.00000000e+00   1.00000000e+00   0.00000000e+00]]\n"
     ]
    }
   ],
   "source": [
    "print(f\"{A_long}\")"
   ]
  },
  {
   "cell_type": "code",
   "execution_count": 307,
   "metadata": {
    "collapsed": true
   },
   "outputs": [],
   "source": [
    "d = aircraft.calculate_derivatives(None, None, None)"
   ]
  },
  {
   "cell_type": "code",
   "execution_count": 308,
   "metadata": {
    "collapsed": true
   },
   "outputs": [],
   "source": [
    "val, vec = nl.eig(A_long)"
   ]
  },
  {
   "cell_type": "code",
   "execution_count": 309,
   "metadata": {},
   "outputs": [
    {
     "data": {
      "text/plain": [
       "array([-0.37168337+0.88692454j, -0.37168337-0.88692454j,\n",
       "       -0.00328880+0.0671904j , -0.00328880-0.0671904j ])"
      ]
     },
     "execution_count": 309,
     "metadata": {},
     "output_type": "execute_result"
    }
   ],
   "source": [
    "val"
   ]
  },
  {
   "cell_type": "code",
   "execution_count": 310,
   "metadata": {},
   "outputs": [
    {
     "name": "stdout",
     "output_type": "stream",
     "text": [
      "[[ -5.57748538e-02   0.00000000e+00  -2.35900000e+02   9.80665000e+00]\n",
      " [ -1.21578588e-02  -4.38509325e-01   3.91486496e-01   0.00000000e+00]\n",
      " [  2.78343743e-03  -3.35756281e-02  -1.20416770e-01   0.00000000e+00]\n",
      " [  0.00000000e+00   1.00000000e+00   0.00000000e+00   0.00000000e+00]]\n"
     ]
    }
   ],
   "source": [
    "print(f\"{A_lat}\")"
   ]
  },
  {
   "cell_type": "code",
   "execution_count": 311,
   "metadata": {
    "collapsed": true
   },
   "outputs": [],
   "source": [
    "val, vec = nl.eig(A_lat)"
   ]
  },
  {
   "cell_type": "code",
   "execution_count": 312,
   "metadata": {},
   "outputs": [
    {
     "data": {
      "text/plain": [
       "array([ 0.01992122+0.88015949j,  0.01992122-0.88015949j,\n",
       "       -0.64722566+0.j        , -0.00731773+0.j        ])"
      ]
     },
     "execution_count": 312,
     "metadata": {},
     "output_type": "execute_result"
    }
   ],
   "source": [
    "val"
   ]
  },
  {
   "cell_type": "markdown",
   "metadata": {},
   "source": [
    "Eigen values are the same as the ones in Etkin. So the matrix was copy-pasted right in EulerFlatEarth.linearize()"
   ]
  },
  {
   "cell_type": "markdown",
   "metadata": {},
   "source": [
    "# Simplified Cessna: compare response with eigenvalue analysis"
   ]
  },
  {
   "cell_type": "code",
   "execution_count": 313,
   "metadata": {},
   "outputs": [],
   "source": [
    "aircraft = SimplifiedCessna172()"
   ]
  },
  {
   "cell_type": "code",
   "execution_count": 314,
   "metadata": {},
   "outputs": [],
   "source": [
    "atmosphere = ISA1976()\n",
    "gravity = VerticalConstant()\n",
    "wind = NoWind()\n",
    "environment = Environment(atmosphere, gravity, wind)"
   ]
  },
  {
   "cell_type": "code",
   "execution_count": 315,
   "metadata": {},
   "outputs": [],
   "source": [
    "pos = EarthPosition(x=0, y=0, height=1000)\n",
    "psi = 0.5  # rad\n",
    "TAS = 45  # m/s\n",
    "controls0 = {'delta_elevator': 0, 'delta_aileron': 0, 'delta_rudder': 0, 'delta_t': 0.5}\n",
    "trimmed_state, trimmed_controls = steady_state_trim(\n",
    "    aircraft,\n",
    "    environment,\n",
    "    pos,\n",
    "    psi,\n",
    "    TAS,\n",
    "    controls0\n",
    ")\n",
    "environment.update(trimmed_state)"
   ]
  },
  {
   "cell_type": "code",
   "execution_count": 316,
   "metadata": {},
   "outputs": [
    {
     "data": {
      "text/plain": [
       "Aircraft State \n",
       "x_e: 0.00 m, y_e: 0.00 m, z_e: -1000.00 m \n",
       "theta: 0.080 rad, phi: 0.000 rad, psi: 0.500 rad \n",
       "u: 44.86 m/s, v: -0.00 m/s, w: 3.59 m/s \n",
       "P: 0.00 rad/s, Q: 0.00 rad/s, R: 0.00 rad/s \n",
       "u_dot: -0.00 m/s², v_dot: -0.00 m/s², w_dot: -0.00 m/s² \n",
       "P_dot: -0.00 rad/s², Q_dot: -0.00 rad/s², R_dot: -0.00 rad/s² "
      ]
     },
     "execution_count": 316,
     "metadata": {},
     "output_type": "execute_result"
    }
   ],
   "source": [
    "trimmed_state"
   ]
  },
  {
   "cell_type": "code",
   "execution_count": 317,
   "metadata": {
    "collapsed": true
   },
   "outputs": [],
   "source": [
    "system = EulerFlatEarth(t0=0, full_state=trimmed_state)"
   ]
  },
  {
   "cell_type": "code",
   "execution_count": 318,
   "metadata": {},
   "outputs": [],
   "source": [
    "A_long, A_lat = system.linearized_model(trimmed_state, aircraft, environment, trimmed_controls, method=\"from_forces\",eps=1e-10)"
   ]
  },
  {
   "cell_type": "code",
   "execution_count": 319,
   "metadata": {},
   "outputs": [
    {
     "name": "stdout",
     "output_type": "stream",
     "text": [
      "longitudinal eigenvalues : [[-2.61284085+4.04869466j -2.61284085-4.04869466j -0.03452750+0.26286901j\n",
      "  -0.03452750-0.26286901j]]\n"
     ]
    }
   ],
   "source": [
    "long_val, long_vec=nl.eig(A_long)\n",
    "long_val = np.expand_dims(long_val, axis = 0)\n",
    "print(f\"longitudinal eigenvalues : {long_val}\")"
   ]
  },
  {
   "cell_type": "code",
   "execution_count": 320,
   "metadata": {
    "collapsed": true
   },
   "outputs": [],
   "source": [
    "def linear_stab_2_body(long_state=np.zeros(4), lat_state=np.zeros(4), u0=0, theta0=0,alpha0=0, beta0=0):\n",
    "    # velocities\n",
    "    v = wind2body(np.array([long_state[0] + u0, lat_state[0], long_state[1]]), alpha=alpha0, beta=beta0)\n",
    "    # Roll rates\n",
    "    r = wind2body(np.array([lat_state[1], long_state[2], lat_state[2]]), alpha=alpha0, beta=beta0)\n",
    "    # attitude\n",
    "    ang = wind2body4attitude(np.array([long_state[3], lat_state[3], 0]), alpha=alpha0, beta=beta0)\n",
    "    long_stateB = np.copy(long_state)\n",
    "    lat_stateB = np.copy(lat_state)\n",
    "    long_stateB[0] = v[0]\n",
    "    long_stateB[1] = v[2]\n",
    "    long_stateB[2] = r[1]\n",
    "    long_stateB[3] += theta0\n",
    "    lat_stateB[0] = v[1]\n",
    "    lat_stateB[1] = r[0]\n",
    "    lat_stateB[2] = r[2]\n",
    "    return long_stateB.real, lat_stateB.real"
   ]
  },
  {
   "cell_type": "code",
   "execution_count": 321,
   "metadata": {},
   "outputs": [
    {
     "data": {
      "text/plain": [
       "Aircraft State \n",
       "x_e: 0.00 m, y_e: 0.00 m, z_e: -1000.00 m \n",
       "theta: 0.080 rad, phi: 0.000 rad, psi: 0.500 rad \n",
       "u: 44.86 m/s, v: -0.00 m/s, w: 3.59 m/s \n",
       "P: 0.00 rad/s, Q: 0.00 rad/s, R: 0.00 rad/s \n",
       "u_dot: -0.00 m/s², v_dot: -0.00 m/s², w_dot: -0.00 m/s² \n",
       "P_dot: -0.00 rad/s², Q_dot: -0.00 rad/s², R_dot: -0.00 rad/s² "
      ]
     },
     "execution_count": 321,
     "metadata": {},
     "output_type": "execute_result"
    }
   ],
   "source": [
    "trimmed_state"
   ]
  },
  {
   "cell_type": "markdown",
   "metadata": {},
   "source": [
    "## Longitudinal checks"
   ]
  },
  {
   "cell_type": "code",
   "execution_count": 322,
   "metadata": {},
   "outputs": [],
   "source": [
    "from pyfme.utils.coordinates import wind2body, body2wind"
   ]
  },
  {
   "cell_type": "code",
   "execution_count": 323,
   "metadata": {},
   "outputs": [],
   "source": [
    "alpha = np.arctan2(trimmed_state.velocity.w, trimmed_state.velocity.u)\n",
    "u = trimmed_state.velocity.u*1.0"
   ]
  },
  {
   "cell_type": "code",
   "execution_count": 324,
   "metadata": {},
   "outputs": [],
   "source": [
    "perturbation = (long_vec.T[0] + long_vec.T[1])/1000"
   ]
  },
  {
   "cell_type": "markdown",
   "metadata": {},
   "source": [
    "### Eigenvalue approach"
   ]
  },
  {
   "cell_type": "code",
   "execution_count": 325,
   "metadata": {},
   "outputs": [],
   "source": [
    "C = nl.lstsq(a=long_vec,b=perturbation.real)[0].real"
   ]
  },
  {
   "cell_type": "code",
   "execution_count": 326,
   "metadata": {
    "collapsed": true
   },
   "outputs": [],
   "source": [
    "# stability axis\n",
    "u, v, w = body2wind(trimmed_state.velocity.vel_body, alpha, 0)\n",
    "theta0 = trimmed_state.attitude.theta*1.0"
   ]
  },
  {
   "cell_type": "code",
   "execution_count": 327,
   "metadata": {},
   "outputs": [],
   "source": [
    "t = np.linspace(0,3,100)\n",
    "N = len(t)\n",
    "X = np.zeros((N,4))\n",
    "xx = []\n",
    "for i in range(N):\n",
    "    x_stab = (long_vec*np.exp(long_val*t[i])).dot(C)\n",
    "    xx.append(x_stab[1])\n",
    "    X[i,:] = linear_stab_2_body(long_state=x_stab.real, alpha0=alpha, u0=u, theta0 = theta0)[0]"
   ]
  },
  {
   "cell_type": "code",
   "execution_count": 328,
   "metadata": {},
   "outputs": [
    {
     "data": {
      "image/png": "[encoded data removed]",
      "text/plain": [
       "<matplotlib.figure.Figure at 0x2b78385c128>"
      ]
     },
     "metadata": {},
     "output_type": "display_data"
    }
   ],
   "source": [
    "plt.plot(t,X[:,0],'.')\n",
    "plt.show()"
   ]
  },
  {
   "cell_type": "markdown",
   "metadata": {},
   "source": [
    "### Simulation"
   ]
  },
  {
   "cell_type": "code",
   "execution_count": 329,
   "metadata": {
    "collapsed": true
   },
   "outputs": [],
   "source": [
    "from pyfme.utils.input_generator import Constant"
   ]
  },
  {
   "cell_type": "code",
   "execution_count": 330,
   "metadata": {},
   "outputs": [],
   "source": [
    "controls = {\n",
    "    'delta_elevator': Constant(trimmed_controls['delta_elevator']),\n",
    "    'delta_aileron': Constant(trimmed_controls['delta_aileron']),\n",
    "    'delta_rudder': Constant(trimmed_controls['delta_rudder']),\n",
    "    'delta_t': Constant(trimmed_controls['delta_t'])\n",
    "}"
   ]
  },
  {
   "cell_type": "code",
   "execution_count": 331,
   "metadata": {},
   "outputs": [],
   "source": [
    "# Perturbate\n",
    "trimmed_state.cancel_perturbation()\n",
    "p = linear_stab_2_body(long_state=perturbation.real, alpha0=alpha)[0]\n",
    "trimmed_state.perturbate(np.array([p[0],0,p[1]]), 'velocity')\n",
    "trimmed_state.perturbate(np.array([0,p[2],0]), 'angular_vel')\n",
    "trimmed_state.perturbate(np.array([p[3],0,0]), 'attitude') # /!\\ Convention theta, phi, psi"
   ]
  },
  {
   "cell_type": "code",
   "execution_count": 332,
   "metadata": {},
   "outputs": [
    {
     "data": {
      "text/plain": [
       "Aircraft State \n",
       "x_e: 0.00 m, y_e: 0.00 m, z_e: -1000.00 m \n",
       "theta: 0.080 rad, phi: 0.000 rad, psi: 0.500 rad \n",
       "u: 44.86 m/s, v: -0.00 m/s, w: 3.59 m/s \n",
       "P: 0.00 rad/s, Q: -0.00 rad/s, R: 0.00 rad/s \n",
       "u_dot: -0.00 m/s², v_dot: -0.00 m/s², w_dot: -0.00 m/s² \n",
       "P_dot: -0.00 rad/s², Q_dot: -0.00 rad/s², R_dot: -0.00 rad/s² "
      ]
     },
     "execution_count": 332,
     "metadata": {},
     "output_type": "execute_result"
    }
   ],
   "source": [
    "trimmed_state"
   ]
  },
  {
   "cell_type": "code",
   "execution_count": 333,
   "metadata": {},
   "outputs": [
    {
     "data": {
      "text/plain": [
       "array([  4.35247324e-05+0.j,   1.99016773e-03+0.j,  -2.19846816e-05+0.j,\n",
       "         3.52384151e-05+0.j])"
      ]
     },
     "execution_count": 333,
     "metadata": {},
     "output_type": "execute_result"
    }
   ],
   "source": [
    "perturbation"
   ]
  },
  {
   "cell_type": "code",
   "execution_count": 334,
   "metadata": {},
   "outputs": [
    {
     "data": {
      "text/plain": [
       "array([ -1.15502388e-04,   1.98728991e-03,  -2.19846816e-05,\n",
       "         3.52384151e-05])"
      ]
     },
     "execution_count": 334,
     "metadata": {},
     "output_type": "execute_result"
    }
   ],
   "source": [
    "p"
   ]
  },
  {
   "cell_type": "code",
   "execution_count": 335,
   "metadata": {
    "collapsed": true
   },
   "outputs": [],
   "source": [
    "environment.update(trimmed_state)\n",
    "system = EulerFlatEarth(t0=0, full_state=trimmed_state)"
   ]
  },
  {
   "cell_type": "code",
   "execution_count": 336,
   "metadata": {
    "collapsed": true
   },
   "outputs": [],
   "source": [
    "sim = Simulation(aircraft, system, environment, controls)"
   ]
  },
  {
   "cell_type": "code",
   "execution_count": 337,
   "metadata": {},
   "outputs": [
    {
     "name": "stderr",
     "output_type": "stream",
     "text": [
      "time: 100%|████████████████████████████████████████████████████████████▉| 9.999999999999831/10 [00:07<00:00,  1.31it/s]\n"
     ]
    }
   ],
   "source": [
    "r = sim.propagate(10)"
   ]
  },
  {
   "cell_type": "code",
   "execution_count": 338,
   "metadata": {},
   "outputs": [
    {
     "data": {
      "text/plain": [
       "Aircraft State \n",
       "x_e: 0.00 m, y_e: 0.00 m, z_e: -1000.00 m \n",
       "theta: 0.080 rad, phi: 0.000 rad, psi: 0.500 rad \n",
       "u: 44.86 m/s, v: -0.00 m/s, w: 3.59 m/s \n",
       "P: 0.00 rad/s, Q: 0.00 rad/s, R: 0.00 rad/s \n",
       "u_dot: -0.00 m/s², v_dot: -0.00 m/s², w_dot: -0.00 m/s² \n",
       "P_dot: -0.00 rad/s², Q_dot: -0.00 rad/s², R_dot: -0.00 rad/s² "
      ]
     },
     "execution_count": 338,
     "metadata": {},
     "output_type": "execute_result"
    }
   ],
   "source": [
    "trimmed_state.cancel_perturbation()"
   ]
  },
  {
   "cell_type": "code",
   "execution_count": 339,
   "metadata": {},
   "outputs": [
    {
     "data": {
      "text/plain": [
       "2.9988658738488994e-06"
      ]
     },
     "execution_count": 339,
     "metadata": {},
     "output_type": "execute_result"
    }
   ],
   "source": [
    "r.u[0.01] - X[0,0]"
   ]
  },
  {
   "cell_type": "code",
   "execution_count": 340,
   "metadata": {},
   "outputs": [
    {
     "data": {
      "text/plain": [
       "-0.00045841006027558251"
      ]
     },
     "execution_count": 340,
     "metadata": {},
     "output_type": "execute_result"
    }
   ],
   "source": [
    "44.855900 - X[-1,0]"
   ]
  },
  {
   "cell_type": "code",
   "execution_count": 175,
   "metadata": {},
   "outputs": [
    {
     "data": {
      "image/png": "[encoded data removed]",
      "text/plain": [
       "<matplotlib.figure.Figure at 0x1fb1eec76a0>"
      ]
     },
     "metadata": {},
     "output_type": "display_data"
    }
   ],
   "source": [
    "plt.plot(t,X[:,3],'.')\n",
    "plt.plot(r.theta)\n",
    "plt.show()"
   ]
  },
  {
   "cell_type": "code",
   "execution_count": 176,
   "metadata": {},
   "outputs": [
    {
     "data": {
      "text/plain": [
       "Aircraft State \n",
       "x_e: 0.00 m, y_e: 0.00 m, z_e: -1000.00 m \n",
       "theta: 0.080 rad, phi: 0.000 rad, psi: 0.500 rad \n",
       "u: 44.86 m/s, v: -0.00 m/s, w: 3.59 m/s \n",
       "P: 0.00 rad/s, Q: 0.00 rad/s, R: 0.00 rad/s \n",
       "u_dot: -0.00 m/s², v_dot: -0.00 m/s², w_dot: -0.00 m/s² \n",
       "P_dot: -0.00 rad/s², Q_dot: -0.00 rad/s², R_dot: -0.00 rad/s² "
      ]
     },
     "execution_count": 176,
     "metadata": {},
     "output_type": "execute_result"
    }
   ],
   "source": [
    "trimmed_state"
   ]
  },
  {
   "cell_type": "markdown",
   "metadata": {},
   "source": [
    "# Lateral Checks"
   ]
  },
  {
   "cell_type": "code",
   "execution_count": 277,
   "metadata": {},
   "outputs": [
    {
     "name": "stdout",
     "output_type": "stream",
     "text": [
      "[[ -1.20869794e-01  -9.03365248e-02  -4.45371242e+01   9.80665000e+00]\n",
      " [ -7.47735120e-02  -5.52245304e+00   2.23529676e+00   0.00000000e+00]\n",
      " [  2.69453703e-02   1.21841526e-01  -4.29492904e-01   0.00000000e+00]\n",
      " [  0.00000000e+00   1.00000000e+00   0.00000000e+00   0.00000000e+00]]\n"
     ]
    }
   ],
   "source": [
    "print(f\"{A_lat}\")"
   ]
  },
  {
   "cell_type": "code",
   "execution_count": 278,
   "metadata": {},
   "outputs": [
    {
     "name": "stdout",
     "output_type": "stream",
     "text": [
      "lat eigenvalues : [[-5.58724126+0.j         -0.26870849+1.12020645j -0.26870849-1.12020645j\n",
      "   0.05184251+0.j        ]]\n"
     ]
    }
   ],
   "source": [
    "lat_val, lat_vec=nl.eig(A_lat_0)\n",
    "lat_val = np.expand_dims(lat_val, axis = 0)\n",
    "print(f\"lat eigenvalues : {lat_val}\")"
   ]
  },
  {
   "cell_type": "code",
   "execution_count": 279,
   "metadata": {},
   "outputs": [],
   "source": [
    "# # Normalize eigvec to have delta_psi=1\n",
    "# delta_psi = lat_vec[2]/np.cos(theta0)\n",
    "# lat_vec /= delta_psi\n",
    "# print(f\"{lat_vec.T}\")"
   ]
  },
  {
   "cell_type": "code",
   "execution_count": 280,
   "metadata": {},
   "outputs": [],
   "source": [
    "alpha = np.arctan2(trimmed_state.velocity.w, trimmed_state.velocity.u)\n",
    "V = np.sqrt(trimmed_state.velocity.w**2 + trimmed_state.velocity.v**2 + trimmed_state.velocity.u**2)\n",
    "beta = np.arcsin(trimmed_state.velocity.v/V)\n",
    "u = trimmed_state.velocity.u*1.0"
   ]
  },
  {
   "cell_type": "code",
   "execution_count": 281,
   "metadata": {},
   "outputs": [
    {
     "data": {
      "text/plain": [
       "array([[-5.58724126+0.j        , -0.26870849+1.12020645j,\n",
       "        -0.26870849-1.12020645j,  0.05184251+0.j        ]])"
      ]
     },
     "execution_count": 281,
     "metadata": {},
     "output_type": "execute_result"
    }
   ],
   "source": [
    "lat_val"
   ]
  },
  {
   "cell_type": "code",
   "execution_count": 282,
   "metadata": {
    "collapsed": true
   },
   "outputs": [],
   "source": [
    "# perturbation = (lat_vec.T[1] + lat_vec.T[2])/1000\n",
    "perturbation = (lat_vec.T[3])/10000"
   ]
  },
  {
   "cell_type": "markdown",
   "metadata": {},
   "source": [
    "### Eigenvalue approach"
   ]
  },
  {
   "cell_type": "code",
   "execution_count": 283,
   "metadata": {
    "collapsed": true
   },
   "outputs": [],
   "source": [
    "C = nl.lstsq(a=lat_vec,b=perturbation.real)[0].real"
   ]
  },
  {
   "cell_type": "code",
   "execution_count": 284,
   "metadata": {
    "collapsed": true
   },
   "outputs": [],
   "source": [
    "# stability axis\n",
    "u, v, w = body2wind(trimmed_state.velocity.vel_body, alpha, 0)\n",
    "theta0 = trimmed_state.attitude.theta*1.0"
   ]
  },
  {
   "cell_type": "code",
   "execution_count": 285,
   "metadata": {
    "collapsed": true
   },
   "outputs": [],
   "source": [
    "t = np.linspace(0,10,100)\n",
    "N = len(t)\n",
    "X = np.zeros((N,4))\n",
    "xx = []\n",
    "for i in range(N):\n",
    "    x_stab = (lat_vec*np.exp(lat_val*t[i])).dot(C)\n",
    "    xx.append(x_stab[1])\n",
    "    X[i,:] = linear_stab_2_body(lat_state=x_stab.real, beta0=beta, alpha0=alpha, u0=u, theta0 = theta0)[1]"
   ]
  },
  {
   "cell_type": "code",
   "execution_count": 286,
   "metadata": {},
   "outputs": [
    {
     "data": {
      "image/png": "[encoded data removed]",
      "text/plain": [
       "<matplotlib.figure.Figure at 0x2b783767e48>"
      ]
     },
     "metadata": {},
     "output_type": "display_data"
    }
   ],
   "source": [
    "plt.plot(t,X[:,3],'.')\n",
    "plt.show()"
   ]
  },
  {
   "cell_type": "markdown",
   "metadata": {},
   "source": [
    "### Simulation"
   ]
  },
  {
   "cell_type": "code",
   "execution_count": 287,
   "metadata": {
    "collapsed": true
   },
   "outputs": [],
   "source": [
    "from pyfme.utils.input_generator import Constant"
   ]
  },
  {
   "cell_type": "code",
   "execution_count": 288,
   "metadata": {
    "collapsed": true
   },
   "outputs": [],
   "source": [
    "controls = {\n",
    "    'delta_elevator': Constant(trimmed_controls['delta_elevator']),\n",
    "    'delta_aileron': Constant(trimmed_controls['delta_aileron']),\n",
    "    'delta_rudder': Constant(trimmed_controls['delta_rudder']),\n",
    "    'delta_t': Constant(trimmed_controls['delta_t'])\n",
    "}"
   ]
  },
  {
   "cell_type": "code",
   "execution_count": 289,
   "metadata": {},
   "outputs": [],
   "source": [
    "# Perturbate\n",
    "trimmed_state.cancel_perturbation()\n",
    "p = linear_stab_2_body(lat_state=perturbation.real, alpha0=alpha, beta0=beta)[1]\n",
    "trimmed_state.perturbate(np.array([0,p[0],0]), 'velocity')\n",
    "trimmed_state.perturbate(np.array([p[1],0,p[2]]), 'angular_vel')\n",
    "trimmed_state.perturbate(np.array([0,p[3],0]), 'attitude') # /!\\ Convention theta, phi, psi"
   ]
  },
  {
   "cell_type": "code",
   "execution_count": 290,
   "metadata": {},
   "outputs": [
    {
     "data": {
      "text/plain": [
       "Aircraft State \n",
       "x_e: 0.00 m, y_e: 0.00 m, z_e: -1000.00 m \n",
       "theta: 0.080 rad, phi: 0.000 rad, psi: 0.500 rad \n",
       "u: 44.86 m/s, v: 0.00 m/s, w: 3.59 m/s \n",
       "P: 0.00 rad/s, Q: 0.00 rad/s, R: 0.00 rad/s \n",
       "u_dot: -0.00 m/s², v_dot: -0.00 m/s², w_dot: -0.00 m/s² \n",
       "P_dot: -0.00 rad/s², Q_dot: -0.00 rad/s², R_dot: -0.00 rad/s² "
      ]
     },
     "execution_count": 290,
     "metadata": {},
     "output_type": "execute_result"
    }
   ],
   "source": [
    "trimmed_state"
   ]
  },
  {
   "cell_type": "code",
   "execution_count": 291,
   "metadata": {},
   "outputs": [
    {
     "data": {
      "text/plain": [
       "array([  9.60060356e-05,   5.13657549e-07,   5.67794858e-06,\n",
       "         2.73923016e-05])"
      ]
     },
     "execution_count": 291,
     "metadata": {},
     "output_type": "execute_result"
    }
   ],
   "source": [
    "p"
   ]
  },
  {
   "cell_type": "code",
   "execution_count": 292,
   "metadata": {
    "collapsed": true
   },
   "outputs": [],
   "source": [
    "environment.update(trimmed_state)\n",
    "system = EulerFlatEarth(t0=0, full_state=trimmed_state)"
   ]
  },
  {
   "cell_type": "code",
   "execution_count": 293,
   "metadata": {
    "collapsed": true
   },
   "outputs": [],
   "source": [
    "sim = Simulation(aircraft, system, environment, controls)"
   ]
  },
  {
   "cell_type": "code",
   "execution_count": 294,
   "metadata": {},
   "outputs": [
    {
     "name": "stderr",
     "output_type": "stream",
     "text": [
      "time: 100%|████████████████████████████████████████████████████████████▉| 9.999999999999831/10 [00:06<00:00,  1.64it/s]\n"
     ]
    }
   ],
   "source": [
    "r = sim.propagate(10)"
   ]
  },
  {
   "cell_type": "code",
   "execution_count": 295,
   "metadata": {},
   "outputs": [
    {
     "data": {
      "text/plain": [
       "Aircraft State \n",
       "x_e: 0.00 m, y_e: 0.00 m, z_e: -1000.00 m \n",
       "theta: 0.080 rad, phi: 0.000 rad, psi: 0.500 rad \n",
       "u: 44.86 m/s, v: -0.00 m/s, w: 3.59 m/s \n",
       "P: 0.00 rad/s, Q: 0.00 rad/s, R: 0.00 rad/s \n",
       "u_dot: -0.00 m/s², v_dot: -0.00 m/s², w_dot: -0.00 m/s² \n",
       "P_dot: -0.00 rad/s², Q_dot: -0.00 rad/s², R_dot: -0.00 rad/s² "
      ]
     },
     "execution_count": 295,
     "metadata": {},
     "output_type": "execute_result"
    }
   ],
   "source": [
    "trimmed_state.cancel_perturbation()"
   ]
  },
  {
   "cell_type": "markdown",
   "metadata": {},
   "source": [
    "plt.plot(r2.r)\n",
    "plt.show()"
   ]
  },
  {
   "cell_type": "code",
   "execution_count": 296,
   "metadata": {},
   "outputs": [
    {
     "data": {
      "image/png": "[encoded data removed]",
      "text/plain": [
       "<matplotlib.figure.Figure at 0x2b7837d2da0>"
      ]
     },
     "metadata": {},
     "output_type": "display_data"
    }
   ],
   "source": [
    "plt.plot(t,X[:,2],'.')\n",
    "plt.plot(r.r)\n",
    "plt.show()"
   ]
  },
  {
   "cell_type": "code",
   "execution_count": 200,
   "metadata": {},
   "outputs": [
    {
     "data": {
      "text/plain": [
       "Aircraft State \n",
       "x_e: 0.00 m, y_e: 0.00 m, z_e: -1000.00 m \n",
       "theta: 0.080 rad, phi: 0.000 rad, psi: 0.500 rad \n",
       "u: 44.86 m/s, v: -0.00 m/s, w: 3.59 m/s \n",
       "P: 0.00 rad/s, Q: 0.00 rad/s, R: 0.00 rad/s \n",
       "u_dot: -0.00 m/s², v_dot: -0.00 m/s², w_dot: -0.00 m/s² \n",
       "P_dot: -0.00 rad/s², Q_dot: -0.00 rad/s², R_dot: -0.00 rad/s² "
      ]
     },
     "execution_count": 200,
     "metadata": {},
     "output_type": "execute_result"
    }
   ],
   "source": [
    "trimmed_state"
   ]
  },
  {
   "cell_type": "code",
   "execution_count": 201,
   "metadata": {},
   "outputs": [
    {
     "data": {
      "text/plain": [
       "array([[-5.54556785+0.j        , -0.24930832+1.12369875j,\n",
       "        -0.24930832-1.12369875j,  0.03752870+0.j        ]])"
      ]
     },
     "execution_count": 201,
     "metadata": {},
     "output_type": "execute_result"
    }
   ],
   "source": [
    "lat_val"
   ]
  },
  {
   "cell_type": "code",
   "execution_count": 202,
   "metadata": {},
   "outputs": [
    {
     "data": {
      "text/plain": [
       "array([ 0.43547942+0.j,  0.88576915+0.j,  0.01607544+0.j, -0.15972560+0.j])"
      ]
     },
     "execution_count": 202,
     "metadata": {},
     "output_type": "execute_result"
    }
   ],
   "source": [
    "lat_vec.T[0]"
   ]
  },
  {
   "cell_type": "code",
   "execution_count": 43,
   "metadata": {},
   "outputs": [
    {
     "data": {
      "text/plain": [
       "0.0"
      ]
     },
     "execution_count": 43,
     "metadata": {},
     "output_type": "execute_result"
    }
   ],
   "source": [
    "trimmed_state.angular_vel."
   ]
  },
  {
   "cell_type": "code",
   "execution_count": 269,
   "metadata": {},
   "outputs": [],
   "source": [
    "A_long, A_lat = system.linearized_model(aircraft=aircraft, environment=environment, controls=trimmed_controls, state=trimmed_state, method='from_forces',eps=1e-5)"
   ]
  },
  {
   "cell_type": "code",
   "execution_count": 276,
   "metadata": {},
   "outputs": [
    {
     "name": "stdout",
     "output_type": "stream",
     "text": [
      "> c:\\users\\jean\\box sync\\recherche\\aeropython\\pyfme\\pyfme\\src\\pyfme\\models\\euler_flat_earth.py(240)linearized_model()\n",
      "-> derivatives[keyword][i][\"acceleration\"] = (accel_p - accel_m)/eps\n",
      "(Pdb) eps_vec\n",
      "array([ -4.98403983e-06,   4.54327588e-19,  -3.99182908e-07])\n",
      "(Pdb) angle_der_p\n",
      "array([  2.90510260e-21,   5.03197145e-06,  -1.27828591e-09])\n",
      "(Pdb) angle_der_m\n",
      "array([ -2.90510260e-21,  -5.03197145e-06,   1.27828591e-09])\n",
      "(Pdb) (angle_der_p - angle_der_m)/eps\n",
      "array([  5.81020520e-16,   1.00639429e+00,  -2.55657183e-04])\n",
      "(Pdb) body2wind4attitude(np.array([  5.81020520e-16,   1.00639429e+00,  -2.55657183e-04]), alpha,0)\n",
      "array([  5.81020520e-16,   1.00316143e+00,  -8.06019209e-02])\n",
      "(Pdb) body2wind(np.array([  5.81020520e-16,   1.00639429e+00,  -2.55657183e-04]), alpha,0)\n",
      "array([ -2.04107955e-05,   1.00639429e+00,  -2.54841116e-04])\n",
      "(Pdb) body2wind(np.array([  5.81020520e-16,  -2.55657183e-04,   1.00639429e+00]), alpha,0)\n",
      "array([  8.03470798e-02,  -2.55657183e-04,   1.00318184e+00])\n",
      "(Pdb) body2wind(np.array([1.00639429e+00,  5.81020520e-16,  -2.55657183e-04]), alpha,0)\n",
      "array([  1.00316143e+00,   5.81020520e-16,  -8.06019209e-02])\n",
      "(Pdb) body2wind4attitude(np.array([  5.81020520e-16,   1.00639429e+00,  -2.55657183e-04]), alpha,0)\n",
      "array([  5.81020520e-16,   1.00316143e+00,  -8.06019209e-02])\n",
      "(Pdb) body2wind4attitude(np.array([  5.81020520e-16,   1.00316143e+00,  -8.06019209e-02]), alpha,0)\n",
      "array([  5.81020520e-16,   9.93524322e-01,  -1.60433616e-01])\n",
      "(Pdb) q\n"
     ]
    },
    {
     "ename": "BdbQuit",
     "evalue": "",
     "output_type": "error",
     "traceback": [
      "\u001b[1;31m---------------------------------------------------------------------------\u001b[0m",
      "\u001b[1;31mBdbQuit\u001b[0m                                   Traceback (most recent call last)",
      "\u001b[1;32m<ipython-input-276-876366858f37>\u001b[0m in \u001b[0;36m<module>\u001b[1;34m()\u001b[0m\n\u001b[1;32m----> 1\u001b[1;33m \u001b[0mA_long_0\u001b[0m\u001b[1;33m,\u001b[0m \u001b[0mA_lat_0\u001b[0m \u001b[1;33m=\u001b[0m \u001b[0msystem\u001b[0m\u001b[1;33m.\u001b[0m\u001b[0mlinearized_model\u001b[0m\u001b[1;33m(\u001b[0m\u001b[0maircraft\u001b[0m\u001b[1;33m=\u001b[0m\u001b[0maircraft\u001b[0m\u001b[1;33m,\u001b[0m \u001b[0menvironment\u001b[0m\u001b[1;33m=\u001b[0m\u001b[0menvironment\u001b[0m\u001b[1;33m,\u001b[0m \u001b[0mcontrols\u001b[0m\u001b[1;33m=\u001b[0m\u001b[0mtrimmed_controls\u001b[0m\u001b[1;33m,\u001b[0m \u001b[0mstate\u001b[0m\u001b[1;33m=\u001b[0m\u001b[0mtrimmed_state\u001b[0m\u001b[1;33m,\u001b[0m \u001b[0mmethod\u001b[0m\u001b[1;33m=\u001b[0m\u001b[1;34m'direct'\u001b[0m\u001b[1;33m,\u001b[0m\u001b[0meps\u001b[0m\u001b[1;33m=\u001b[0m\u001b[1;36m1e-5\u001b[0m\u001b[1;33m)\u001b[0m\u001b[1;33m\u001b[0m\u001b[0m\n\u001b[0m",
      "\u001b[1;32mc:\\users\\jean\\box sync\\recherche\\aeropython\\pyfme\\pyfme\\src\\pyfme\\models\\euler_flat_earth.py\u001b[0m in \u001b[0;36mlinearized_model\u001b[1;34m(self, state, aircraft, environment, controls, method, eps)\u001b[0m\n\u001b[0;32m    238\u001b[0m                         \u001b[0mpdb\u001b[0m\u001b[1;33m.\u001b[0m\u001b[0mset_trace\u001b[0m\u001b[1;33m(\u001b[0m\u001b[1;33m)\u001b[0m\u001b[1;33m\u001b[0m\u001b[0m\n\u001b[0;32m    239\u001b[0m \u001b[1;33m\u001b[0m\u001b[0m\n\u001b[1;32m--> 240\u001b[1;33m                     \u001b[0mderivatives\u001b[0m\u001b[1;33m[\u001b[0m\u001b[0mkeyword\u001b[0m\u001b[1;33m]\u001b[0m\u001b[1;33m[\u001b[0m\u001b[0mi\u001b[0m\u001b[1;33m]\u001b[0m\u001b[1;33m[\u001b[0m\u001b[1;34m\"acceleration\"\u001b[0m\u001b[1;33m]\u001b[0m \u001b[1;33m=\u001b[0m \u001b[1;33m(\u001b[0m\u001b[0maccel_p\u001b[0m \u001b[1;33m-\u001b[0m \u001b[0maccel_m\u001b[0m\u001b[1;33m)\u001b[0m\u001b[1;33m/\u001b[0m\u001b[0meps\u001b[0m\u001b[1;33m\u001b[0m\u001b[0m\n\u001b[0m\u001b[0;32m    241\u001b[0m                     \u001b[0mderivatives\u001b[0m\u001b[1;33m[\u001b[0m\u001b[0mkeyword\u001b[0m\u001b[1;33m]\u001b[0m\u001b[1;33m[\u001b[0m\u001b[0mi\u001b[0m\u001b[1;33m]\u001b[0m\u001b[1;33m[\u001b[0m\u001b[1;34m\"angular_accel\"\u001b[0m\u001b[1;33m]\u001b[0m \u001b[1;33m=\u001b[0m \u001b[1;33m(\u001b[0m\u001b[0mang_accel_p\u001b[0m \u001b[1;33m-\u001b[0m \u001b[0mang_accel_m\u001b[0m\u001b[1;33m)\u001b[0m\u001b[1;33m/\u001b[0m\u001b[0meps\u001b[0m\u001b[1;33m\u001b[0m\u001b[0m\n\u001b[0;32m    242\u001b[0m                     \u001b[0mderivatives\u001b[0m\u001b[1;33m[\u001b[0m\u001b[0mkeyword\u001b[0m\u001b[1;33m]\u001b[0m\u001b[1;33m[\u001b[0m\u001b[0mi\u001b[0m\u001b[1;33m]\u001b[0m\u001b[1;33m[\u001b[0m\u001b[1;34m\"angle_der\"\u001b[0m\u001b[1;33m]\u001b[0m \u001b[1;33m=\u001b[0m \u001b[1;33m(\u001b[0m\u001b[0mangle_der_p\u001b[0m \u001b[1;33m-\u001b[0m \u001b[0mangle_der_m\u001b[0m\u001b[1;33m)\u001b[0m\u001b[1;33m/\u001b[0m\u001b[0meps\u001b[0m\u001b[1;33m\u001b[0m\u001b[0m\n",
      "\u001b[1;32mc:\\users\\jean\\box sync\\recherche\\aeropython\\pyfme\\pyfme\\src\\pyfme\\models\\euler_flat_earth.py\u001b[0m in \u001b[0;36mlinearized_model\u001b[1;34m(self, state, aircraft, environment, controls, method, eps)\u001b[0m\n\u001b[0;32m    238\u001b[0m                         \u001b[0mpdb\u001b[0m\u001b[1;33m.\u001b[0m\u001b[0mset_trace\u001b[0m\u001b[1;33m(\u001b[0m\u001b[1;33m)\u001b[0m\u001b[1;33m\u001b[0m\u001b[0m\n\u001b[0;32m    239\u001b[0m \u001b[1;33m\u001b[0m\u001b[0m\n\u001b[1;32m--> 240\u001b[1;33m                     \u001b[0mderivatives\u001b[0m\u001b[1;33m[\u001b[0m\u001b[0mkeyword\u001b[0m\u001b[1;33m]\u001b[0m\u001b[1;33m[\u001b[0m\u001b[0mi\u001b[0m\u001b[1;33m]\u001b[0m\u001b[1;33m[\u001b[0m\u001b[1;34m\"acceleration\"\u001b[0m\u001b[1;33m]\u001b[0m \u001b[1;33m=\u001b[0m \u001b[1;33m(\u001b[0m\u001b[0maccel_p\u001b[0m \u001b[1;33m-\u001b[0m \u001b[0maccel_m\u001b[0m\u001b[1;33m)\u001b[0m\u001b[1;33m/\u001b[0m\u001b[0meps\u001b[0m\u001b[1;33m\u001b[0m\u001b[0m\n\u001b[0m\u001b[0;32m    241\u001b[0m                     \u001b[0mderivatives\u001b[0m\u001b[1;33m[\u001b[0m\u001b[0mkeyword\u001b[0m\u001b[1;33m]\u001b[0m\u001b[1;33m[\u001b[0m\u001b[0mi\u001b[0m\u001b[1;33m]\u001b[0m\u001b[1;33m[\u001b[0m\u001b[1;34m\"angular_accel\"\u001b[0m\u001b[1;33m]\u001b[0m \u001b[1;33m=\u001b[0m \u001b[1;33m(\u001b[0m\u001b[0mang_accel_p\u001b[0m \u001b[1;33m-\u001b[0m \u001b[0mang_accel_m\u001b[0m\u001b[1;33m)\u001b[0m\u001b[1;33m/\u001b[0m\u001b[0meps\u001b[0m\u001b[1;33m\u001b[0m\u001b[0m\n\u001b[0;32m    242\u001b[0m                     \u001b[0mderivatives\u001b[0m\u001b[1;33m[\u001b[0m\u001b[0mkeyword\u001b[0m\u001b[1;33m]\u001b[0m\u001b[1;33m[\u001b[0m\u001b[0mi\u001b[0m\u001b[1;33m]\u001b[0m\u001b[1;33m[\u001b[0m\u001b[1;34m\"angle_der\"\u001b[0m\u001b[1;33m]\u001b[0m \u001b[1;33m=\u001b[0m \u001b[1;33m(\u001b[0m\u001b[0mangle_der_p\u001b[0m \u001b[1;33m-\u001b[0m \u001b[0mangle_der_m\u001b[0m\u001b[1;33m)\u001b[0m\u001b[1;33m/\u001b[0m\u001b[0meps\u001b[0m\u001b[1;33m\u001b[0m\u001b[0m\n",
      "\u001b[1;32mC:\\ProgramData\\Anaconda3\\lib\\bdb.py\u001b[0m in \u001b[0;36mtrace_dispatch\u001b[1;34m(self, frame, event, arg)\u001b[0m\n\u001b[0;32m     46\u001b[0m             \u001b[1;32mreturn\u001b[0m \u001b[1;31m# None\u001b[0m\u001b[1;33m\u001b[0m\u001b[0m\n\u001b[0;32m     47\u001b[0m         \u001b[1;32mif\u001b[0m \u001b[0mevent\u001b[0m \u001b[1;33m==\u001b[0m \u001b[1;34m'line'\u001b[0m\u001b[1;33m:\u001b[0m\u001b[1;33m\u001b[0m\u001b[0m\n\u001b[1;32m---> 48\u001b[1;33m             \u001b[1;32mreturn\u001b[0m \u001b[0mself\u001b[0m\u001b[1;33m.\u001b[0m\u001b[0mdispatch_line\u001b[0m\u001b[1;33m(\u001b[0m\u001b[0mframe\u001b[0m\u001b[1;33m)\u001b[0m\u001b[1;33m\u001b[0m\u001b[0m\n\u001b[0m\u001b[0;32m     49\u001b[0m         \u001b[1;32mif\u001b[0m \u001b[0mevent\u001b[0m \u001b[1;33m==\u001b[0m \u001b[1;34m'call'\u001b[0m\u001b[1;33m:\u001b[0m\u001b[1;33m\u001b[0m\u001b[0m\n\u001b[0;32m     50\u001b[0m             \u001b[1;32mreturn\u001b[0m \u001b[0mself\u001b[0m\u001b[1;33m.\u001b[0m\u001b[0mdispatch_call\u001b[0m\u001b[1;33m(\u001b[0m\u001b[0mframe\u001b[0m\u001b[1;33m,\u001b[0m \u001b[0marg\u001b[0m\u001b[1;33m)\u001b[0m\u001b[1;33m\u001b[0m\u001b[0m\n",
      "\u001b[1;32mC:\\ProgramData\\Anaconda3\\lib\\bdb.py\u001b[0m in \u001b[0;36mdispatch_line\u001b[1;34m(self, frame)\u001b[0m\n\u001b[0;32m     65\u001b[0m         \u001b[1;32mif\u001b[0m \u001b[0mself\u001b[0m\u001b[1;33m.\u001b[0m\u001b[0mstop_here\u001b[0m\u001b[1;33m(\u001b[0m\u001b[0mframe\u001b[0m\u001b[1;33m)\u001b[0m \u001b[1;32mor\u001b[0m \u001b[0mself\u001b[0m\u001b[1;33m.\u001b[0m\u001b[0mbreak_here\u001b[0m\u001b[1;33m(\u001b[0m\u001b[0mframe\u001b[0m\u001b[1;33m)\u001b[0m\u001b[1;33m:\u001b[0m\u001b[1;33m\u001b[0m\u001b[0m\n\u001b[0;32m     66\u001b[0m             \u001b[0mself\u001b[0m\u001b[1;33m.\u001b[0m\u001b[0muser_line\u001b[0m\u001b[1;33m(\u001b[0m\u001b[0mframe\u001b[0m\u001b[1;33m)\u001b[0m\u001b[1;33m\u001b[0m\u001b[0m\n\u001b[1;32m---> 67\u001b[1;33m             \u001b[1;32mif\u001b[0m \u001b[0mself\u001b[0m\u001b[1;33m.\u001b[0m\u001b[0mquitting\u001b[0m\u001b[1;33m:\u001b[0m \u001b[1;32mraise\u001b[0m \u001b[0mBdbQuit\u001b[0m\u001b[1;33m\u001b[0m\u001b[0m\n\u001b[0m\u001b[0;32m     68\u001b[0m         \u001b[1;32mreturn\u001b[0m \u001b[0mself\u001b[0m\u001b[1;33m.\u001b[0m\u001b[0mtrace_dispatch\u001b[0m\u001b[1;33m\u001b[0m\u001b[0m\n\u001b[0;32m     69\u001b[0m \u001b[1;33m\u001b[0m\u001b[0m\n",
      "\u001b[1;31mBdbQuit\u001b[0m: "
     ]
    }
   ],
   "source": [
    "A_long_0, A_lat_0 = system.linearized_model(aircraft=aircraft, environment=environment, controls=trimmed_controls, state=trimmed_state, method='direct',eps=1e-5)"
   ]
  },
  {
   "cell_type": "code",
   "execution_count": 271,
   "metadata": {},
   "outputs": [
    {
     "data": {
      "text/plain": [
       "array([[ -1.20869794e-01,  -9.03365248e-02,  -4.45371242e+01,\n",
       "          9.74414359e+00],\n",
       "       [ -7.47735120e-02,  -5.52245304e+00,   2.23529676e+00,\n",
       "          0.00000000e+00],\n",
       "       [  2.69453703e-02,   1.21841526e-01,  -4.29492904e-01,\n",
       "          0.00000000e+00],\n",
       "       [  0.00000000e+00,   1.00639429e+00,   7.98365815e-02,\n",
       "          0.00000000e+00]])"
      ]
     },
     "execution_count": 271,
     "metadata": {},
     "output_type": "execute_result"
    }
   ],
   "source": [
    "A_lat_0"
   ]
  },
  {
   "cell_type": "code",
   "execution_count": 272,
   "metadata": {},
   "outputs": [
    {
     "data": {
      "text/plain": [
       "array([[ -1.20869794e-01,  -9.03365248e-02,  -4.45371242e+01,\n",
       "          9.80665000e+00],\n",
       "       [ -7.47735120e-02,  -5.52245304e+00,   2.23529676e+00,\n",
       "          0.00000000e+00],\n",
       "       [  2.69453703e-02,   1.21841526e-01,  -4.29492904e-01,\n",
       "          0.00000000e+00],\n",
       "       [  0.00000000e+00,   1.00000000e+00,   0.00000000e+00,\n",
       "          0.00000000e+00]])"
      ]
     },
     "execution_count": 272,
     "metadata": {},
     "output_type": "execute_result"
    }
   ],
   "source": [
    "A_lat"
   ]
  },
  {
   "cell_type": "code",
   "execution_count": 234,
   "metadata": {},
   "outputs": [
    {
     "data": {
      "text/plain": [
       "array([[ -1.38777878e-17,  -8.18789481e-16,   7.10542736e-15,\n",
       "         -6.25064079e-02],\n",
       "       [ -1.38777878e-17,   8.88178420e-16,  -4.44089210e-16,\n",
       "          0.00000000e+00],\n",
       "       [ -6.93889390e-18,   8.32667268e-17,   1.11022302e-16,\n",
       "          0.00000000e+00],\n",
       "       [  0.00000000e+00,  -6.39429055e-03,  -7.98365815e-02,\n",
       "          0.00000000e+00]])"
      ]
     },
     "execution_count": 234,
     "metadata": {},
     "output_type": "execute_result"
    }
   ],
   "source": [
    "A_lat_0 - A_lat"
   ]
  },
  {
   "cell_type": "code",
   "execution_count": 273,
   "metadata": {},
   "outputs": [
    {
     "data": {
      "text/plain": [
       "array([[  0.00000000e+00,   2.77555756e-17,   1.03506245e-01,\n",
       "         -3.16067172e-11],\n",
       "       [ -5.55111512e-17,   4.44089210e-16,   1.42108547e-14,\n",
       "          4.71280662e-11],\n",
       "       [  9.50501660e-24,   0.00000000e+00,   0.00000000e+00,\n",
       "          0.00000000e+00],\n",
       "       [  0.00000000e+00,   0.00000000e+00,   0.00000000e+00,\n",
       "          0.00000000e+00]])"
      ]
     },
     "execution_count": 273,
     "metadata": {},
     "output_type": "execute_result"
    }
   ],
   "source": [
    "A_long - A_long_0"
   ]
  },
  {
   "cell_type": "code",
   "execution_count": 129,
   "metadata": {},
   "outputs": [
    {
     "data": {
      "text/plain": [
       "9.775346835682555"
      ]
     },
     "execution_count": 129,
     "metadata": {},
     "output_type": "execute_result"
    }
   ],
   "source": [
    "environment.gravity.magnitude*np.cos(trimmed_state.attitude.theta)"
   ]
  },
  {
   "cell_type": "code",
   "execution_count": 125,
   "metadata": {},
   "outputs": [
    {
     "data": {
      "text/plain": [
       "(array([-5.58715768+0.j        , -0.26874702+1.12000709j,\n",
       "        -0.26874702-1.12000709j,  0.05183599+0.j        ]),\n",
       " array([[ 0.13423245+0.j        , -0.99952523+0.j        ,\n",
       "         -0.99952523-0.j        ,  0.96028912+0.j        ],\n",
       "        [ 0.97522803+0.j        ,  0.01451373+0.00631349j,\n",
       "          0.01451373-0.00631349j,  0.00965591+0.j        ],\n",
       "        [-0.02373947+0.j        , -0.00248660+0.02211101j,\n",
       "         -0.00248660-0.02211101j,  0.05620240+0.j        ],\n",
       "        [-0.17420784+0.j        ,  0.00392540-0.01372269j,\n",
       "          0.00392540+0.01372269j,  0.27311694+0.j        ]]))"
      ]
     },
     "execution_count": 125,
     "metadata": {},
     "output_type": "execute_result"
    }
   ],
   "source": [
    "nl.eig(A_lat)"
   ]
  },
  {
   "cell_type": "code",
   "execution_count": 128,
   "metadata": {},
   "outputs": [
    {
     "data": {
      "text/plain": [
       "0.080092238714312633"
      ]
     },
     "execution_count": 128,
     "metadata": {},
     "output_type": "execute_result"
    }
   ],
   "source": [
    "np.tan(trimmed_state.attitude.theta)"
   ]
  },
  {
   "cell_type": "code",
   "execution_count": 126,
   "metadata": {},
   "outputs": [
    {
     "data": {
      "text/plain": [
       "(array([-5.58729250+0.j        , -0.26146804+1.11833184j,\n",
       "        -0.26146804-1.11833184j,  0.03741285+0.j        ]),\n",
       " array([[ 0.13571992+0.j        , -0.99953297+0.j        ,\n",
       "         -0.99953297-0.j        ,  0.95819774+0.j        ],\n",
       "        [ 0.97487327+0.j        ,  0.01443260+0.00632829j,\n",
       "          0.01443260-0.00632829j,  0.01044092+0.j        ],\n",
       "        [-0.02373824+0.j        , -0.00263322+0.02211495j,\n",
       "         -0.00263322-0.02211495j,  0.05802270+0.j        ],\n",
       "        [-0.17503917+0.j        ,  0.00251248-0.01353422j,\n",
       "          0.00251248+0.01353422j,  0.27996688+0.j        ]]))"
      ]
     },
     "execution_count": 126,
     "metadata": {},
     "output_type": "execute_result"
    }
   ],
   "source": [
    "nl.eig(A_lat_0)"
   ]
  },
  {
   "cell_type": "code",
   "execution_count": 273,
   "metadata": {},
   "outputs": [
    {
     "data": {
      "text/plain": [
       "{'Lp': -7133.328546452819,\n",
       " 'Lq': -1.4654173893683747e-10,\n",
       " 'Lr': 2845.5233748002283,\n",
       " 'Lu': -1.6283778605817378e-13,\n",
       " 'Lv': -93.803403491876296,\n",
       " 'Lw': 6.9671154216072033e-11,\n",
       " 'Lw_dot': 0.0,\n",
       " 'Mp': -1.4695971056655402e-10,\n",
       " 'Mq': -5632.7295473571803,\n",
       " 'Mr': 2.7867357756854979e-10,\n",
       " 'Mu': -2.0745923501323575e-10,\n",
       " 'Mv': -9.186545529766439e-12,\n",
       " 'Mw': -707.13949139512761,\n",
       " 'Mw_dot': 0.0,\n",
       " 'Np': -283.31950651682462,\n",
       " 'Nq': -2.2527993262196244e-11,\n",
       " 'Nr': -895.86253976691603,\n",
       " 'Nu': -1.7233602342481363e-12,\n",
       " 'Nv': 63.401932933491914,\n",
       " 'Nw': 5.2206376490114745e-12,\n",
       " 'Nw_dot': 0.0,\n",
       " 'Xp': 9.229755496128686e-12,\n",
       " 'Xq': -107.9840910856487,\n",
       " 'Xr': -4.7292397320312929e-11,\n",
       " 'Xu': -81.920634160969684,\n",
       " 'Xv': -1.0097458080175065e-10,\n",
       " 'Xw': 117.92566393514095,\n",
       " 'Xw_dot': 0.0,\n",
       " 'Yp': -94.24462738878492,\n",
       " 'Yq': -9.2148511043887993e-12,\n",
       " 'Yr': 482.90054315893724,\n",
       " 'Yu': -8.1046280797636427e-12,\n",
       " 'Yv': -126.09881477888743,\n",
       " 'Yw': 2.2093438190040615e-11,\n",
       " 'Yw_dot': 0.0,\n",
       " 'Zp': 0.0,\n",
       " 'Zq': -2203.4392987106062,\n",
       " 'Zr': 0.0,\n",
       " 'Zu': -448.14552058005893,\n",
       " 'Zv': 9.0763688408092465e-12,\n",
       " 'Zw': -2221.7928894651527,\n",
       " 'Zw_dot': 0.0}"
      ]
     },
     "execution_count": 273,
     "metadata": {},
     "output_type": "execute_result"
    }
   ],
   "source": [
    "aircraft.calculate_derivatives(trimmed_state, environment, trimmed_controls)"
   ]
  }
 ],
 "metadata": {
  "kernelspec": {
   "display_name": "Python 3",
   "language": "python",
   "name": "python3"
  }
 },
 "nbformat": 4,
 "nbformat_minor": 2
}
