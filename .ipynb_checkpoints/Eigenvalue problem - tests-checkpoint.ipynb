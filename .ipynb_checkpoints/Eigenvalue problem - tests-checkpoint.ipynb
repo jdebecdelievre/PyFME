{
 "cells": [
  {
   "cell_type": "markdown",
   "metadata": {},
   "source": [
    "# Python Flight Mechanics Engine "
   ]
  },
  {
   "cell_type": "code",
   "execution_count": 55,
   "metadata": {
    "collapsed": true
   },
   "outputs": [],
   "source": [
    "from pyfme.aircrafts import LinearB747, SimplifiedCessna172\n",
    "from pyfme.models import EulerFlatEarth\n",
    "import numpy as np\n",
    "nl = np.linalg\n",
    "import matplotlib.pyplot as plt\n",
    "from pyfme.environment.atmosphere import ISA1976\n",
    "from pyfme.environment.wind import NoWind\n",
    "from pyfme.environment.gravity import VerticalConstant\n",
    "from pyfme.environment import Environment\n",
    "from pyfme.utils.trimmer import steady_state_trim\n",
    "from pyfme.models.state.position import EarthPosition\n",
    "from pyfme.simulator import Simulation\n",
    "from pyfme.models import EulerFlatEarth"
   ]
  },
  {
   "cell_type": "code",
   "execution_count": 2,
   "metadata": {},
   "outputs": [],
   "source": [
    "%load_ext autoreload\n",
    "%autoreload 2"
   ]
  },
  {
   "cell_type": "markdown",
   "metadata": {},
   "source": [
    "# Test on Boeing"
   ]
  },
  {
   "cell_type": "code",
   "execution_count": 3,
   "metadata": {
    "collapsed": true
   },
   "outputs": [],
   "source": [
    "aircraft = LinearB747()"
   ]
  },
  {
   "cell_type": "code",
   "execution_count": 4,
   "metadata": {},
   "outputs": [
    {
     "name": "stdout",
     "output_type": "stream",
     "text": [
      "Aircraft mass: 288660.5504587156 kg\n",
      "Aircraft inertia tensor: \n",
      " [[ 24700000.         0.  -2120000.]\n",
      " [        0.  44900000.         0.]\n",
      " [ -2120000.         0.  67300000.]] kg/m²\n"
     ]
    }
   ],
   "source": [
    "print(f\"Aircraft mass: {aircraft.mass} kg\")\n",
    "print(f\"Aircraft inertia tensor: \\n {aircraft.inertia} kg/m²\")"
   ]
  },
  {
   "cell_type": "code",
   "execution_count": 5,
   "metadata": {
    "collapsed": true
   },
   "outputs": [],
   "source": [
    "state, environment = aircraft.trimmed_conditions()"
   ]
  },
  {
   "cell_type": "code",
   "execution_count": 6,
   "metadata": {
    "collapsed": true
   },
   "outputs": [],
   "source": [
    "system = EulerFlatEarth(t0=0, full_state=state)"
   ]
  },
  {
   "cell_type": "code",
   "execution_count": 7,
   "metadata": {},
   "outputs": [],
   "source": [
    "A_long, A_lat = system.linearized_model(state, aircraft, environment, None)"
   ]
  },
  {
   "cell_type": "code",
   "execution_count": 8,
   "metadata": {},
   "outputs": [
    {
     "name": "stdout",
     "output_type": "stream",
     "text": [
      "[[ -6.86619629e-03   1.39437135e-02   0.00000000e+00  -9.80665000e+00]\n",
      " [ -9.04964592e-02  -3.14906754e-01   2.35892792e+02  -0.00000000e+00]\n",
      " [  3.89092422e-04  -3.36169904e-03  -4.28171388e-01   0.00000000e+00]\n",
      " [  0.00000000e+00   0.00000000e+00   1.00000000e+00   0.00000000e+00]]\n"
     ]
    }
   ],
   "source": [
    "print(f\"{A_long}\")"
   ]
  },
  {
   "cell_type": "code",
   "execution_count": 9,
   "metadata": {
    "collapsed": true
   },
   "outputs": [],
   "source": [
    "d = aircraft.calculate_derivatives(None, None, None)"
   ]
  },
  {
   "cell_type": "code",
   "execution_count": 10,
   "metadata": {
    "collapsed": true
   },
   "outputs": [],
   "source": [
    "val, vec = nl.eig(A_long)"
   ]
  },
  {
   "cell_type": "code",
   "execution_count": 11,
   "metadata": {},
   "outputs": [
    {
     "data": {
      "text/plain": [
       "array([-0.37168337+0.88692454j, -0.37168337-0.88692454j,\n",
       "       -0.00328880+0.0671904j , -0.00328880-0.0671904j ])"
      ]
     },
     "execution_count": 11,
     "metadata": {},
     "output_type": "execute_result"
    }
   ],
   "source": [
    "val"
   ]
  },
  {
   "cell_type": "code",
   "execution_count": 12,
   "metadata": {},
   "outputs": [
    {
     "name": "stdout",
     "output_type": "stream",
     "text": [
      "[[ -5.57748538e-02   0.00000000e+00  -2.35900000e+02   9.80665000e+00]\n",
      " [ -1.27028796e-02  -4.35107741e-01   4.14335937e-01   0.00000000e+00]\n",
      " [  3.56656916e-03  -6.05604146e-03  -1.45800775e-01   0.00000000e+00]\n",
      " [  0.00000000e+00   1.00000000e+00   0.00000000e+00   0.00000000e+00]]\n"
     ]
    }
   ],
   "source": [
    "print(f\"{A_lat}\")"
   ]
  },
  {
   "cell_type": "code",
   "execution_count": 13,
   "metadata": {
    "collapsed": true
   },
   "outputs": [],
   "source": [
    "val, vec = nl.eig(A_lat)"
   ]
  },
  {
   "cell_type": "code",
   "execution_count": 14,
   "metadata": {},
   "outputs": [
    {
     "data": {
      "text/plain": [
       "array([-0.03309986+0.94696989j, -0.03309986-0.94696989j,\n",
       "       -0.56322438+0.j        , -0.00725928+0.j        ])"
      ]
     },
     "execution_count": 14,
     "metadata": {},
     "output_type": "execute_result"
    }
   ],
   "source": [
    "val"
   ]
  },
  {
   "cell_type": "markdown",
   "metadata": {},
   "source": [
    "Eigen values are the same as the ones in Etkin. So the matrix was copy-pasted right in EulerFlatEarth.linearize()"
   ]
  },
  {
   "cell_type": "markdown",
   "metadata": {},
   "source": [
    "# Simplified Cessna: compare response with eigenvalue analysis"
   ]
  },
  {
   "cell_type": "code",
   "execution_count": 463,
   "metadata": {
    "collapsed": true
   },
   "outputs": [],
   "source": [
    "aircraft = SimplifiedCessna172()"
   ]
  },
  {
   "cell_type": "code",
   "execution_count": 464,
   "metadata": {},
   "outputs": [],
   "source": [
    "atmosphere = ISA1976()\n",
    "gravity = VerticalConstant()\n",
    "wind = NoWind()\n",
    "environment = Environment(atmosphere, gravity, wind)"
   ]
  },
  {
   "cell_type": "code",
   "execution_count": 465,
   "metadata": {},
   "outputs": [],
   "source": [
    "pos = EarthPosition(x=0, y=0, height=1000)\n",
    "psi = 0.5  # rad\n",
    "TAS = 45  # m/s\n",
    "controls0 = {'delta_elevator': 0, 'delta_aileron': 0, 'delta_rudder': 0, 'delta_t': 0.5}\n",
    "trimmed_state, trimmed_controls = steady_state_trim(\n",
    "    aircraft,\n",
    "    environment,\n",
    "    pos,\n",
    "    psi,\n",
    "    TAS,\n",
    "    controls0\n",
    ")\n",
    "environment.update(trimmed_state)"
   ]
  },
  {
   "cell_type": "code",
   "execution_count": 466,
   "metadata": {
    "collapsed": true
   },
   "outputs": [],
   "source": [
    "system = EulerFlatEarth(t0=0, full_state=trimmed_state)"
   ]
  },
  {
   "cell_type": "code",
   "execution_count": 467,
   "metadata": {},
   "outputs": [],
   "source": [
    "A_long, A_lat = system.linearized_model(trimmed_state, aircraft, environment, trimmed_controls)"
   ]
  },
  {
   "cell_type": "code",
   "execution_count": 468,
   "metadata": {},
   "outputs": [
    {
     "name": "stdout",
     "output_type": "stream",
     "text": [
      "longitudinal eigenvalues : [[-2.61877991+4.03883858j -2.61877991-4.03883858j -0.02858402+0.26539636j\n",
      "  -0.02858402-0.26539636j]]\n"
     ]
    }
   ],
   "source": [
    "long_val, long_vec=nl.eig(A_long)\n",
    "long_val = np.expand_dims(long_val, axis = 0)\n",
    "print(f\"longitudinal eigenvalues : {long_val}\")"
   ]
  },
  {
   "cell_type": "code",
   "execution_count": 469,
   "metadata": {},
   "outputs": [
    {
     "name": "stdout",
     "output_type": "stream",
     "text": [
      "lat eigenvalues : [[-5.64040610+0.j         -0.22741980+1.12082018j -0.22741980-1.12082018j\n",
      "   0.02242997+0.j        ]]\n"
     ]
    }
   ],
   "source": [
    "lat_val, lat_vec=nl.eig(A_lat)\n",
    "lat_val = np.expand_dims(lat_val, axis = 0)\n",
    "print(f\"lat eigenvalues : {lat_val}\")"
   ]
  },
  {
   "cell_type": "markdown",
   "metadata": {},
   "source": [
    "## Longitudinal checks"
   ]
  },
  {
   "cell_type": "code",
   "execution_count": 490,
   "metadata": {
    "collapsed": true
   },
   "outputs": [],
   "source": [
    "from pyfme.utils.coordinates import wind2body, body2wind"
   ]
  },
  {
   "cell_type": "code",
   "execution_count": 491,
   "metadata": {},
   "outputs": [],
   "source": [
    "alpha = np.arctan2(trimmed_state.velocity.w, trimmed_state.velocity.u)\n",
    "u = trimmed_state.velocity.u*1.0"
   ]
  },
  {
   "cell_type": "code",
   "execution_count": 492,
   "metadata": {},
   "outputs": [],
   "source": [
    "perturbation = (long_vec.T[0] + long_vec.T[1])/10"
   ]
  },
  {
   "cell_type": "markdown",
   "metadata": {},
   "source": [
    "### Eigenvalue approach"
   ]
  },
  {
   "cell_type": "code",
   "execution_count": 493,
   "metadata": {},
   "outputs": [],
   "source": [
    "C = nl.lstsq(a=long_vec,b=perturbation.real)[0].real"
   ]
  },
  {
   "cell_type": "code",
   "execution_count": 494,
   "metadata": {},
   "outputs": [
    {
     "data": {
      "text/plain": [
       "array([ 0.00068044+0.j,  0.19898677+0.j, -0.00221646+0.j,  0.00352200+0.j])"
      ]
     },
     "execution_count": 494,
     "metadata": {},
     "output_type": "execute_result"
    }
   ],
   "source": [
    "perturbation"
   ]
  },
  {
   "cell_type": "code",
   "execution_count": 495,
   "metadata": {},
   "outputs": [
    {
     "data": {
      "text/plain": [
       "array([  4.47131754e+01 +9.11776957e-18j,\n",
       "        -7.57841343e-13 +2.78656422e-19j,   3.58117832e+00 +7.30262577e-19j])"
      ]
     },
     "execution_count": 495,
     "metadata": {},
     "output_type": "execute_result"
    }
   ],
   "source": [
    "x1"
   ]
  },
  {
   "cell_type": "code",
   "execution_count": 496,
   "metadata": {},
   "outputs": [],
   "source": [
    "t = np.linspace(0,10,100)\n",
    "N = len(t)\n",
    "X = np.zeros((N,4))\n",
    "xx = []\n",
    "for i in range(N):\n",
    "    x_stab = (long_vec*np.exp(long_val*t[i])).dot(C)\n",
    "    xx.append(x_stab[1])\n",
    "    x1 = wind2body(np.array([x_stab[0] + trimmed_state.velocity.u, x_stab[1], 0]), alpha=alpha, beta=0)\n",
    "    X[i,:2] = x1.real[2:]"
   ]
  },
  {
   "cell_type": "code",
   "execution_count": 497,
   "metadata": {},
   "outputs": [
    {
     "name": "stderr",
     "output_type": "stream",
     "text": [
      "C:\\ProgramData\\Anaconda3\\lib\\site-packages\\numpy\\core\\numeric.py:531: ComplexWarning: Casting complex values to real discards the imaginary part\n",
      "  return array(a, dtype, copy=False, order=order)\n"
     ]
    },
    {
     "data": {
      "image/png": "[encoded data removed]",
      "text/plain": [
       "<matplotlib.figure.Figure at 0x21df7822710>"
      ]
     },
     "metadata": {},
     "output_type": "display_data"
    }
   ],
   "source": [
    "plt.plot(xx,'.')\n",
    "plt.show()"
   ]
  },
  {
   "cell_type": "code",
   "execution_count": 498,
   "metadata": {},
   "outputs": [
    {
     "data": {
      "image/png": "[encoded data removed]",
      "text/plain": [
       "<matplotlib.figure.Figure at 0x21df826eef0>"
      ]
     },
     "metadata": {},
     "output_type": "display_data"
    }
   ],
   "source": [
    "plt.plot(t,X[:,1],'.')\n",
    "plt.show()"
   ]
  },
  {
   "cell_type": "markdown",
   "metadata": {},
   "source": [
    "### Simulation"
   ]
  },
  {
   "cell_type": "code",
   "execution_count": 499,
   "metadata": {
    "collapsed": true
   },
   "outputs": [],
   "source": [
    "from pyfme.utils.input_generator import Constant"
   ]
  },
  {
   "cell_type": "code",
   "execution_count": 500,
   "metadata": {},
   "outputs": [],
   "source": [
    "controls = {\n",
    "    'delta_elevator': Constant(trimmed_controls['delta_elevator']),\n",
    "    'delta_aileron': Constant(trimmed_controls['delta_aileron']),\n",
    "    'delta_rudder': Constant(trimmed_controls['delta_rudder']),\n",
    "    'delta_t': Constant(trimmed_controls['delta_t'])\n",
    "}"
   ]
  },
  {
   "cell_type": "code",
   "execution_count": 501,
   "metadata": {},
   "outputs": [],
   "source": [
    "# Perturbate\n",
    "trimmed_state.cancel_perturbation()\n",
    "p = perturbation.real\n",
    "trimmed_state.perturbate(np.array([p[0],p[1],0]), 'velocity',reference_frame = 'stability_axis')\n",
    "trimmed_state.perturbate(np.array([0,p[2],0]), 'angular_vel',reference_frame = 'stability_axis')\n",
    "trimmed_state.perturbate(np.array([0,p[3],0]), 'attitude',reference_frame = 'stability_axis')"
   ]
  },
  {
   "cell_type": "code",
   "execution_count": 502,
   "metadata": {
    "collapsed": true
   },
   "outputs": [],
   "source": [
    "environment.update(trimmed_state)\n",
    "system = EulerFlatEarth(t0=0, full_state=trimmed_state)"
   ]
  },
  {
   "cell_type": "code",
   "execution_count": 503,
   "metadata": {
    "collapsed": true
   },
   "outputs": [],
   "source": [
    "sim = Simulation(aircraft, system, environment, controls)"
   ]
  },
  {
   "cell_type": "code",
   "execution_count": 484,
   "metadata": {},
   "outputs": [
    {
     "name": "stderr",
     "output_type": "stream",
     "text": [
      "\n",
      "\n",
      "time:   0%|                                                                                     | 0/10 [00:00<?, ?it/s]\n",
      "\n",
      "time:   1%|▋                                                                         | 0.09/10 [00:00<00:11,  1.17s/it]\n",
      "\n",
      "time:   2%|█▎                                                                        | 0.17/10 [00:00<00:11,  1.20s/it]\n",
      "\n",
      "time:   3%|█▍                                                         | 0.25000000000000006/10 [00:00<00:12,  1.24s/it]\n",
      "\n",
      "time:   4%|██                                                         | 0.36000000000000015/10 [00:00<00:11,  1.15s/it]\n",
      "\n",
      "time:   5%|███                                                         | 0.5100000000000002/10 [00:00<00:09,  1.01s/it]\n",
      "\n",
      "time:   7%|████                                                        | 0.6800000000000004/10 [00:00<00:08,  1.09it/s]\n",
      "\n",
      "time:   8%|████▋                                                       | 0.7900000000000005/10 [00:00<00:08,  1.09it/s]\n",
      "\n",
      "time:   9%|█████▍                                                      | 0.9000000000000006/10 [00:00<00:08,  1.06it/s]\n",
      "\n",
      "time:  10%|██████                                                      | 1.0100000000000007/10 [00:00<00:09,  1.02s/it]\n",
      "\n",
      "time:  11%|██████▋                                                     | 1.1100000000000008/10 [00:01<00:09,  1.04s/it]\n",
      "\n",
      "time:  12%|███████▎                                                    | 1.2100000000000009/10 [00:01<00:09,  1.03s/it]\n",
      "\n",
      "time:  13%|████████                                                     | 1.320000000000001/10 [00:01<00:08,  1.02s/it]\n",
      "\n",
      "time:  14%|████████▋                                                    | 1.420000000000001/10 [00:01<00:08,  1.02s/it]\n",
      "\n",
      "time:  16%|█████████▎                                                  | 1.5500000000000012/10 [00:01<00:08,  1.05it/s]\n",
      "\n",
      "time:  17%|██████████▏                                                 | 1.6900000000000013/10 [00:01<00:07,  1.14it/s]\n",
      "\n",
      "time:  18%|███████████                                                 | 1.8400000000000014/10 [00:01<00:06,  1.18it/s]\n",
      "\n",
      "time:  20%|███████████▊                                                | 1.9700000000000015/10 [00:01<00:07,  1.11it/s]\n",
      "\n",
      "time:  21%|████████████▌                                               | 2.0899999999999994/10 [00:01<00:07,  1.11it/s]\n",
      "\n",
      "time:  22%|█████████████▍                                               | 2.209999999999997/10 [00:02<00:07,  1.10it/s]\n",
      "\n",
      "time:  23%|█████████████▉                                              | 2.3299999999999943/10 [00:02<00:07,  1.08it/s]\n",
      "\n",
      "time:  24%|██████████████▉                                              | 2.439999999999992/10 [00:02<00:06,  1.08it/s]\n",
      "\n",
      "time:  25%|███████████████▎                                            | 2.5499999999999896/10 [00:02<00:07,  1.04it/s]\n",
      "\n",
      "time:  27%|████████████████▎                                            | 2.669999999999987/10 [00:02<00:06,  1.07it/s]\n",
      "\n",
      "time:  28%|████████████████▉                                           | 2.8299999999999836/10 [00:02<00:06,  1.16it/s]\n",
      "\n",
      "time:  29%|█████████████████▉                                           | 2.949999999999981/10 [00:02<00:06,  1.09it/s]\n",
      "\n",
      "time:  31%|██████████████████▊                                          | 3.089999999999978/10 [00:02<00:06,  1.15it/s]\n",
      "\n",
      "time:  32%|███████████████████▎                                        | 3.2099999999999755/10 [00:02<00:06,  1.07it/s]\n",
      "\n",
      "time:  33%|████████████████████▎                                        | 3.319999999999973/10 [00:03<00:07,  1.06s/it]\n",
      "\n",
      "time:  34%|████████████████████▊                                        | 3.419999999999971/10 [00:03<00:07,  1.15s/it]\n",
      "\n",
      "time:  35%|█████████████████████▍                                       | 3.519999999999969/10 [00:03<00:08,  1.27s/it]\n",
      "\n",
      "time:  36%|██████████████████████                                       | 3.619999999999967/10 [00:03<00:07,  1.21s/it]\n",
      "\n",
      "time:  37%|██████████████████████▋                                      | 3.709999999999965/10 [00:03<00:07,  1.18s/it]\n",
      "\n",
      "time:  38%|███████████████████████▏                                     | 3.799999999999963/10 [00:03<00:07,  1.22s/it]\n",
      "\n",
      "time:  39%|███████████████████████▋                                     | 3.889999999999961/10 [00:03<00:07,  1.29s/it]\n",
      "\n",
      "time:  40%|███████████████████████▊                                    | 3.9699999999999593/10 [00:03<00:07,  1.32s/it]\n",
      "\n",
      "time:  40%|████████████████████████▋                                    | 4.049999999999958/10 [00:04<00:07,  1.32s/it]\n",
      "\n",
      "time:  41%|█████████████████████████▎                                   | 4.139999999999956/10 [00:04<00:07,  1.26s/it]\n",
      "\n",
      "time:  42%|█████████████████████████▊                                   | 4.229999999999954/10 [00:04<00:07,  1.24s/it]\n",
      "\n",
      "time:  43%|██████████████████████████▎                                  | 4.319999999999952/10 [00:04<00:07,  1.28s/it]\n",
      "\n",
      "time:  44%|██████████████████████████▊                                  | 4.399999999999951/10 [00:04<00:07,  1.32s/it]\n",
      "\n",
      "time:  45%|███████████████████████████▋                                 | 4.529999999999948/10 [00:04<00:06,  1.17s/it]\n",
      "\n",
      "time:  46%|████████████████████████████▎                                | 4.649999999999945/10 [00:04<00:05,  1.08s/it]\n",
      "\n",
      "time:  48%|█████████████████████████████                                | 4.759999999999943/10 [00:04<00:05,  1.06s/it]\n",
      "\n",
      "time:  49%|█████████████████████████████▋                               | 4.869999999999941/10 [00:04<00:05,  1.02s/it]\n",
      "\n",
      "time:  50%|██████████████████████████████▍                              | 4.979999999999938/10 [00:05<00:04,  1.01it/s]\n",
      "\n",
      "time:  51%|███████████████████████████████                              | 5.089999999999936/10 [00:05<00:05,  1.02s/it]\n",
      "\n",
      "time:  52%|███████████████████████████████▊                             | 5.209999999999933/10 [00:05<00:04,  1.00s/it]\n",
      "\n",
      "time:  53%|████████████████████████████████▍                            | 5.319999999999931/10 [00:05<00:04,  1.02s/it]\n",
      "\n",
      "time:  55%|█████████████████████████████████▎                           | 5.459999999999928/10 [00:05<00:04,  1.08it/s]\n",
      "\n",
      "time:  56%|█████████████████████████████████▍                          | 5.5799999999999255/10 [00:05<00:04,  1.09it/s]\n",
      "\n",
      "time:  57%|██████████████████████████████████▊                          | 5.699999999999923/10 [00:05<00:04,  1.07it/s]\n",
      "\n",
      "time:  58%|███████████████████████████████████▍                         | 5.809999999999921/10 [00:05<00:04,  1.04it/s]\n",
      "\n",
      "time:  59%|████████████████████████████████████                         | 5.919999999999918/10 [00:05<00:04,  1.01s/it]\n",
      "\n",
      "time:  60%|████████████████████████████████████▊                        | 6.029999999999916/10 [00:06<00:04,  1.05s/it]\n",
      "\n",
      "time:  61%|█████████████████████████████████████▍                       | 6.129999999999914/10 [00:06<00:04,  1.04s/it]\n",
      "\n",
      "time:  62%|██████████████████████████████████████                       | 6.229999999999912/10 [00:06<00:04,  1.10s/it]\n",
      "\n",
      "time:  63%|██████████████████████████████████████▋                      | 6.339999999999909/10 [00:06<00:03,  1.04s/it]\n",
      "\n",
      "time:  65%|███████████████████████████████████████▋                     | 6.509999999999906/10 [00:06<00:03,  1.10it/s]\n",
      "\n",
      "time:  67%|████████████████████████████████████████▋                    | 6.669999999999902/10 [00:06<00:02,  1.20it/s]\n",
      "\n",
      "time:  68%|████████████████████████████████████████▊                   | 6.7999999999998995/10 [00:06<00:02,  1.23it/s]\n",
      "\n",
      "time:  69%|██████████████████████████████████████████▎                  | 6.929999999999897/10 [00:06<00:02,  1.10it/s]\n",
      "\n",
      "time:  70%|███████████████████████████████████████████                  | 7.049999999999894/10 [00:06<00:02,  1.11it/s]\n",
      "\n",
      "time:  72%|███████████████████████████████████████████▋                 | 7.169999999999892/10 [00:07<00:02,  1.09it/s]\n",
      "\n",
      "time:  73%|████████████████████████████████████████████▍                | 7.289999999999889/10 [00:07<00:02,  1.06it/s]\n",
      "\n",
      "time:  74%|█████████████████████████████████████████████▏               | 7.399999999999887/10 [00:07<00:02,  1.02it/s]\n",
      "\n",
      "time:  75%|█████████████████████████████████████████████▉               | 7.529999999999884/10 [00:07<00:02,  1.09it/s]\n",
      "\n"
     ]
    },
    {
     "name": "stderr",
     "output_type": "stream",
     "text": [
      "time:  77%|███████████████████████████████████████████████▊              | 7.70999999999988/10 [00:07<00:01,  1.23it/s]\n",
      "\n",
      "time:  79%|████████████████████████████████████████████████▏            | 7.889999999999876/10 [00:07<00:01,  1.36it/s]\n",
      "\n",
      "time:  80%|█████████████████████████████████████████████████            | 8.039999999999873/10 [00:07<00:01,  1.32it/s]\n",
      "\n",
      "time:  82%|██████████████████████████████████████████████████▋           | 8.17999999999987/10 [00:07<00:01,  1.21it/s]\n",
      "\n",
      "time:  83%|██████████████████████████████████████████████████▊          | 8.339999999999867/10 [00:08<00:01,  1.26it/s]\n",
      "\n",
      "time:  85%|███████████████████████████████████████████████████▊         | 8.499999999999863/10 [00:08<00:01,  1.34it/s]\n",
      "\n",
      "time:  86%|█████████████████████████████████████████████████████▌        | 8.63999999999986/10 [00:08<00:01,  1.30it/s]\n",
      "\n",
      "time:  88%|█████████████████████████████████████████████████████▊       | 8.819999999999856/10 [00:08<00:00,  1.37it/s]\n",
      "\n",
      "time:  90%|██████████████████████████████████████████████████████▉      | 8.999999999999853/10 [00:08<00:00,  1.47it/s]\n",
      "\n",
      "time:  92%|████████████████████████████████████████████████████████▎    | 9.229999999999848/10 [00:08<00:00,  1.60it/s]\n",
      "\n",
      "time:  94%|█████████████████████████████████████████████████████████▍   | 9.409999999999844/10 [00:08<00:00,  1.65it/s]\n",
      "\n",
      "time:  96%|███████████████████████████████████████████████████████████▌  | 9.60999999999984/10 [00:08<00:00,  1.67it/s]\n",
      "\n",
      "time:  98%|███████████████████████████████████████████████████████████▋ | 9.789999999999836/10 [00:08<00:00,  1.63it/s]\n",
      "\n",
      "time: 100%|████████████████████████████████████████████████████████████▊| 9.959999999999832/10 [00:09<00:00,  1.51it/s]\n",
      "\n",
      "time: 100%|████████████████████████████████████████████████████████████▉| 9.999999999999831/10 [00:09<00:00,  1.10it/s]"
     ]
    }
   ],
   "source": [
    "r = sim.propagate(10)"
   ]
  },
  {
   "cell_type": "code",
   "execution_count": 485,
   "metadata": {},
   "outputs": [
    {
     "data": {
      "text/plain": [
       "Aircraft State \n",
       "x_e: 0.00 m, y_e: 0.00 m, z_e: -1000.00 m \n",
       "theta: 0.080 rad, phi: 0.000 rad, psi: 0.500 rad \n",
       "u: 44.86 m/s, v: -0.00 m/s, w: 3.59 m/s \n",
       "P: 0.00 rad/s, Q: 0.00 rad/s, R: 0.00 rad/s \n",
       "u_dot: -0.00 m/s², v_dot: -0.00 m/s², w_dot: -0.00 m/s² \n",
       "P_dot: -0.00 rad/s², Q_dot: -0.00 rad/s², R_dot: -0.00 rad/s² "
      ]
     },
     "execution_count": 485,
     "metadata": {},
     "output_type": "execute_result"
    }
   ],
   "source": [
    "trimmed_state.cancel_perturbation()"
   ]
  },
  {
   "cell_type": "code",
   "execution_count": 504,
   "metadata": {},
   "outputs": [
    {
     "data": {
      "image/png": "[encoded data removed]",
      "text/plain": [
       "<matplotlib.figure.Figure at 0x21df9e269b0>"
      ]
     },
     "metadata": {},
     "output_type": "display_data"
    }
   ],
   "source": [
    "plt.plot(t,X[:,1] - max(X[:,1]),'.')\n",
    "plt.plot(r.w - max(r.w))\n",
    "plt.show()"
   ]
  },
  {
   "cell_type": "code",
   "execution_count": 487,
   "metadata": {},
   "outputs": [
    {
     "data": {
      "text/plain": [
       "Aircraft State \n",
       "x_e: 0.00 m, y_e: 0.00 m, z_e: -1000.00 m \n",
       "theta: 0.080 rad, phi: 0.000 rad, psi: 0.500 rad \n",
       "u: 44.86 m/s, v: -0.00 m/s, w: 3.59 m/s \n",
       "P: 0.00 rad/s, Q: 0.00 rad/s, R: 0.00 rad/s \n",
       "u_dot: -0.00 m/s², v_dot: -0.00 m/s², w_dot: -0.00 m/s² \n",
       "P_dot: -0.00 rad/s², Q_dot: -0.00 rad/s², R_dot: -0.00 rad/s² "
      ]
     },
     "execution_count": 487,
     "metadata": {},
     "output_type": "execute_result"
    }
   ],
   "source": [
    "trimmed_state"
   ]
  },
  {
   "cell_type": "code",
   "execution_count": null,
   "metadata": {
    "collapsed": true
   },
   "outputs": [],
   "source": []
  }
 ],
 "metadata": {
  "kernelspec": {
   "display_name": "Python 3",
   "language": "python",
   "name": "python3"
  },
  "language_info": {
   "codemirror_mode": {
    "name": "ipython",
    "version": 3
   },
   "file_extension": ".py",
   "mimetype": "text/x-python",
   "name": "python",
   "nbconvert_exporter": "python",
   "pygments_lexer": "ipython3",
   "version": "3.6.3"
  }
 },
 "nbformat": 4,
 "nbformat_minor": 2
}
