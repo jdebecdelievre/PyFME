{
 "cells": [
  {
   "cell_type": "markdown",
   "metadata": {},
   "source": [
    "# PyFME Validation : comparing response with eigenvalue analysis"
   ]
  },
  {
   "cell_type": "code",
   "execution_count": 75,
   "metadata": {
    "collapsed": true
   },
   "outputs": [],
   "source": [
    "from pyfme.aircrafts import LinearB747, Cessna172, SimplifiedCessna172\n",
    "from pyfme.models import EulerFlatEarth\n",
    "import numpy as np\n",
    "nl = np.linalg\n",
    "import matplotlib.pyplot as plt\n",
    "from pyfme.environment.atmosphere import ISA1976, SeaLevel\n",
    "from pyfme.environment.wind import NoWind\n",
    "from pyfme.environment.gravity import VerticalConstant\n",
    "from pyfme.environment import Environment\n",
    "from pyfme.utils.trimmer import steady_state_trim\n",
    "from pyfme.models.state.position import EarthPosition\n",
    "from pyfme.simulator import Simulation\n",
    "from pyfme.utils.coordinates import wind2body, body2wind\n",
    "from pyfme.utils.input_generator import Constant"
   ]
  },
  {
   "cell_type": "code",
   "execution_count": 76,
   "metadata": {},
   "outputs": [
    {
     "name": "stdout",
     "output_type": "stream",
     "text": [
      "The autoreload extension is already loaded. To reload it, use:\n",
      "  %reload_ext autoreload\n"
     ]
    }
   ],
   "source": [
    "%load_ext autoreload\n",
    "%autoreload 2"
   ]
  },
  {
   "cell_type": "markdown",
   "metadata": {},
   "source": [
    "We start by defining the airplane, the environment and the trim position."
   ]
  },
  {
   "cell_type": "code",
   "execution_count": 77,
   "metadata": {
    "collapsed": true
   },
   "outputs": [],
   "source": [
    "aircraft = SimplifiedCessna172()"
   ]
  },
  {
   "cell_type": "code",
   "execution_count": 78,
   "metadata": {
    "collapsed": true
   },
   "outputs": [],
   "source": [
    "atmosphere = SeaLevel()\n",
    "gravity = VerticalConstant()\n",
    "wind = NoWind()\n",
    "environment = Environment(atmosphere, gravity, wind)"
   ]
  },
  {
   "cell_type": "code",
   "execution_count": 79,
   "metadata": {
    "collapsed": true
   },
   "outputs": [],
   "source": [
    "pos = EarthPosition(x=0, y=0, height=1000)\n",
    "psi = 0.5  # rad\n",
    "TAS = 45  # m/s\n",
    "controls0 = {'delta_elevator': 0, 'delta_aileron': 0, 'delta_rudder': 0, 'delta_t': 0.5}\n",
    "trimmed_state, trimmed_controls = steady_state_trim(\n",
    "    aircraft,\n",
    "    environment,\n",
    "    pos,\n",
    "    psi,\n",
    "    TAS,\n",
    "    controls0\n",
    ")\n",
    "environment.update(trimmed_state)"
   ]
  },
  {
   "cell_type": "markdown",
   "metadata": {},
   "source": [
    "Then we linearize the model around the trim condition. It gives us two matrices for lateral and longitudinal small perturbations.\n",
    "Under the hood, the code computes dimensional stability derivatives using numerical differentiation, and then uses the analytical formulas for the linearized system given in [1]."
   ]
  },
  {
   "cell_type": "code",
   "execution_count": 80,
   "metadata": {
    "collapsed": true
   },
   "outputs": [],
   "source": [
    "system = EulerFlatEarth(t0=0, full_state=trimmed_state)"
   ]
  },
  {
   "cell_type": "code",
   "execution_count": 81,
   "metadata": {
    "collapsed": true
   },
   "outputs": [],
   "source": [
    "A_long, A_lat = system.linearized_model(trimmed_state, aircraft, environment, trimmed_controls)"
   ]
  },
  {
   "cell_type": "code",
   "execution_count": 82,
   "metadata": {},
   "outputs": [
    {
     "name": "stdout",
     "output_type": "stream",
     "text": [
      "Longitudinal eigenvalues : \n",
      "(-2.87760089356+4.12505582128j)\n",
      "(-2.87760089356-4.12505582128j)\n",
      "(-0.03785343075+0.257120129321j)\n",
      "(-0.03785343075-0.257120129321j)\n"
     ]
    }
   ],
   "source": [
    "long_val, long_vec=nl.eig(A_long)\n",
    "long_val = np.expand_dims(long_val, axis = 0)\n",
    "print(f\"Longitudinal eigenvalues : \")\n",
    "for l in long_val[0]:\n",
    "    print(l)"
   ]
  },
  {
   "cell_type": "markdown",
   "metadata": {},
   "source": [
    "As expected we find two damped oscillatory modes in the longitudinal dynamics: phugoid and short period."
   ]
  },
  {
   "cell_type": "code",
   "execution_count": 83,
   "metadata": {},
   "outputs": [
    {
     "name": "stdout",
     "output_type": "stream",
     "text": [
      "Lateral eigenvalues : \n",
      "(-6.96516821579+0j)\n",
      "(-0.204583217243+1.17359637036j)\n",
      "(-0.204583217243-1.17359637036j)\n",
      "(0.0324906079983+0j)\n"
     ]
    }
   ],
   "source": [
    "lat_val, lat_vec=nl.eig(A_lat)\n",
    "lat_val = np.expand_dims(lat_val, axis = 0)\n",
    "print(f\"Lateral eigenvalues : \")\n",
    "for l in lat_val[0]:\n",
    "    print(l)"
   ]
  },
  {
   "cell_type": "markdown",
   "metadata": {},
   "source": [
    "In the lateral case, we get one oscillatory mode (dutch roll), a stable rolling convergence and an unstable - but very slow - spiral mode."
   ]
  },
  {
   "cell_type": "markdown",
   "metadata": {},
   "source": [
    "# Eigenvalue trajectories"
   ]
  },
  {
   "cell_type": "markdown",
   "metadata": {},
   "source": [
    "We can compute the predicted trajectories for small perturbations."
   ]
  },
  {
   "cell_type": "code",
   "execution_count": 84,
   "metadata": {
    "collapsed": true
   },
   "outputs": [],
   "source": [
    "# helper function to go from stability to body axis\n",
    "def linear_stab_2_body(long_state=np.zeros(4), lat_state=np.zeros(4), u0=0, theta0=0,alpha0=0, beta0=0):\n",
    "    # velocities\n",
    "    v = wind2body(np.array([long_state[0] + u0, lat_state[0], long_state[1]]), alpha=alpha0, beta=beta0)\n",
    "    # Roll rates\n",
    "    r = wind2body(np.array([lat_state[1], long_state[2], lat_state[2]]), alpha=alpha0, beta=beta0)\n",
    "    long_stateB = np.copy(long_state)\n",
    "    lat_stateB = np.copy(lat_state)\n",
    "    long_stateB[0] = v[0]\n",
    "    long_stateB[1] = v[2]\n",
    "    long_stateB[2] = r[1]\n",
    "    long_stateB[3] += theta0\n",
    "    lat_stateB[0] = v[1]\n",
    "    lat_stateB[1] = r[0]\n",
    "    lat_stateB[2] = r[2]\n",
    "    return long_stateB.real, lat_stateB.real"
   ]
  },
  {
   "cell_type": "code",
   "execution_count": 85,
   "metadata": {
    "collapsed": true
   },
   "outputs": [],
   "source": [
    "# Reference conditions\n",
    "alpha = np.arctan2(trimmed_state.velocity.w, trimmed_state.velocity.u)\n",
    "beta = np.arcsin(trimmed_state.velocity.v/nl.norm(trimmed_state.velocity.vel_body))\n",
    "u, v, w = body2wind(trimmed_state.velocity.vel_body, alpha, 0)\n",
    "theta0 = trimmed_state.attitude.theta*1.0"
   ]
  },
  {
   "cell_type": "markdown",
   "metadata": {},
   "source": [
    "## Longitudinal case"
   ]
  },
  {
   "cell_type": "markdown",
   "metadata": {},
   "source": [
    "We can pick any perturbation from the equilibrium. Here I chose something along the eigenvectors of A_long.\n",
    "The result will be a weighted sum of eigenvector*exp(eigenvalue*t). The weights are determined by the initial condition."
   ]
  },
  {
   "cell_type": "code",
   "execution_count": 86,
   "metadata": {
    "collapsed": true
   },
   "outputs": [],
   "source": [
    "long_perturbation = (long_vec.T[2] + long_vec.T[3])/1000"
   ]
  },
  {
   "cell_type": "code",
   "execution_count": 87,
   "metadata": {
    "collapsed": true
   },
   "outputs": [],
   "source": [
    "C = nl.lstsq(a=long_vec,b=long_perturbation.real)[0].real"
   ]
  },
  {
   "cell_type": "code",
   "execution_count": 88,
   "metadata": {
    "collapsed": true
   },
   "outputs": [],
   "source": [
    "T = 100;\n",
    "t_long = np.linspace(0,T,1000)\n",
    "N = len(t_long)\n",
    "X_long = np.zeros((N,4))\n",
    "for i in range(N):\n",
    "    x_stab = (long_vec*np.exp(long_val*t_long[i])).dot(C)\n",
    "    X_long[i,:] = linear_stab_2_body(long_state=x_stab.real, alpha0=alpha, u0=u, theta0 = theta0)[0]"
   ]
  },
  {
   "cell_type": "markdown",
   "metadata": {},
   "source": [
    "## Lateral case"
   ]
  },
  {
   "cell_type": "markdown",
   "metadata": {},
   "source": [
    "Again we can pick any perturbation"
   ]
  },
  {
   "cell_type": "code",
   "execution_count": 89,
   "metadata": {
    "collapsed": true
   },
   "outputs": [],
   "source": [
    "lat_perturbation = (lat_vec.T[0])"
   ]
  },
  {
   "cell_type": "code",
   "execution_count": 90,
   "metadata": {
    "collapsed": true
   },
   "outputs": [],
   "source": [
    "C = nl.lstsq(a=lat_vec,b=lat_perturbation.real)[0].real"
   ]
  },
  {
   "cell_type": "code",
   "execution_count": 91,
   "metadata": {
    "collapsed": true
   },
   "outputs": [],
   "source": [
    "t_lat = np.linspace(0,10,100)\n",
    "N = len(t_lat)\n",
    "X_lat = np.zeros((N,4))\n",
    "for i in range(N):\n",
    "    x_stab = (lat_vec*np.exp(lat_val*t_lat[i])).dot(C)\n",
    "    X_lat[i,:] = linear_stab_2_body(lat_state=x_stab.real, beta0=beta, alpha0=alpha, u0=u, theta0 = theta0)[1]"
   ]
  },
  {
   "cell_type": "markdown",
   "metadata": {},
   "source": [
    "# Simulation"
   ]
  },
  {
   "cell_type": "code",
   "execution_count": 92,
   "metadata": {
    "collapsed": true
   },
   "outputs": [],
   "source": [
    "controls = {\n",
    "    'delta_elevator': Constant(trimmed_controls['delta_elevator']),\n",
    "    'delta_aileron': Constant(trimmed_controls['delta_aileron']),\n",
    "    'delta_rudder': Constant(trimmed_controls['delta_rudder']),\n",
    "    'delta_t': Constant(trimmed_controls['delta_t'])\n",
    "}"
   ]
  },
  {
   "cell_type": "markdown",
   "metadata": {},
   "source": [
    "## Longitudinal case"
   ]
  },
  {
   "cell_type": "markdown",
   "metadata": {},
   "source": [
    "We perturbate the trimmed state and run the simulation"
   ]
  },
  {
   "cell_type": "code",
   "execution_count": 93,
   "metadata": {
    "collapsed": true
   },
   "outputs": [],
   "source": [
    "# Perturbate the trimmed state\n",
    "trimmed_state.cancel_perturbation()\n",
    "p = linear_stab_2_body(long_state=long_perturbation.real, alpha0=alpha)[0]\n",
    "trimmed_state.perturbate(np.array([p[0],0,p[1]]), 'velocity')\n",
    "trimmed_state.perturbate(np.array([0,p[2],0]), 'angular_vel')\n",
    "trimmed_state.perturbate(np.array([p[3],0,0]), 'attitude') # /!\\ Convention theta, phi, psi"
   ]
  },
  {
   "cell_type": "code",
   "execution_count": 94,
   "metadata": {
    "collapsed": true
   },
   "outputs": [],
   "source": [
    "trimmed_state.save_to_json('long_perturb.json')"
   ]
  },
  {
   "cell_type": "code",
   "execution_count": 95,
   "metadata": {
    "collapsed": true
   },
   "outputs": [],
   "source": [
    "environment.update(trimmed_state)\n",
    "system = EulerFlatEarth(t0=0, full_state=trimmed_state)\n",
    "sim = Simulation(aircraft, system, environment, controls)"
   ]
  },
  {
   "cell_type": "code",
   "execution_count": 96,
   "metadata": {},
   "outputs": [
    {
     "name": "stderr",
     "output_type": "stream",
     "text": [
      "\n",
      "time:   0%|                                                                                    | 0/100 [00:00<?, ?it/s]\n",
      "time:   0%|                                                                         | 0.08/100 [00:00<02:07,  1.28s/it]\n",
      "time:   0%|                                                          | 0.21000000000000005/100 [00:00<01:52,  1.13s/it]\n",
      "time:   0%|▏                                                          | 0.3300000000000001/100 [00:00<01:43,  1.04s/it]\n",
      "time:   0%|▎                                                         | 0.45000000000000023/100 [00:00<01:37,  1.02it/s]\n",
      "time:   1%|▎                                                          | 0.5800000000000003/100 [00:00<01:32,  1.08it/s]\n",
      "time:   1%|▍                                                          | 0.7200000000000004/100 [00:00<01:26,  1.14it/s]\n",
      "time:   1%|▌                                                          | 0.8900000000000006/100 [00:00<01:18,  1.27it/s]\n",
      "time:   1%|▋                                                          | 1.0600000000000007/100 [00:00<01:12,  1.37it/s]\n",
      "time:   1%|▋                                                          | 1.2400000000000009/100 [00:00<01:07,  1.46it/s]\n",
      "time:   1%|▊                                                           | 1.400000000000001/100 [00:01<01:08,  1.44it/s]\n",
      "time:   2%|▉                                                          | 1.5500000000000012/100 [00:01<01:11,  1.38it/s]\n",
      "time:   2%|█                                                          | 1.7000000000000013/100 [00:01<01:11,  1.37it/s]\n",
      "time:   2%|█                                                          | 1.8400000000000014/100 [00:01<01:13,  1.34it/s]\n",
      "time:   2%|█▏                                                         | 1.9800000000000015/100 [00:01<01:13,  1.33it/s]\n",
      "time:   2%|█▎                                                         | 2.1199999999999988/100 [00:01<01:15,  1.30it/s]\n",
      "time:   2%|█▎                                                         | 2.2699999999999956/100 [00:01<01:12,  1.35it/s]\n",
      "time:   2%|█▍                                                         | 2.4599999999999915/100 [00:01<01:06,  1.46it/s]\n",
      "time:   3%|█▌                                                         | 2.6099999999999883/100 [00:01<01:06,  1.47it/s]\n",
      "time:   3%|█▋                                                          | 2.759999999999985/100 [00:02<01:08,  1.43it/s]\n",
      "time:   3%|█▋                                                          | 2.909999999999982/100 [00:02<01:08,  1.42it/s]\n",
      "time:   3%|█▊                                                         | 3.0599999999999787/100 [00:02<01:09,  1.40it/s]\n",
      "time:   3%|█▉                                                         | 3.2099999999999755/100 [00:02<01:11,  1.35it/s]\n",
      "time:   3%|█▉                                                         | 3.3499999999999726/100 [00:02<01:13,  1.32it/s]\n",
      "time:   3%|██                                                         | 3.4899999999999696/100 [00:02<01:14,  1.29it/s]\n",
      "time:   4%|██▏                                                        | 3.6399999999999664/100 [00:02<01:11,  1.34it/s]\n",
      "time:   4%|██▎                                                        | 3.8199999999999625/100 [00:02<01:06,  1.45it/s]\n",
      "time:   4%|██▎                                                        | 3.9999999999999587/100 [00:02<01:02,  1.54it/s]\n",
      "time:   4%|██▍                                                         | 4.159999999999956/100 [00:02<01:04,  1.49it/s]\n",
      "time:   4%|██▌                                                         | 4.319999999999952/100 [00:03<01:07,  1.42it/s]\n",
      "time:   4%|██▋                                                         | 4.469999999999949/100 [00:03<01:09,  1.37it/s]\n",
      "time:   5%|██▊                                                         | 4.609999999999946/100 [00:03<01:09,  1.37it/s]\n",
      "time:   5%|██▊                                                         | 4.749999999999943/100 [00:03<01:12,  1.31it/s]\n",
      "time:   5%|██▉                                                          | 4.88999999999994/100 [00:03<01:11,  1.34it/s]\n",
      "time:   5%|███                                                         | 5.029999999999937/100 [00:03<01:10,  1.34it/s]\n",
      "time:   5%|███▏                                                        | 5.209999999999933/100 [00:03<01:06,  1.44it/s]\n",
      "time:   5%|███▎                                                         | 5.37999999999993/100 [00:03<01:03,  1.50it/s]\n",
      "time:   6%|███▎                                                        | 5.539999999999926/100 [00:03<01:02,  1.50it/s]\n",
      "time:   6%|███▍                                                        | 5.699999999999923/100 [00:04<01:09,  1.35it/s]\n",
      "time:   6%|███▌                                                         | 5.83999999999992/100 [00:04<01:10,  1.34it/s]\n",
      "time:   6%|███▌                                                        | 5.979999999999917/100 [00:04<01:10,  1.33it/s]\n",
      "time:   6%|███▋                                                        | 6.119999999999914/100 [00:04<01:11,  1.31it/s]\n",
      "time:   6%|███▊                                                        | 6.259999999999911/100 [00:04<01:11,  1.31it/s]\n",
      "time:   6%|███▊                                                        | 6.399999999999908/100 [00:04<01:10,  1.32it/s]\n",
      "time:   7%|███▉                                                        | 6.589999999999904/100 [00:04<01:04,  1.45it/s]\n",
      "time:   7%|███▉                                                       | 6.7499999999999005/100 [00:04<01:04,  1.43it/s]\n",
      "time:   7%|████▏                                                       | 6.899999999999897/100 [00:04<01:05,  1.42it/s]\n",
      "time:   7%|████▏                                                       | 7.049999999999894/100 [00:05<01:09,  1.35it/s]\n",
      "time:   7%|████▎                                                       | 7.189999999999891/100 [00:05<01:12,  1.27it/s]\n",
      "time:   7%|████▍                                                       | 7.319999999999888/100 [00:05<01:13,  1.26it/s]\n",
      "time:   7%|████▍                                                       | 7.449999999999886/100 [00:05<01:15,  1.23it/s]\n",
      "time:   8%|████▌                                                       | 7.579999999999883/100 [00:05<01:14,  1.25it/s]\n",
      "time:   8%|████▋                                                        | 7.70999999999988/100 [00:05<01:16,  1.21it/s]\n",
      "time:   8%|████▋                                                       | 7.879999999999876/100 [00:05<01:09,  1.32it/s]\n",
      "time:   8%|████▊                                                       | 8.029999999999873/100 [00:05<01:07,  1.36it/s]\n",
      "time:   8%|████▉                                                        | 8.16999999999987/100 [00:05<01:08,  1.34it/s]\n",
      "time:   8%|████▉                                                       | 8.309999999999867/100 [00:06<01:09,  1.31it/s]\n",
      "time:   8%|█████                                                       | 8.449999999999864/100 [00:06<01:11,  1.28it/s]\n",
      "time:   9%|█████▏                                                      | 8.579999999999862/100 [00:06<01:11,  1.27it/s]\n",
      "time:   9%|█████▏                                                      | 8.709999999999859/100 [00:06<01:13,  1.23it/s]\n",
      "time:   9%|█████▎                                                      | 8.839999999999856/100 [00:06<01:18,  1.17it/s]\n",
      "time:   9%|█████▍                                                      | 8.959999999999853/100 [00:06<01:18,  1.16it/s]\n",
      "time:   9%|█████▌                                                       | 9.10999999999985/100 [00:06<01:13,  1.24it/s]\n",
      "time:   9%|█████▌                                                      | 9.269999999999847/100 [00:06<01:08,  1.32it/s]\n",
      "time:   9%|█████▋                                                      | 9.409999999999844/100 [00:06<01:09,  1.31it/s]\n",
      "time:  10%|█████▊                                                       | 9.54999999999984/100 [00:07<01:09,  1.31it/s]\n",
      "time:  10%|█████▊                                                      | 9.689999999999838/100 [00:07<01:10,  1.28it/s]\n",
      "time:  10%|█████▉                                                      | 9.819999999999835/100 [00:07<01:10,  1.27it/s]\n"
     ]
    },
    {
     "name": "stderr",
     "output_type": "stream",
     "text": [
      "time:  10%|█████▉                                                      | 9.949999999999832/100 [00:07<01:11,  1.26it/s]\n",
      "time:  10%|██████                                                      | 10.07999999999983/100 [00:07<01:13,  1.23it/s]\n",
      "time:  10%|██████                                                     | 10.209999999999827/100 [00:07<01:11,  1.25it/s]\n",
      "time:  10%|██████                                                     | 10.359999999999824/100 [00:07<01:08,  1.31it/s]\n",
      "time:  11%|██████▎                                                     | 10.53999999999982/100 [00:07<01:03,  1.40it/s]\n",
      "time:  11%|██████▎                                                    | 10.709999999999816/100 [00:07<01:01,  1.46it/s]\n",
      "time:  11%|██████▍                                                    | 10.859999999999813/100 [00:08<01:00,  1.46it/s]\n",
      "time:  11%|██████▌                                                     | 11.00999999999981/100 [00:08<01:00,  1.46it/s]\n",
      "time:  11%|██████▌                                                    | 11.159999999999807/100 [00:08<01:02,  1.42it/s]\n",
      "time:  11%|██████▋                                                    | 11.309999999999803/100 [00:08<01:04,  1.38it/s]\n",
      "time:  11%|██████▉                                                      | 11.4499999999998/100 [00:08<01:03,  1.39it/s]\n",
      "time:  12%|██████▊                                                    | 11.589999999999797/100 [00:08<01:03,  1.39it/s]\n",
      "time:  12%|██████▉                                                    | 11.729999999999794/100 [00:08<01:04,  1.36it/s]\n",
      "time:  12%|███████▏                                                    | 11.91999999999979/100 [00:08<00:59,  1.49it/s]\n",
      "time:  12%|███████▏                                                   | 12.099999999999786/100 [00:08<00:56,  1.57it/s]\n",
      "time:  12%|███████▏                                                   | 12.279999999999783/100 [00:08<00:54,  1.62it/s]\n",
      "time:  12%|███████▎                                                   | 12.449999999999779/100 [00:09<00:56,  1.55it/s]\n",
      "time:  13%|███████▍                                                   | 12.609999999999776/100 [00:09<01:00,  1.45it/s]\n",
      "time:  13%|███████▌                                                   | 12.759999999999772/100 [00:09<01:01,  1.42it/s]\n",
      "time:  13%|███████▋                                                    | 12.90999999999977/100 [00:09<01:03,  1.37it/s]\n",
      "time:  13%|███████▋                                                   | 13.049999999999766/100 [00:09<01:06,  1.31it/s]\n",
      "time:  13%|███████▊                                                   | 13.189999999999763/100 [00:09<01:06,  1.30it/s]\n",
      "time:  13%|████████                                                    | 13.35999999999976/100 [00:09<01:01,  1.40it/s]\n",
      "time:  14%|███████▉                                                   | 13.529999999999756/100 [00:09<00:59,  1.46it/s]\n",
      "time:  14%|████████                                                   | 13.699999999999752/100 [00:09<00:57,  1.51it/s]\n",
      "time:  14%|████████▏                                                  | 13.859999999999749/100 [00:10<00:58,  1.46it/s]\n",
      "time:  14%|████████▎                                                  | 14.009999999999746/100 [00:10<01:02,  1.37it/s]\n",
      "time:  14%|████████▎                                                  | 14.149999999999743/100 [00:10<01:03,  1.35it/s]\n",
      "time:  14%|████████▌                                                   | 14.28999999999974/100 [00:10<01:04,  1.32it/s]\n",
      "time:  14%|████████▌                                                  | 14.429999999999737/100 [00:10<01:06,  1.29it/s]\n",
      "time:  15%|████████▌                                                  | 14.569999999999734/100 [00:10<01:05,  1.30it/s]\n",
      "time:  15%|████████▊                                                   | 14.73999999999973/100 [00:10<01:01,  1.40it/s]\n",
      "time:  15%|████████▊                                                  | 14.889999999999727/100 [00:10<00:59,  1.43it/s]\n",
      "time:  15%|████████▉                                                  | 15.049999999999724/100 [00:10<00:58,  1.46it/s]\n",
      "time:  15%|█████████                                                   | 15.19999999999972/100 [00:11<01:00,  1.40it/s]\n",
      "time:  15%|█████████                                                  | 15.349999999999717/100 [00:11<01:02,  1.35it/s]\n",
      "time:  15%|█████████▏                                                 | 15.489999999999714/100 [00:11<01:06,  1.26it/s]\n",
      "time:  16%|█████████▏                                                 | 15.629999999999711/100 [00:11<01:05,  1.28it/s]\n",
      "time:  16%|█████████▎                                                 | 15.779999999999708/100 [00:11<01:03,  1.32it/s]\n",
      "time:  16%|█████████▍                                                 | 15.919999999999705/100 [00:11<01:03,  1.32it/s]\n",
      "time:  16%|█████████▍                                                 | 16.099999999999717/100 [00:11<00:58,  1.43it/s]\n",
      "time:  16%|█████████▋                                                  | 16.24999999999974/100 [00:11<00:57,  1.45it/s]\n",
      "time:  16%|█████████▋                                                 | 16.409999999999766/100 [00:11<00:56,  1.49it/s]\n",
      "time:  17%|█████████▉                                                  | 16.56999999999979/100 [00:12<00:57,  1.46it/s]\n",
      "time:  17%|█████████▊                                                 | 16.719999999999814/100 [00:12<00:57,  1.45it/s]\n",
      "time:  17%|█████████▉                                                 | 16.869999999999838/100 [00:12<00:57,  1.45it/s]\n",
      "time:  17%|██████████▏                                                 | 17.01999999999986/100 [00:12<00:57,  1.44it/s]\n",
      "time:  17%|██████████▏                                                | 17.169999999999884/100 [00:12<00:57,  1.45it/s]\n",
      "time:  17%|██████████▏                                                | 17.319999999999908/100 [00:12<00:59,  1.38it/s]\n",
      "time:  17%|██████████▎                                                | 17.489999999999934/100 [00:12<00:56,  1.46it/s]\n",
      "time:  18%|██████████▍                                                | 17.689999999999966/100 [00:12<00:51,  1.59it/s]\n",
      "time:  18%|█████████████                                                            | 17.9/100 [00:12<00:48,  1.71it/s]\n",
      "time:  18%|██████████▋                                                | 18.080000000000027/100 [00:13<00:49,  1.65it/s]\n",
      "time:  18%|██████████▊                                                | 18.250000000000053/100 [00:13<00:50,  1.62it/s]\n",
      "time:  18%|███████████                                                 | 18.42000000000008/100 [00:13<00:55,  1.46it/s]\n",
      "time:  19%|██████████▉                                                | 18.580000000000105/100 [00:13<01:00,  1.35it/s]\n",
      "time:  19%|███████████▏                                                | 18.73000000000013/100 [00:13<01:00,  1.34it/s]\n",
      "time:  19%|███████████▎                                                | 18.88000000000015/100 [00:13<00:58,  1.38it/s]\n",
      "time:  19%|███████████▍                                                | 19.06000000000018/100 [00:13<00:54,  1.48it/s]\n",
      "time:  19%|███████████▌                                                | 19.25000000000021/100 [00:13<00:50,  1.59it/s]\n",
      "time:  19%|███████████▋                                                | 19.45000000000024/100 [00:13<00:48,  1.68it/s]\n",
      "time:  20%|███████████▊                                                | 19.63000000000027/100 [00:14<00:51,  1.57it/s]\n",
      "time:  20%|███████████▋                                               | 19.800000000000296/100 [00:14<00:52,  1.53it/s]\n",
      "time:  20%|███████████▊                                               | 19.970000000000322/100 [00:14<00:50,  1.58it/s]\n",
      "time:  20%|████████████                                                | 20.14000000000035/100 [00:14<00:53,  1.50it/s]\n",
      "time:  20%|███████████▉                                               | 20.300000000000374/100 [00:14<00:55,  1.44it/s]\n",
      "time:  20%|████████████                                               | 20.450000000000397/100 [00:14<00:57,  1.38it/s]\n",
      "time:  21%|████████████▏                                              | 20.620000000000424/100 [00:14<00:54,  1.46it/s]\n"
     ]
    },
    {
     "name": "stderr",
     "output_type": "stream",
     "text": [
      "time:  21%|████████████▎                                              | 20.820000000000455/100 [00:14<00:50,  1.58it/s]\n",
      "time:  21%|████████████▌                                               | 20.99000000000048/100 [00:14<00:49,  1.61it/s]\n",
      "time:  21%|████████████▍                                              | 21.160000000000508/100 [00:15<00:50,  1.56it/s]\n",
      "time:  21%|████████████▌                                              | 21.320000000000533/100 [00:15<00:52,  1.51it/s]\n",
      "time:  21%|████████████▋                                              | 21.480000000000558/100 [00:15<00:51,  1.53it/s]\n",
      "time:  22%|████████████▊                                              | 21.640000000000583/100 [00:15<00:51,  1.52it/s]\n",
      "time:  22%|█████████████                                               | 21.80000000000061/100 [00:15<00:51,  1.53it/s]\n",
      "time:  22%|████████████▉                                              | 21.960000000000633/100 [00:15<00:52,  1.48it/s]\n",
      "time:  22%|█████████████▎                                              | 22.14000000000066/100 [00:15<00:50,  1.55it/s]\n",
      "time:  22%|█████████████▏                                             | 22.350000000000694/100 [00:15<00:46,  1.67it/s]\n",
      "time:  23%|█████████████▌                                              | 22.57000000000073/100 [00:15<00:43,  1.79it/s]\n",
      "time:  23%|█████████████▋                                              | 22.76000000000076/100 [00:16<00:45,  1.69it/s]\n",
      "time:  23%|█████████████▌                                             | 22.940000000000786/100 [00:16<00:46,  1.66it/s]\n",
      "time:  23%|█████████████▋                                             | 23.110000000000813/100 [00:16<00:49,  1.57it/s]\n",
      "time:  23%|█████████████▉                                              | 23.28000000000084/100 [00:16<00:48,  1.57it/s]\n",
      "time:  23%|█████████████▊                                             | 23.460000000000868/100 [00:16<00:47,  1.61it/s]\n",
      "time:  24%|█████████████▉                                             | 23.630000000000894/100 [00:16<00:47,  1.61it/s]\n",
      "time:  24%|██████████████▎                                             | 23.80000000000092/100 [00:16<00:46,  1.62it/s]\n",
      "time:  24%|██████████████▍                                             | 23.99000000000095/100 [00:16<00:44,  1.70it/s]\n",
      "time:  24%|██████████████▌                                             | 24.17000000000098/100 [00:16<00:44,  1.71it/s]\n",
      "time:  24%|██████████████▎                                            | 24.350000000001007/100 [00:17<00:46,  1.62it/s]\n",
      "time:  25%|██████████████▍                                            | 24.520000000001033/100 [00:17<00:47,  1.57it/s]\n",
      "time:  25%|██████████████▊                                             | 24.68000000000106/100 [00:17<00:49,  1.52it/s]\n",
      "time:  25%|██████████████▋                                            | 24.840000000001083/100 [00:17<00:52,  1.43it/s]\n",
      "time:  25%|██████████████▋                                            | 24.990000000001107/100 [00:17<00:52,  1.43it/s]\n",
      "time:  25%|███████████████                                             | 25.14000000000113/100 [00:17<00:53,  1.40it/s]\n",
      "time:  25%|███████████████▏                                            | 25.32000000000116/100 [00:17<00:49,  1.49it/s]\n",
      "time:  26%|███████████████                                            | 25.540000000001193/100 [00:17<00:45,  1.65it/s]\n",
      "time:  26%|███████████████▏                                           | 25.740000000001224/100 [00:17<00:42,  1.73it/s]\n",
      "time:  26%|███████████████▎                                           | 25.920000000001252/100 [00:18<00:45,  1.64it/s]\n",
      "time:  26%|███████████████▋                                            | 26.09000000000128/100 [00:18<00:45,  1.61it/s]\n",
      "time:  26%|███████████████▍                                           | 26.260000000001305/100 [00:18<00:46,  1.60it/s]\n",
      "time:  26%|███████████████▌                                           | 26.430000000001332/100 [00:18<00:47,  1.54it/s]\n",
      "time:  27%|███████████████▋                                           | 26.590000000001357/100 [00:18<00:48,  1.53it/s]\n",
      "time:  27%|███████████████▊                                           | 26.760000000001384/100 [00:18<00:46,  1.56it/s]\n",
      "time:  27%|████████████████▏                                           | 26.94000000000141/100 [00:18<00:45,  1.61it/s]\n",
      "time:  27%|████████████████                                           | 27.140000000001443/100 [00:18<00:42,  1.71it/s]\n",
      "time:  27%|████████████████▏                                          | 27.360000000001477/100 [00:18<00:39,  1.82it/s]\n",
      "time:  28%|████████████████▎                                          | 27.550000000001507/100 [00:18<00:41,  1.76it/s]\n",
      "time:  28%|████████████████▎                                          | 27.730000000001535/100 [00:19<00:42,  1.71it/s]\n",
      "time:  28%|████████████████▍                                          | 27.910000000001563/100 [00:19<00:44,  1.61it/s]\n",
      "time:  28%|████████████████▊                                           | 28.08000000000159/100 [00:19<00:47,  1.52it/s]\n",
      "time:  28%|████████████████▋                                          | 28.260000000001618/100 [00:19<00:45,  1.58it/s]\n",
      "time:  28%|████████████████▊                                          | 28.430000000001645/100 [00:19<00:46,  1.54it/s]\n",
      "time:  29%|█████████████████▏                                          | 28.59000000000167/100 [00:19<00:46,  1.53it/s]\n",
      "time:  29%|█████████████████▌                                           | 28.7800000000017/100 [00:19<00:43,  1.63it/s]\n",
      "time:  29%|█████████████████                                          | 28.950000000001726/100 [00:19<00:44,  1.59it/s]\n",
      "time:  29%|█████████████████▏                                         | 29.120000000001752/100 [00:20<00:46,  1.54it/s]\n",
      "time:  29%|█████████████████▎                                         | 29.280000000001777/100 [00:20<00:47,  1.48it/s]\n",
      "time:  29%|█████████████████▎                                         | 29.440000000001803/100 [00:20<00:46,  1.50it/s]\n",
      "time:  30%|█████████████████▍                                         | 29.600000000001828/100 [00:20<00:46,  1.51it/s]\n",
      "time:  30%|█████████████████▌                                         | 29.770000000001854/100 [00:20<00:45,  1.56it/s]\n",
      "time:  30%|█████████████████▉                                          | 29.93000000000188/100 [00:20<00:47,  1.48it/s]\n",
      "time:  30%|█████████████████▋                                         | 30.080000000001903/100 [00:20<00:47,  1.46it/s]\n",
      "time:  30%|█████████████████▊                                         | 30.280000000001934/100 [00:20<00:44,  1.58it/s]\n",
      "time:  30%|█████████████████▉                                         | 30.480000000001965/100 [00:20<00:41,  1.68it/s]\n",
      "time:  31%|██████████████████                                         | 30.660000000001993/100 [00:20<00:41,  1.66it/s]\n",
      "time:  31%|██████████████████▍                                         | 30.83000000000202/100 [00:21<00:45,  1.52it/s]\n",
      "time:  31%|██████████████████▎                                        | 30.990000000002045/100 [00:21<00:46,  1.48it/s]\n",
      "time:  31%|██████████████████▋                                         | 31.15000000000207/100 [00:21<00:45,  1.50it/s]\n",
      "time:  31%|██████████████████▍                                        | 31.310000000002095/100 [00:21<00:48,  1.41it/s]\n",
      "time:  31%|██████████████████▉                                         | 31.46000000000212/100 [00:21<00:47,  1.43it/s]\n",
      "time:  32%|██████████████████▋                                        | 31.620000000002143/100 [00:21<00:46,  1.47it/s]\n",
      "time:  32%|██████████████████▊                                        | 31.830000000002176/100 [00:21<00:42,  1.60it/s]\n",
      "time:  32%|███████████████████▌                                         | 32.0200000000022/100 [00:21<00:40,  1.67it/s]\n",
      "time:  32%|███████████████████▎                                        | 32.20000000000216/100 [00:22<00:43,  1.57it/s]\n",
      "time:  32%|███████████████████▍                                        | 32.37000000000213/100 [00:22<00:44,  1.52it/s]\n",
      "time:  33%|███████████████████▊                                         | 32.5300000000021/100 [00:22<00:46,  1.46it/s]\n"
     ]
    },
    {
     "name": "stderr",
     "output_type": "stream",
     "text": [
      "time:  33%|███████████████████▌                                        | 32.68000000000207/100 [00:22<00:45,  1.47it/s]\n",
      "time:  33%|███████████████████▋                                        | 32.83000000000204/100 [00:22<00:45,  1.47it/s]\n",
      "time:  33%|███████████████████▊                                        | 32.98000000000201/100 [00:22<00:46,  1.43it/s]\n",
      "time:  33%|███████████████████▌                                       | 33.150000000001974/100 [00:22<00:44,  1.49it/s]\n",
      "time:  33%|████████████████████                                        | 33.36000000000193/100 [00:22<00:41,  1.62it/s]\n",
      "time:  34%|███████████████████▊                                       | 33.540000000001896/100 [00:22<00:39,  1.67it/s]\n",
      "time:  34%|████████████████████▏                                       | 33.74000000000186/100 [00:22<00:38,  1.72it/s]\n",
      "time:  34%|████████████████████▎                                       | 33.92000000000182/100 [00:23<00:38,  1.70it/s]\n",
      "time:  34%|████████████████████                                       | 34.100000000001785/100 [00:23<00:40,  1.64it/s]\n",
      "time:  34%|████████████████████▌                                       | 34.27000000000175/100 [00:23<00:40,  1.61it/s]\n",
      "time:  34%|████████████████████▋                                       | 34.44000000000172/100 [00:23<00:40,  1.61it/s]\n",
      "time:  35%|████████████████████▊                                       | 34.61000000000168/100 [00:23<00:42,  1.56it/s]\n",
      "time:  35%|████████████████████▊                                       | 34.77000000000165/100 [00:23<00:43,  1.51it/s]\n",
      "time:  35%|████████████████████▋                                      | 34.960000000001614/100 [00:23<00:40,  1.61it/s]\n",
      "time:  35%|█████████████████████                                       | 35.18000000000157/100 [00:23<00:37,  1.74it/s]\n",
      "time:  35%|█████████████████████▏                                      | 35.37000000000153/100 [00:23<00:36,  1.75it/s]\n",
      "time:  36%|████████████████████▉                                      | 35.550000000001496/100 [00:24<00:39,  1.64it/s]\n",
      "time:  36%|█████████████████████▍                                      | 35.73000000000146/100 [00:24<00:38,  1.67it/s]\n",
      "time:  36%|█████████████████████▌                                      | 35.90000000000143/100 [00:24<00:39,  1.64it/s]\n",
      "time:  36%|█████████████████████▋                                      | 36.07000000000139/100 [00:24<00:40,  1.57it/s]\n",
      "time:  36%|█████████████████████▋                                      | 36.24000000000136/100 [00:24<00:40,  1.59it/s]\n",
      "time:  36%|█████████████████████▍                                     | 36.410000000001325/100 [00:24<00:41,  1.53it/s]\n",
      "time:  37%|█████████████████████▉                                      | 36.60000000000129/100 [00:24<00:39,  1.62it/s]\n",
      "time:  37%|██████████████████████                                      | 36.80000000000125/100 [00:24<00:36,  1.71it/s]\n",
      "time:  37%|██████████████████████▏                                     | 36.98000000000121/100 [00:24<00:36,  1.71it/s]\n",
      "time:  37%|█████████████████████▉                                     | 37.160000000001176/100 [00:25<00:37,  1.68it/s]\n",
      "time:  37%|██████████████████████▍                                     | 37.33000000000114/100 [00:25<00:38,  1.63it/s]\n",
      "time:  38%|██████████████████████▌                                     | 37.50000000000111/100 [00:25<00:40,  1.55it/s]\n",
      "time:  38%|██████████████████████▌                                     | 37.66000000000108/100 [00:25<00:40,  1.56it/s]\n",
      "time:  38%|██████████████████████▎                                    | 37.820000000001045/100 [00:25<00:41,  1.49it/s]\n",
      "time:  38%|██████████████████████▊                                     | 37.98000000000101/100 [00:25<00:41,  1.49it/s]\n",
      "time:  38%|██████████████████████▉                                     | 38.16000000000098/100 [00:25<00:39,  1.56it/s]\n",
      "time:  38%|███████████████████████                                     | 38.35000000000094/100 [00:25<00:37,  1.65it/s]\n",
      "time:  39%|██████████████████████▋                                    | 38.520000000000906/100 [00:25<00:37,  1.66it/s]\n",
      "time:  39%|███████████████████████▏                                    | 38.69000000000087/100 [00:26<00:38,  1.58it/s]\n",
      "time:  39%|███████████████████████▎                                    | 38.85000000000084/100 [00:26<00:41,  1.49it/s]\n",
      "time:  39%|███████████████████████▍                                    | 39.01000000000081/100 [00:26<00:43,  1.42it/s]\n",
      "time:  39%|███████████████████████▍                                    | 39.16000000000078/100 [00:26<00:43,  1.40it/s]\n",
      "time:  39%|███████████████████████▌                                    | 39.31000000000075/100 [00:26<00:43,  1.39it/s]\n",
      "time:  39%|███████████████████████▋                                    | 39.46000000000072/100 [00:26<00:44,  1.35it/s]\n",
      "time:  40%|███████████████████████▊                                    | 39.65000000000068/100 [00:26<00:40,  1.48it/s]\n",
      "time:  40%|███████████████████████▉                                    | 39.84000000000064/100 [00:26<00:38,  1.58it/s]\n",
      "time:  40%|████████████████████████▍                                    | 40.0500000000006/100 [00:26<00:35,  1.68it/s]\n",
      "time:  40%|███████████████████████▋                                   | 40.230000000000565/100 [00:27<00:38,  1.56it/s]\n",
      "time:  40%|████████████████████████▏                                   | 40.40000000000053/100 [00:27<00:39,  1.52it/s]\n",
      "time:  41%|████████████████████████▋                                    | 40.5600000000005/100 [00:27<00:41,  1.44it/s]\n",
      "time:  41%|████████████████████████▍                                   | 40.72000000000047/100 [00:27<00:40,  1.48it/s]\n",
      "time:  41%|████████████████████████                                   | 40.880000000000436/100 [00:27<00:39,  1.48it/s]\n",
      "time:  41%|████████████████████████▏                                  | 41.040000000000404/100 [00:27<00:40,  1.46it/s]\n",
      "time:  41%|████████████████████████▋                                   | 41.20000000000037/100 [00:27<00:39,  1.49it/s]\n",
      "time:  41%|████████████████████████▊                                   | 41.41000000000033/100 [00:27<00:36,  1.62it/s]\n",
      "time:  42%|████████████████████████▉                                   | 41.60000000000029/100 [00:27<00:34,  1.69it/s]\n",
      "time:  42%|█████████████████████████                                   | 41.78000000000026/100 [00:28<00:36,  1.62it/s]\n",
      "time:  42%|█████████████████████████▏                                  | 41.95000000000022/100 [00:28<00:35,  1.62it/s]\n",
      "time:  42%|█████████████████████████▎                                  | 42.12000000000019/100 [00:28<00:35,  1.63it/s]\n",
      "time:  42%|████████████████████████▉                                  | 42.290000000000155/100 [00:28<00:36,  1.56it/s]\n",
      "time:  42%|█████████████████████████                                  | 42.450000000000124/100 [00:28<00:38,  1.49it/s]\n",
      "time:  43%|█████████████████████████▌                                  | 42.61000000000009/100 [00:28<00:40,  1.43it/s]\n",
      "time:  43%|█████████████████████████▏                                 | 42.790000000000056/100 [00:28<00:37,  1.52it/s]\n",
      "time:  43%|█████████████████████████▊                                  | 42.96000000000002/100 [00:28<00:36,  1.55it/s]\n",
      "time:  43%|█████████████████████████▍                                 | 43.139999999999986/100 [00:28<00:35,  1.60it/s]\n",
      "time:  43%|█████████████████████████▉                                  | 43.30999999999995/100 [00:29<00:35,  1.58it/s]\n",
      "time:  43%|██████████████████████████                                  | 43.46999999999992/100 [00:29<00:37,  1.49it/s]\n",
      "time:  44%|██████████████████████████▏                                 | 43.62999999999989/100 [00:29<00:38,  1.45it/s]\n",
      "time:  44%|██████████████████████████▎                                 | 43.77999999999986/100 [00:29<00:41,  1.37it/s]\n",
      "time:  44%|██████████████████████████▎                                 | 43.92999999999983/100 [00:29<00:40,  1.40it/s]\n",
      "time:  44%|██████████████████████████▉                                  | 44.0799999999998/100 [00:29<00:41,  1.36it/s]\n",
      "time:  44%|██████████████████████████▌                                 | 44.21999999999977/100 [00:29<00:40,  1.37it/s]\n"
     ]
    },
    {
     "name": "stderr",
     "output_type": "stream",
     "text": [
      "time:  44%|██████████████████████████▏                                | 44.409999999999734/100 [00:29<00:37,  1.49it/s]\n",
      "time:  45%|███████████████████████████▏                                 | 44.5899999999997/100 [00:29<00:35,  1.56it/s]\n",
      "time:  45%|██████████████████████████▍                                | 44.749999999999666/100 [00:30<00:36,  1.51it/s]\n",
      "time:  45%|██████████████████████████▍                                | 44.909999999999634/100 [00:30<00:37,  1.49it/s]\n",
      "time:  45%|███████████████████████████▍                                 | 45.0699999999996/100 [00:30<00:36,  1.49it/s]\n",
      "time:  45%|███████████████████████████▏                                | 45.22999999999957/100 [00:30<00:37,  1.46it/s]\n",
      "time:  45%|███████████████████████████▏                                | 45.37999999999954/100 [00:30<00:37,  1.44it/s]\n",
      "time:  46%|███████████████████████████▎                                | 45.53999999999951/100 [00:30<00:37,  1.47it/s]\n",
      "time:  46%|███████████████████████████▍                                | 45.69999999999948/100 [00:30<00:36,  1.50it/s]\n",
      "time:  46%|███████████████████████████                                | 45.909999999999435/100 [00:30<00:33,  1.63it/s]\n",
      "time:  46%|███████████████████████████▋                                | 46.11999999999939/100 [00:30<00:30,  1.75it/s]\n",
      "time:  46%|███████████████████████████▊                                | 46.29999999999936/100 [00:31<00:31,  1.72it/s]\n",
      "time:  46%|███████████████████████████▉                                | 46.47999999999932/100 [00:31<00:35,  1.51it/s]\n",
      "time:  47%|███████████████████████████▉                                | 46.63999999999929/100 [00:31<00:38,  1.37it/s]\n",
      "time:  47%|████████████████████████████                                | 46.78999999999926/100 [00:31<00:40,  1.30it/s]\n",
      "time:  47%|████████████████████████████▏                               | 46.92999999999923/100 [00:31<00:43,  1.23it/s]\n",
      "time:  47%|████████████████████████████▏                               | 47.05999999999921/100 [00:31<00:44,  1.18it/s]\n",
      "time:  47%|████████████████████████████▎                               | 47.18999999999918/100 [00:31<00:43,  1.21it/s]\n",
      "time:  47%|████████████████████████████▍                               | 47.33999999999915/100 [00:31<00:41,  1.28it/s]\n",
      "time:  47%|████████████████████████████▍                               | 47.48999999999912/100 [00:31<00:39,  1.33it/s]\n",
      "time:  48%|████████████████████████████▌                               | 47.64999999999909/100 [00:32<00:37,  1.39it/s]\n",
      "time:  48%|████████████████████████████▋                               | 47.79999999999906/100 [00:32<00:37,  1.38it/s]\n",
      "time:  48%|████████████████████████████▊                               | 47.93999999999903/100 [00:32<00:37,  1.37it/s]\n",
      "time:  48%|█████████████████████████████▊                                | 48.099999999999/100 [00:32<00:36,  1.43it/s]\n",
      "time:  48%|████████████████████████████▉                               | 48.24999999999897/100 [00:32<00:36,  1.41it/s]\n",
      "time:  48%|█████████████████████████████                               | 48.39999999999894/100 [00:32<00:36,  1.40it/s]\n",
      "time:  49%|████████████████████████████▋                              | 48.569999999998906/100 [00:32<00:35,  1.46it/s]\n",
      "time:  49%|████████████████████████████▊                              | 48.769999999998866/100 [00:32<00:32,  1.59it/s]\n",
      "time:  49%|█████████████████████████████▍                              | 48.96999999999883/100 [00:32<00:30,  1.68it/s]\n",
      "time:  49%|█████████████████████████████▍                              | 49.14999999999879/100 [00:33<00:32,  1.57it/s]\n",
      "time:  49%|█████████████████████████████▌                              | 49.31999999999876/100 [00:33<00:33,  1.53it/s]\n",
      "time:  49%|█████████████████████████████▏                             | 49.479999999998725/100 [00:33<00:33,  1.52it/s]\n",
      "time:  50%|█████████████████████████████▊                              | 49.63999999999869/100 [00:33<00:33,  1.52it/s]\n",
      "time:  50%|█████████████████████████████▉                              | 49.79999999999866/100 [00:33<00:32,  1.53it/s]\n",
      "time:  50%|█████████████████████████████▉                              | 49.95999999999863/100 [00:33<00:32,  1.52it/s]\n",
      "time:  50%|█████████████████████████████▌                             | 50.129999999998596/100 [00:33<00:31,  1.56it/s]\n",
      "time:  50%|█████████████████████████████▋                             | 50.329999999998556/100 [00:33<00:29,  1.67it/s]\n",
      "time:  51%|█████████████████████████████▊                             | 50.539999999998514/100 [00:33<00:27,  1.77it/s]\n",
      "time:  51%|█████████████████████████████▉                             | 50.729999999998476/100 [00:34<00:28,  1.72it/s]\n",
      "time:  51%|██████████████████████████████▌                             | 50.90999999999844/100 [00:34<00:30,  1.63it/s]\n",
      "time:  51%|██████████████████████████████▋                             | 51.07999999999841/100 [00:34<00:31,  1.53it/s]\n",
      "time:  51%|██████████████████████████████▏                            | 51.239999999998375/100 [00:34<00:32,  1.49it/s]\n",
      "time:  51%|██████████████████████████████▊                             | 51.39999999999834/100 [00:34<00:33,  1.45it/s]\n",
      "time:  52%|██████████████████████████████▉                             | 51.54999999999831/100 [00:34<00:33,  1.45it/s]\n",
      "time:  52%|███████████████████████████████                             | 51.69999999999828/100 [00:34<00:32,  1.47it/s]\n",
      "time:  52%|██████████████████████████████▌                            | 51.889999999998246/100 [00:34<00:30,  1.57it/s]\n",
      "time:  52%|███████████████████████████████▏                            | 52.05999999999821/100 [00:34<00:30,  1.58it/s]\n",
      "time:  52%|███████████████████████████████▎                            | 52.21999999999818/100 [00:35<00:31,  1.52it/s]\n",
      "time:  52%|███████████████████████████████▍                            | 52.37999999999815/100 [00:35<00:31,  1.52it/s]\n",
      "time:  53%|██████████████████████████████▉                            | 52.539999999998116/100 [00:35<00:32,  1.45it/s]\n",
      "time:  53%|███████████████████████████████                            | 52.699999999998084/100 [00:35<00:31,  1.49it/s]\n",
      "time:  53%|███████████████████████████████▋                            | 52.85999999999805/100 [00:35<00:31,  1.51it/s]\n",
      "time:  53%|███████████████████████████████▊                            | 53.03999999999802/100 [00:35<00:29,  1.57it/s]\n",
      "time:  53%|███████████████████████████████▍                           | 53.199999999997985/100 [00:35<00:30,  1.52it/s]\n",
      "time:  53%|███████████████████████████████▌                           | 53.399999999997945/100 [00:35<00:28,  1.63it/s]\n",
      "time:  54%|███████████████████████████████▌                           | 53.599999999997905/100 [00:35<00:27,  1.71it/s]\n",
      "time:  54%|████████████████████████████████▎                           | 53.77999999999787/100 [00:36<00:28,  1.63it/s]\n",
      "time:  54%|███████████████████████████████▊                           | 53.949999999997836/100 [00:36<00:28,  1.61it/s]\n",
      "time:  54%|█████████████████████████████████                            | 54.1199999999978/100 [00:36<00:28,  1.59it/s]\n",
      "time:  54%|████████████████████████████████▌                           | 54.28999999999777/100 [00:36<00:28,  1.58it/s]\n",
      "time:  54%|████████████████████████████████▏                          | 54.449999999997736/100 [00:36<00:31,  1.46it/s]\n",
      "time:  55%|████████████████████████████████▏                          | 54.599999999997706/100 [00:36<00:31,  1.42it/s]\n",
      "time:  55%|████████████████████████████████▊                           | 54.74999999999768/100 [00:36<00:33,  1.36it/s]\n",
      "time:  55%|████████████████████████████████▉                           | 54.92999999999764/100 [00:36<00:30,  1.46it/s]\n",
      "time:  55%|█████████████████████████████████▋                           | 55.1299999999976/100 [00:36<00:28,  1.58it/s]\n",
      "time:  55%|█████████████████████████████████▏                          | 55.29999999999757/100 [00:37<00:27,  1.60it/s]\n",
      "time:  55%|█████████████████████████████████▎                          | 55.46999999999753/100 [00:37<00:28,  1.57it/s]\n",
      "time:  56%|█████████████████████████████████▉                           | 55.6399999999975/100 [00:37<00:28,  1.55it/s]\n"
     ]
    },
    {
     "name": "stderr",
     "output_type": "stream",
     "text": [
      "time:  56%|█████████████████████████████████▍                          | 55.79999999999747/100 [00:37<00:29,  1.49it/s]\n",
      "time:  56%|█████████████████████████████████                          | 55.959999999997436/100 [00:37<00:29,  1.47it/s]\n",
      "time:  56%|█████████████████████████████████                          | 56.109999999997406/100 [00:37<00:30,  1.45it/s]\n",
      "time:  56%|█████████████████████████████████▏                         | 56.269999999997374/100 [00:37<00:29,  1.49it/s]\n",
      "time:  56%|█████████████████████████████████▉                          | 56.48999999999733/100 [00:37<00:26,  1.64it/s]\n",
      "time:  57%|██████████████████████████████████                          | 56.67999999999729/100 [00:37<00:25,  1.71it/s]\n",
      "time:  57%|█████████████████████████████████▌                         | 56.869999999997255/100 [00:37<00:24,  1.74it/s]\n",
      "time:  57%|██████████████████████████████████▏                         | 57.04999999999722/100 [00:38<00:25,  1.69it/s]\n",
      "time:  57%|██████████████████████████████████▎                         | 57.22999999999718/100 [00:38<00:26,  1.60it/s]\n",
      "time:  57%|██████████████████████████████████▍                         | 57.39999999999715/100 [00:38<00:26,  1.58it/s]\n",
      "time:  58%|█████████████████████████████████▉                         | 57.569999999997115/100 [00:38<00:27,  1.56it/s]\n",
      "time:  58%|██████████████████████████████████                         | 57.729999999997084/100 [00:38<00:27,  1.52it/s]\n",
      "time:  58%|██████████████████████████████████▋                         | 57.88999999999705/100 [00:38<00:27,  1.52it/s]\n",
      "time:  58%|██████████████████████████████████▎                        | 58.079999999997014/100 [00:38<00:26,  1.61it/s]\n",
      "time:  58%|██████████████████████████████████▉                         | 58.28999999999697/100 [00:38<00:24,  1.73it/s]\n",
      "time:  58%|███████████████████████████████████                         | 58.49999999999693/100 [00:38<00:22,  1.81it/s]\n",
      "time:  59%|███████████████████████████████████▏                        | 58.68999999999689/100 [00:39<00:25,  1.65it/s]\n",
      "time:  59%|███████████████████████████████████▎                        | 58.86999999999686/100 [00:39<00:25,  1.65it/s]\n",
      "time:  59%|███████████████████████████████████▍                        | 59.03999999999682/100 [00:39<00:26,  1.55it/s]\n",
      "time:  59%|███████████████████████████████████▌                        | 59.19999999999679/100 [00:39<00:27,  1.50it/s]\n",
      "time:  59%|███████████████████████████████████▌                        | 59.35999999999676/100 [00:39<00:27,  1.46it/s]\n",
      "time:  60%|███████████████████████████████████▋                        | 59.50999999999673/100 [00:39<00:31,  1.30it/s]\n",
      "time:  60%|████████████████████████████████████▍                        | 59.6499999999967/100 [00:39<00:34,  1.15it/s]\n",
      "time:  60%|███████████████████████████████████▎                       | 59.779999999996676/100 [00:40<00:36,  1.09it/s]\n",
      "time:  60%|███████████████████████████████████▉                        | 59.89999999999665/100 [00:40<00:37,  1.06it/s]\n",
      "time:  60%|████████████████████████████████████                        | 60.01999999999663/100 [00:40<00:42,  1.06s/it]\n",
      "time:  60%|████████████████████████████████████                        | 60.11999999999661/100 [00:40<00:46,  1.17s/it]\n",
      "time:  60%|████████████████████████████████████▏                       | 60.26999999999658/100 [00:40<00:41,  1.04s/it]\n",
      "time:  60%|████████████████████████████████████▏                       | 60.40999999999655/100 [00:40<00:37,  1.05it/s]\n",
      "time:  61%|████████████████████████████████████▎                       | 60.56999999999652/100 [00:40<00:33,  1.16it/s]\n",
      "time:  61%|████████████████████████████████████▍                       | 60.72999999999649/100 [00:40<00:31,  1.26it/s]\n",
      "time:  61%|████████████████████████████████████▌                       | 60.87999999999646/100 [00:40<00:29,  1.31it/s]\n",
      "time:  61%|████████████████████████████████████▌                       | 61.01999999999643/100 [00:41<00:30,  1.26it/s]\n",
      "time:  61%|█████████████████████████████████████▎                       | 61.1599999999964/100 [00:41<00:30,  1.26it/s]\n",
      "time:  61%|████████████████████████████████████▏                      | 61.289999999996375/100 [00:41<00:30,  1.26it/s]\n",
      "time:  61%|████████████████████████████████████▊                       | 61.42999999999635/100 [00:41<00:30,  1.26it/s]\n",
      "time:  62%|████████████████████████████████████▉                       | 61.55999999999632/100 [00:41<00:30,  1.25it/s]\n",
      "time:  62%|█████████████████████████████████████                       | 61.70999999999629/100 [00:41<00:29,  1.30it/s]\n",
      "time:  62%|█████████████████████████████████████                       | 61.86999999999626/100 [00:41<00:27,  1.38it/s]\n",
      "time:  62%|████████████████████████████████████▌                      | 62.049999999996224/100 [00:41<00:25,  1.47it/s]\n",
      "time:  62%|█████████████████████████████████████▎                      | 62.20999999999619/100 [00:41<00:25,  1.47it/s]\n",
      "time:  62%|█████████████████████████████████████▍                      | 62.35999999999616/100 [00:42<00:35,  1.07it/s]\n",
      "time:  62%|█████████████████████████████████████▍                      | 62.48999999999614/100 [00:42<00:36,  1.03it/s]\n",
      "time:  63%|█████████████████████████████████████▌                      | 62.60999999999611/100 [00:42<00:41,  1.10s/it]\n",
      "time:  63%|█████████████████████████████████████▋                      | 62.71999999999609/100 [00:42<00:40,  1.09s/it]\n",
      "time:  63%|█████████████████████████████████████▋                      | 62.82999999999607/100 [00:42<00:38,  1.04s/it]\n",
      "time:  63%|█████████████████████████████████████▊                      | 63.00999999999603/100 [00:42<00:33,  1.11it/s]\n",
      "time:  63%|█████████████████████████████████████▎                     | 63.199999999995995/100 [00:42<00:29,  1.27it/s]\n",
      "time:  63%|██████████████████████████████████████                      | 63.35999999999596/100 [00:42<00:27,  1.33it/s]\n",
      "time:  64%|█████████████████████████████████████▍                     | 63.509999999995934/100 [00:43<00:27,  1.33it/s]\n",
      "time:  64%|██████████████████████████████████████▊                      | 63.6699999999959/100 [00:43<00:26,  1.39it/s]\n",
      "time:  64%|██████████████████████████████████████▎                     | 63.81999999999587/100 [00:43<00:26,  1.39it/s]\n",
      "time:  64%|██████████████████████████████████████▍                     | 63.96999999999584/100 [00:43<00:26,  1.37it/s]\n",
      "time:  64%|███████████████████████████████████████                      | 64.1199999999959/100 [00:43<00:26,  1.34it/s]\n",
      "time:  64%|██████████████████████████████████████▌                     | 64.25999999999597/100 [00:43<00:26,  1.35it/s]\n",
      "time:  64%|██████████████████████████████████████▋                     | 64.39999999999604/100 [00:43<00:26,  1.36it/s]\n",
      "time:  65%|██████████████████████████████████████▊                     | 64.58999999999614/100 [00:43<00:23,  1.48it/s]\n",
      "time:  65%|██████████████████████████████████████▊                     | 64.76999999999623/100 [00:43<00:22,  1.55it/s]\n",
      "time:  65%|██████████████████████████████████████▉                     | 64.92999999999631/100 [00:44<00:23,  1.48it/s]\n",
      "time:  65%|███████████████████████████████████████▋                     | 65.0899999999964/100 [00:44<00:23,  1.48it/s]\n",
      "time:  65%|███████████████████████████████████████▏                    | 65.24999999999648/100 [00:44<00:25,  1.39it/s]\n",
      "time:  65%|███████████████████████████████████████▏                    | 65.39999999999655/100 [00:44<00:25,  1.34it/s]\n",
      "time:  66%|███████████████████████████████████████▎                    | 65.53999999999662/100 [00:44<00:25,  1.34it/s]\n",
      "time:  66%|████████████████████████████████████████                     | 65.6999999999967/100 [00:44<00:24,  1.39it/s]\n",
      "time:  66%|███████████████████████████████████████▌                    | 65.85999999999679/100 [00:44<00:23,  1.44it/s]\n",
      "time:  66%|███████████████████████████████████████▋                    | 66.04999999999688/100 [00:44<00:22,  1.54it/s]\n",
      "time:  66%|███████████████████████████████████████▋                    | 66.23999999999698/100 [00:44<00:20,  1.63it/s]\n",
      "time:  66%|███████████████████████████████████████▊                    | 66.40999999999707/100 [00:45<00:21,  1.54it/s]\n"
     ]
    },
    {
     "name": "stderr",
     "output_type": "stream",
     "text": [
      "time:  67%|███████████████████████████████████████▉                    | 66.56999999999715/100 [00:45<00:23,  1.42it/s]\n",
      "time:  67%|████████████████████████████████████████                    | 66.71999999999723/100 [00:45<00:24,  1.36it/s]\n",
      "time:  67%|████████████████████████████████████████▊                    | 66.8599999999973/100 [00:45<00:24,  1.34it/s]\n",
      "time:  67%|████████████████████████████████████████▏                   | 66.99999999999737/100 [00:45<00:24,  1.32it/s]\n",
      "time:  67%|████████████████████████████████████████▎                   | 67.13999999999744/100 [00:45<00:25,  1.28it/s]\n",
      "time:  67%|████████████████████████████████████████▍                   | 67.30999999999753/100 [00:45<00:23,  1.36it/s]\n",
      "time:  68%|████████████████████████████████████████▌                   | 67.50999999999763/100 [00:45<00:21,  1.50it/s]\n",
      "time:  68%|████████████████████████████████████████▌                   | 67.68999999999772/100 [00:45<00:20,  1.57it/s]\n",
      "time:  68%|████████████████████████████████████████▋                   | 67.85999999999781/100 [00:46<00:20,  1.55it/s]\n",
      "time:  68%|████████████████████████████████████████▊                   | 68.01999999999789/100 [00:46<00:20,  1.55it/s]\n",
      "time:  68%|████████████████████████████████████████▉                   | 68.17999999999797/100 [00:46<00:20,  1.55it/s]\n",
      "time:  68%|█████████████████████████████████████████                   | 68.33999999999806/100 [00:46<00:20,  1.51it/s]\n",
      "time:  68%|█████████████████████████████████████████                   | 68.49999999999814/100 [00:46<00:20,  1.50it/s]\n",
      "time:  69%|█████████████████████████████████████████▏                  | 68.65999999999822/100 [00:46<00:21,  1.45it/s]\n",
      "time:  69%|█████████████████████████████████████████▉                   | 68.8099999999983/100 [00:46<00:21,  1.45it/s]\n",
      "time:  69%|██████████████████████████████████████████                   | 69.0199999999984/100 [00:46<00:19,  1.59it/s]\n",
      "time:  69%|██████████████████████████████████████████▏                  | 69.2099999999985/100 [00:46<00:18,  1.66it/s]\n",
      "time:  69%|██████████████████████████████████████████▎                  | 69.3899999999986/100 [00:47<00:18,  1.64it/s]\n",
      "time:  70%|█████████████████████████████████████████▋                  | 69.55999999999868/100 [00:47<00:19,  1.54it/s]\n",
      "time:  70%|█████████████████████████████████████████▊                  | 69.71999999999876/100 [00:47<00:20,  1.51it/s]\n",
      "time:  70%|█████████████████████████████████████████▉                  | 69.87999999999884/100 [00:47<00:20,  1.44it/s]\n",
      "time:  70%|██████████████████████████████████████████                  | 70.02999999999892/100 [00:47<00:21,  1.37it/s]\n",
      "time:  70%|███████████████████████████████████████████▌                  | 70.189999999999/100 [00:47<00:20,  1.43it/s]\n",
      "time:  70%|██████████████████████████████████████████▏                 | 70.34999999999908/100 [00:47<00:20,  1.46it/s]\n",
      "time:  71%|██████████████████████████████████████████▎                 | 70.54999999999919/100 [00:47<00:18,  1.59it/s]\n",
      "time:  71%|███████████████████████████████████████████▏                 | 70.7599999999993/100 [00:47<00:17,  1.71it/s]\n",
      "time:  71%|██████████████████████████████████████████▌                 | 70.93999999999939/100 [00:48<00:17,  1.67it/s]\n",
      "time:  71%|██████████████████████████████████████████▋                 | 71.11999999999948/100 [00:48<00:18,  1.56it/s]\n",
      "time:  71%|██████████████████████████████████████████▊                 | 71.28999999999957/100 [00:48<00:19,  1.49it/s]\n",
      "time:  71%|██████████████████████████████████████████▊                 | 71.44999999999965/100 [00:48<00:18,  1.52it/s]\n",
      "time:  72%|██████████████████████████████████████████▉                 | 71.60999999999973/100 [00:48<00:18,  1.51it/s]\n",
      "time:  72%|███████████████████████████████████████████                 | 71.76999999999981/100 [00:48<00:19,  1.46it/s]\n",
      "time:  72%|███████████████████████████████████████████▉                 | 71.9299999999999/100 [00:48<00:18,  1.49it/s]\n",
      "time:  72%|███████████████████████████████████████████████████▉                    | 72.14/100 [00:48<00:17,  1.62it/s]\n",
      "time:  72%|███████████████████████████████████████████▍                | 72.36000000000011/100 [00:48<00:15,  1.75it/s]\n",
      "time:  73%|███████████████████████████████████████████▌                | 72.55000000000021/100 [00:49<00:16,  1.62it/s]\n",
      "time:  73%|████████████████████████████████████████████▎                | 72.7200000000003/100 [00:49<00:17,  1.58it/s]\n",
      "time:  73%|███████████████████████████████████████████▋                | 72.89000000000038/100 [00:49<00:17,  1.52it/s]\n",
      "time:  73%|███████████████████████████████████████████▊                | 73.06000000000047/100 [00:49<00:17,  1.56it/s]\n",
      "time:  73%|███████████████████████████████████████████▉                | 73.22000000000055/100 [00:49<00:17,  1.52it/s]\n",
      "time:  73%|████████████████████████████████████████████                | 73.38000000000063/100 [00:49<00:18,  1.46it/s]\n",
      "time:  74%|████████████████████████████████████████████▏               | 73.55000000000072/100 [00:49<00:17,  1.52it/s]\n",
      "time:  74%|████████████████████████████████████████████▎               | 73.75000000000082/100 [00:49<00:16,  1.63it/s]\n",
      "time:  74%|████████████████████████████████████████████▎               | 73.93000000000092/100 [00:49<00:15,  1.68it/s]\n",
      "time:  74%|████████████████████████████████████████████▍               | 74.11000000000101/100 [00:50<00:16,  1.59it/s]\n",
      "time:  74%|█████████████████████████████████████████████▎               | 74.2800000000011/100 [00:50<00:18,  1.40it/s]\n",
      "time:  74%|████████████████████████████████████████████▋               | 74.43000000000117/100 [00:50<00:18,  1.38it/s]\n",
      "time:  75%|████████████████████████████████████████████▋               | 74.58000000000125/100 [00:50<00:18,  1.39it/s]\n",
      "time:  75%|████████████████████████████████████████████▊               | 74.73000000000133/100 [00:50<00:18,  1.35it/s]\n",
      "time:  75%|█████████████████████████████████████████████▋               | 74.8700000000014/100 [00:50<00:18,  1.36it/s]\n",
      "time:  75%|█████████████████████████████████████████████               | 75.02000000000147/100 [00:50<00:17,  1.40it/s]\n",
      "time:  75%|█████████████████████████████████████████████               | 75.19000000000156/100 [00:50<00:16,  1.47it/s]\n",
      "time:  75%|█████████████████████████████████████████████▏              | 75.37000000000165/100 [00:50<00:15,  1.55it/s]\n",
      "time:  76%|█████████████████████████████████████████████▎              | 75.53000000000173/100 [00:51<00:15,  1.53it/s]\n",
      "time:  76%|█████████████████████████████████████████████▍              | 75.69000000000182/100 [00:51<00:16,  1.48it/s]\n",
      "time:  76%|██████████████████████████████████████████████▎              | 75.8400000000019/100 [00:51<00:17,  1.39it/s]\n",
      "time:  76%|█████████████████████████████████████████████▌              | 75.99000000000197/100 [00:51<00:18,  1.32it/s]\n",
      "time:  76%|█████████████████████████████████████████████▋              | 76.13000000000204/100 [00:51<00:18,  1.31it/s]\n",
      "time:  76%|█████████████████████████████████████████████▊              | 76.28000000000212/100 [00:51<00:17,  1.34it/s]\n",
      "time:  76%|██████████████████████████████████████████████▋              | 76.4500000000022/100 [00:51<00:16,  1.43it/s]\n",
      "time:  77%|█████████████████████████████████████████████▉              | 76.65000000000231/100 [00:51<00:14,  1.56it/s]\n",
      "time:  77%|██████████████████████████████████████████████▊              | 76.8300000000024/100 [00:51<00:14,  1.61it/s]\n",
      "time:  77%|██████████████████████████████████████████████▏             | 77.00000000000249/100 [00:52<00:16,  1.37it/s]\n",
      "time:  77%|██████████████████████████████████████████████▎             | 77.15000000000256/100 [00:52<00:16,  1.37it/s]\n",
      "time:  77%|██████████████████████████████████████████████▍             | 77.30000000000264/100 [00:52<00:16,  1.37it/s]\n",
      "time:  77%|██████████████████████████████████████████████▍             | 77.45000000000272/100 [00:52<00:16,  1.39it/s]\n",
      "time:  78%|███████████████████████████████████████████████▎             | 77.6000000000028/100 [00:52<00:16,  1.40it/s]\n",
      "time:  78%|██████████████████████████████████████████████▋             | 77.75000000000287/100 [00:52<00:16,  1.38it/s]\n"
     ]
    },
    {
     "name": "stderr",
     "output_type": "stream",
     "text": [
      "time:  78%|██████████████████████████████████████████████▊             | 77.94000000000297/100 [00:52<00:14,  1.50it/s]\n",
      "time:  78%|██████████████████████████████████████████████▊             | 78.11000000000305/100 [00:52<00:14,  1.55it/s]\n",
      "time:  78%|██████████████████████████████████████████████▉             | 78.27000000000314/100 [00:53<00:17,  1.22it/s]\n",
      "time:  78%|███████████████████████████████████████████████             | 78.41000000000321/100 [00:53<00:18,  1.15it/s]\n",
      "time:  79%|███████████████████████████████████████████████             | 78.54000000000327/100 [00:53<00:18,  1.18it/s]\n",
      "time:  79%|███████████████████████████████████████████████▏            | 78.69000000000335/100 [00:53<00:17,  1.25it/s]\n",
      "time:  79%|███████████████████████████████████████████████▎            | 78.83000000000342/100 [00:53<00:16,  1.26it/s]\n",
      "time:  79%|████████████████████████████████████████████████▏            | 78.9700000000035/100 [00:53<00:16,  1.29it/s]\n",
      "time:  79%|███████████████████████████████████████████████▍            | 79.14000000000358/100 [00:53<00:15,  1.38it/s]\n",
      "time:  79%|███████████████████████████████████████████████▌            | 79.29000000000366/100 [00:53<00:15,  1.32it/s]\n",
      "time:  79%|███████████████████████████████████████████████▋            | 79.43000000000373/100 [00:54<00:20,  1.01it/s]\n",
      "time:  80%|███████████████████████████████████████████████▋            | 79.55000000000379/100 [00:54<00:20,  1.02s/it]\n",
      "time:  80%|███████████████████████████████████████████████▊            | 79.69000000000386/100 [00:54<00:19,  1.07it/s]\n",
      "time:  80%|███████████████████████████████████████████████▉            | 79.83000000000393/100 [00:54<00:17,  1.13it/s]\n",
      "time:  80%|█████████████████████████████████████████████████▌            | 79.960000000004/100 [00:54<00:16,  1.18it/s]\n",
      "time:  80%|████████████████████████████████████████████████            | 80.11000000000408/100 [00:54<00:15,  1.24it/s]\n",
      "time:  80%|████████████████████████████████████████████████▏           | 80.24000000000414/100 [00:54<00:15,  1.26it/s]\n",
      "time:  80%|████████████████████████████████████████████████▎           | 80.45000000000425/100 [00:54<00:13,  1.43it/s]\n",
      "time:  81%|████████████████████████████████████████████████▍           | 80.64000000000435/100 [00:54<00:12,  1.53it/s]\n",
      "time:  81%|████████████████████████████████████████████████▍           | 80.81000000000444/100 [00:55<00:12,  1.53it/s]\n",
      "time:  81%|████████████████████████████████████████████████▌           | 80.97000000000452/100 [00:55<00:12,  1.51it/s]\n",
      "time:  81%|█████████████████████████████████████████████████▍           | 81.1300000000046/100 [00:55<00:12,  1.47it/s]\n",
      "time:  81%|████████████████████████████████████████████████▊           | 81.29000000000468/100 [00:55<00:13,  1.44it/s]\n",
      "time:  81%|████████████████████████████████████████████████▊           | 81.44000000000476/100 [00:55<00:13,  1.40it/s]\n",
      "time:  82%|████████████████████████████████████████████████▉           | 81.59000000000484/100 [00:55<00:13,  1.38it/s]\n",
      "time:  82%|█████████████████████████████████████████████████           | 81.74000000000491/100 [00:55<00:12,  1.41it/s]\n",
      "time:  82%|█████████████████████████████████████████████████▏          | 81.95000000000502/100 [00:55<00:11,  1.55it/s]\n",
      "time:  82%|██████████████████████████████████████████████████           | 82.1200000000051/100 [00:55<00:11,  1.57it/s]\n",
      "time:  82%|██████████████████████████████████████████████████▏          | 82.2900000000052/100 [00:56<00:11,  1.56it/s]\n",
      "time:  82%|█████████████████████████████████████████████████▍          | 82.45000000000528/100 [00:56<00:11,  1.56it/s]\n",
      "time:  83%|█████████████████████████████████████████████████▌          | 82.61000000000536/100 [00:56<00:11,  1.46it/s]\n",
      "time:  83%|█████████████████████████████████████████████████▋          | 82.76000000000543/100 [00:56<00:12,  1.43it/s]\n",
      "time:  83%|█████████████████████████████████████████████████▊          | 82.92000000000552/100 [00:56<00:11,  1.47it/s]\n",
      "time:  83%|█████████████████████████████████████████████████▊          | 83.07000000000559/100 [00:56<00:13,  1.24it/s]\n",
      "time:  83%|█████████████████████████████████████████████████▉          | 83.21000000000566/100 [00:56<00:15,  1.08it/s]\n",
      "time:  83%|█████████████████████████████████████████████████▉          | 83.33000000000573/100 [00:56<00:16,  1.03it/s]\n",
      "time:  84%|██████████████████████████████████████████████████          | 83.50000000000581/100 [00:57<00:14,  1.17it/s]\n",
      "time:  84%|██████████████████████████████████████████████████▏         | 83.63000000000588/100 [00:57<00:14,  1.16it/s]\n",
      "time:  84%|██████████████████████████████████████████████████▎         | 83.76000000000595/100 [00:57<00:15,  1.05it/s]\n",
      "time:  84%|████████████████████████████████████████████████████          | 83.880000000006/100 [00:57<00:15,  1.04it/s]\n",
      "time:  84%|██████████████████████████████████████████████████▍         | 84.01000000000607/100 [00:57<00:14,  1.11it/s]\n",
      "time:  84%|██████████████████████████████████████████████████▍         | 84.14000000000614/100 [00:57<00:13,  1.16it/s]\n",
      "time:  84%|███████████████████████████████████████████████████▍         | 84.2700000000062/100 [00:57<00:13,  1.19it/s]\n",
      "time:  84%|██████████████████████████████████████████████████▋         | 84.43000000000629/100 [00:57<00:12,  1.29it/s]\n",
      "time:  85%|██████████████████████████████████████████████████▊         | 84.59000000000637/100 [00:57<00:11,  1.36it/s]\n",
      "time:  85%|██████████████████████████████████████████████████▊         | 84.75000000000645/100 [00:58<00:10,  1.42it/s]\n",
      "time:  85%|██████████████████████████████████████████████████▉         | 84.90000000000653/100 [00:58<00:11,  1.34it/s]\n",
      "time:  85%|███████████████████████████████████████████████████▊         | 85.0400000000066/100 [00:58<00:11,  1.29it/s]\n",
      "time:  85%|███████████████████████████████████████████████████         | 85.18000000000667/100 [00:58<00:11,  1.29it/s]\n",
      "time:  85%|███████████████████████████████████████████████████▏        | 85.32000000000674/100 [00:58<00:14,  1.04it/s]\n",
      "time:  85%|████████████████████████████████████████████████████         | 85.4400000000068/100 [00:58<00:13,  1.08it/s]\n",
      "time:  86%|████████████████████████████████████████████████████▏        | 85.6200000000069/100 [00:58<00:11,  1.22it/s]\n",
      "time:  86%|███████████████████████████████████████████████████▍        | 85.79000000000698/100 [00:58<00:10,  1.33it/s]\n",
      "time:  86%|███████████████████████████████████████████████████▌        | 85.97000000000708/100 [00:58<00:09,  1.43it/s]\n",
      "time:  86%|███████████████████████████████████████████████████▋        | 86.13000000000716/100 [00:59<00:09,  1.42it/s]\n",
      "time:  86%|███████████████████████████████████████████████████▊        | 86.28000000000723/100 [00:59<00:13,  1.02it/s]\n",
      "time:  86%|████████████████████████████████████████████████████▋        | 86.4100000000073/100 [00:59<00:19,  1.42s/it]\n",
      "time:  87%|███████████████████████████████████████████████████▉        | 86.51000000000735/100 [00:59<00:20,  1.49s/it]\n",
      "time:  87%|████████████████████████████████████████████████████▊        | 86.6000000000074/100 [00:59<00:21,  1.60s/it]\n",
      "time:  87%|████████████████████████████████████████████████████        | 86.68000000000744/100 [01:00<00:24,  1.82s/it]\n",
      "time:  87%|████████████████████████████████████████████████████        | 86.75000000000747/100 [01:00<00:23,  1.81s/it]\n",
      "time:  87%|████████████████████████████████████████████████████        | 86.82000000000751/100 [01:00<00:23,  1.79s/it]\n",
      "time:  87%|████████████████████████████████████████████████████▏       | 86.89000000000755/100 [01:00<00:26,  2.00s/it]\n",
      "time:  87%|████████████████████████████████████████████████████▏       | 86.97000000000759/100 [01:00<00:23,  1.77s/it]\n",
      "time:  87%|████████████████████████████████████████████████████▏       | 87.06000000000763/100 [01:00<00:20,  1.58s/it]\n",
      "time:  87%|████████████████████████████████████████████████████▎       | 87.16000000000768/100 [01:00<00:18,  1.41s/it]\n",
      "time:  87%|████████████████████████████████████████████████████▎       | 87.24000000000773/100 [01:01<00:18,  1.46s/it]\n",
      "time:  87%|████████████████████████████████████████████████████▍       | 87.34000000000778/100 [01:01<00:16,  1.33s/it]\n"
     ]
    },
    {
     "name": "stderr",
     "output_type": "stream",
     "text": [
      "time:  87%|████████████████████████████████████████████████████▍       | 87.43000000000782/100 [01:01<00:16,  1.32s/it]\n",
      "time:  88%|████████████████████████████████████████████████████▌       | 87.51000000000786/100 [01:01<00:17,  1.39s/it]\n",
      "time:  88%|████████████████████████████████████████████████████▌       | 87.60000000000791/100 [01:01<00:16,  1.33s/it]\n",
      "time:  88%|████████████████████████████████████████████████████▌       | 87.69000000000796/100 [01:01<00:15,  1.27s/it]\n",
      "time:  88%|██████████████████████████████████████████████████████▍       | 87.780000000008/100 [01:01<00:14,  1.22s/it]\n",
      "time:  88%|████████████████████████████████████████████████████▋       | 87.88000000000805/100 [01:01<00:14,  1.17s/it]\n",
      "time:  88%|█████████████████████████████████████████████████████▋       | 87.9700000000081/100 [01:01<00:14,  1.20s/it]\n",
      "time:  88%|████████████████████████████████████████████████████▊       | 88.07000000000815/100 [01:01<00:13,  1.17s/it]\n",
      "time:  88%|█████████████████████████████████████████████████████▊       | 88.1600000000082/100 [01:02<00:13,  1.16s/it]\n",
      "time:  88%|████████████████████████████████████████████████████▉       | 88.25000000000824/100 [01:02<00:13,  1.15s/it]\n",
      "time:  88%|█████████████████████████████████████████████████████       | 88.34000000000829/100 [01:02<00:13,  1.15s/it]\n",
      "time:  88%|█████████████████████████████████████████████████████       | 88.43000000000833/100 [01:02<00:13,  1.16s/it]\n",
      "time:  89%|█████████████████████████████████████████████████████       | 88.52000000000838/100 [01:02<00:13,  1.14s/it]\n",
      "time:  89%|█████████████████████████████████████████████████████▏      | 88.61000000000843/100 [01:02<00:13,  1.14s/it]\n",
      "time:  89%|█████████████████████████████████████████████████████▏      | 88.70000000000847/100 [01:02<00:12,  1.14s/it]\n",
      "time:  89%|█████████████████████████████████████████████████████▎      | 88.81000000000853/100 [01:02<00:12,  1.09s/it]\n",
      "time:  89%|██████████████████████████████████████████████████████▎      | 88.9600000000086/100 [01:02<00:10,  1.03it/s]\n",
      "time:  89%|█████████████████████████████████████████████████████▍      | 89.07000000000866/100 [01:03<00:10,  1.04it/s]\n",
      "time:  89%|█████████████████████████████████████████████████████▌      | 89.22000000000874/100 [01:03<00:09,  1.14it/s]\n",
      "time:  89%|██████████████████████████████████████████████████████▌      | 89.3500000000088/100 [01:03<00:09,  1.18it/s]\n",
      "time:  90%|█████████████████████████████████████████████████████▋      | 89.51000000000889/100 [01:03<00:08,  1.27it/s]\n",
      "time:  90%|█████████████████████████████████████████████████████▊      | 89.66000000000896/100 [01:03<00:07,  1.32it/s]\n",
      "time:  90%|█████████████████████████████████████████████████████▉      | 89.81000000000904/100 [01:03<00:07,  1.36it/s]\n",
      "time:  90%|█████████████████████████████████████████████████████▉      | 89.95000000000911/100 [01:03<00:07,  1.36it/s]\n",
      "time:  90%|██████████████████████████████████████████████████████▉      | 90.1300000000092/100 [01:03<00:06,  1.46it/s]\n",
      "time:  90%|██████████████████████████████████████████████████████▏     | 90.34000000000931/100 [01:03<00:06,  1.60it/s]\n",
      "time:  91%|██████████████████████████████████████████████████████▎     | 90.53000000000941/100 [01:03<00:05,  1.68it/s]\n",
      "time:  91%|███████████████████████████████████████████████████████▎     | 90.7100000000095/100 [01:04<00:05,  1.62it/s]\n",
      "time:  91%|██████████████████████████████████████████████████████▌     | 90.88000000000959/100 [01:04<00:06,  1.51it/s]\n",
      "time:  91%|██████████████████████████████████████████████████████▌     | 91.04000000000967/100 [01:04<00:06,  1.49it/s]\n",
      "time:  91%|██████████████████████████████████████████████████████▋     | 91.20000000000975/100 [01:04<00:05,  1.50it/s]\n",
      "time:  91%|██████████████████████████████████████████████████████▊     | 91.36000000000983/100 [01:04<00:05,  1.45it/s]\n",
      "time:  92%|██████████████████████████████████████████████████████▉     | 91.51000000000991/100 [01:04<00:05,  1.42it/s]\n",
      "time:  92%|█████████████████████████████████████████████████████████▊     | 91.68000000001/100 [01:04<00:05,  1.48it/s]\n",
      "time:  92%|████████████████████████████████████████████████████████     | 91.8800000000101/100 [01:04<00:05,  1.58it/s]\n",
      "time:  92%|███████████████████████████████████████████████████████▏    | 92.06000000001019/100 [01:04<00:04,  1.62it/s]\n",
      "time:  92%|███████████████████████████████████████████████████████▎    | 92.23000000001028/100 [01:05<00:05,  1.55it/s]\n",
      "time:  92%|███████████████████████████████████████████████████████▍    | 92.39000000001036/100 [01:05<00:05,  1.49it/s]\n",
      "time:  93%|███████████████████████████████████████████████████████▌    | 92.55000000001044/100 [01:05<00:05,  1.44it/s]\n",
      "time:  93%|███████████████████████████████████████████████████████▌    | 92.70000000001052/100 [01:05<00:05,  1.39it/s]\n",
      "time:  93%|████████████████████████████████████████████████████████▋    | 92.8500000000106/100 [01:05<00:05,  1.42it/s]\n",
      "time:  93%|███████████████████████████████████████████████████████▊    | 93.00000000001067/100 [01:05<00:05,  1.38it/s]\n",
      "time:  93%|███████████████████████████████████████████████████████▉    | 93.16000000001075/100 [01:05<00:04,  1.43it/s]\n",
      "time:  93%|████████████████████████████████████████████████████████    | 93.36000000001086/100 [01:05<00:04,  1.55it/s]\n",
      "time:  94%|████████████████████████████████████████████████████████    | 93.54000000001095/100 [01:05<00:04,  1.61it/s]\n",
      "time:  94%|████████████████████████████████████████████████████████▏   | 93.71000000001104/100 [01:06<00:04,  1.57it/s]\n",
      "time:  94%|████████████████████████████████████████████████████████▎   | 93.87000000001112/100 [01:06<00:04,  1.27it/s]\n",
      "time:  94%|████████████████████████████████████████████████████████▍   | 94.01000000001119/100 [01:06<00:05,  1.15it/s]\n",
      "time:  94%|████████████████████████████████████████████████████████▍   | 94.16000000001127/100 [01:06<00:04,  1.21it/s]\n",
      "time:  94%|████████████████████████████████████████████████████████▌   | 94.29000000001133/100 [01:06<00:04,  1.17it/s]\n",
      "time:  94%|█████████████████████████████████████████████████████████▌   | 94.4200000000114/100 [01:06<00:04,  1.19it/s]\n",
      "time:  95%|█████████████████████████████████████████████████████████▋   | 94.6100000000115/100 [01:06<00:04,  1.34it/s]\n",
      "time:  95%|████████████████████████████████████████████████████████▊   | 94.76000000001157/100 [01:07<00:05,  1.07s/it]\n",
      "time:  95%|████████████████████████████████████████████████████████▉   | 94.88000000001163/100 [01:07<00:05,  1.14s/it]\n",
      "time:  95%|█████████████████████████████████████████████████████████▉   | 95.0000000000117/100 [01:07<00:05,  1.06s/it]\n",
      "time:  95%|█████████████████████████████████████████████████████████   | 95.13000000001176/100 [01:07<00:04,  1.03it/s]\n",
      "time:  95%|█████████████████████████████████████████████████████████▏  | 95.25000000001182/100 [01:07<00:04,  1.06it/s]\n",
      "time:  95%|██████████████████████████████████████████████████████████▏  | 95.4000000000119/100 [01:07<00:04,  1.15it/s]\n",
      "time:  96%|███████████████████████████████████████████████████████████▎  | 95.590000000012/100 [01:07<00:03,  1.29it/s]\n",
      "time:  96%|█████████████████████████████████████████████████████████▍  | 95.76000000001208/100 [01:07<00:03,  1.38it/s]\n",
      "time:  96%|█████████████████████████████████████████████████████████▌  | 95.91000000001216/100 [01:08<00:03,  1.36it/s]\n",
      "time:  96%|█████████████████████████████████████████████████████████▋  | 96.06000000001224/100 [01:08<00:03,  1.28it/s]\n",
      "time:  96%|█████████████████████████████████████████████████████████▋  | 96.20000000001231/100 [01:08<00:03,  1.18it/s]\n",
      "time:  96%|█████████████████████████████████████████████████████████▊  | 96.34000000001238/100 [01:08<00:02,  1.23it/s]\n",
      "time:  96%|█████████████████████████████████████████████████████████▉  | 96.47000000001245/100 [01:08<00:03,  1.17it/s]\n",
      "time:  97%|█████████████████████████████████████████████████████████▉  | 96.60000000001251/100 [01:08<00:02,  1.17it/s]\n",
      "time:  97%|██████████████████████████████████████████████████████████  | 96.74000000001259/100 [01:08<00:02,  1.22it/s]\n",
      "time:  97%|██████████████████████████████████████████████████████████▏ | 96.91000000001267/100 [01:08<00:02,  1.31it/s]\n"
     ]
    },
    {
     "name": "stderr",
     "output_type": "stream",
     "text": [
      "time:  97%|██████████████████████████████████████████████████████████▎ | 97.11000000001277/100 [01:08<00:01,  1.47it/s]\n",
      "time:  97%|██████████████████████████████████████████████████████████▎ | 97.27000000001286/100 [01:09<00:01,  1.39it/s]\n",
      "time:  97%|██████████████████████████████████████████████████████████▍ | 97.42000000001293/100 [01:09<00:01,  1.40it/s]\n",
      "time:  98%|██████████████████████████████████████████████████████████▌ | 97.59000000001302/100 [01:09<00:01,  1.46it/s]\n",
      "time:  98%|███████████████████████████████████████████████████████████▌ | 97.7400000000131/100 [01:09<00:01,  1.46it/s]\n",
      "time:  98%|██████████████████████████████████████████████████████████▋ | 97.89000000001317/100 [01:09<00:01,  1.45it/s]\n",
      "time:  98%|██████████████████████████████████████████████████████████▊ | 98.06000000001326/100 [01:09<00:01,  1.51it/s]\n",
      "time:  98%|██████████████████████████████████████████████████████████▉ | 98.22000000001334/100 [01:09<00:01,  1.48it/s]\n",
      "time:  98%|███████████████████████████████████████████████████████████ | 98.40000000001343/100 [01:09<00:01,  1.56it/s]\n",
      "time:  99%|███████████████████████████████████████████████████████████▏| 98.59000000001353/100 [01:09<00:00,  1.64it/s]\n",
      "time:  99%|███████████████████████████████████████████████████████████▎| 98.77000000001362/100 [01:09<00:00,  1.67it/s]\n",
      "time:  99%|███████████████████████████████████████████████████████████▎| 98.94000000001371/100 [01:10<00:00,  1.60it/s]\n",
      "time:  99%|████████████████████████████████████████████████████████████▍| 99.1100000000138/100 [01:10<00:00,  1.43it/s]\n",
      "time:  99%|███████████████████████████████████████████████████████████▌| 99.26000000001387/100 [01:10<00:00,  1.36it/s]\n",
      "time:  99%|███████████████████████████████████████████████████████████▋| 99.41000000001395/100 [01:10<00:00,  1.25it/s]\n",
      "time: 100%|███████████████████████████████████████████████████████████▋| 99.55000000001402/100 [01:10<00:00,  1.28it/s]\n",
      "time: 100%|████████████████████████████████████████████████████████████▊| 99.7000000000141/100 [01:10<00:00,  1.32it/s]\n",
      "time: 100%|███████████████████████████████████████████████████████████▉| 99.88000000001419/100 [01:10<00:00,  1.44it/s]\n",
      "time: 100.00000000001425it [01:10,  1.41it/s]                                                                          "
     ]
    }
   ],
   "source": [
    "r_long = sim.propagate(100)"
   ]
  },
  {
   "cell_type": "code",
   "execution_count": 97,
   "metadata": {
    "collapsed": true
   },
   "outputs": [],
   "source": [
    "trimmed_state.cancel_perturbation();"
   ]
  },
  {
   "cell_type": "markdown",
   "metadata": {},
   "source": [
    "## Lateral case"
   ]
  },
  {
   "cell_type": "code",
   "execution_count": 98,
   "metadata": {
    "collapsed": true
   },
   "outputs": [],
   "source": [
    "# Perturbate the trimmed state\n",
    "trimmed_state.cancel_perturbation()\n",
    "p = linear_stab_2_body(lat_state=lat_perturbation.real, alpha0=alpha, beta0=beta)[1]\n",
    "trimmed_state.perturbate(np.array([0,p[0],0]), 'velocity')\n",
    "trimmed_state.perturbate(np.array([p[1],0,p[2]]), 'angular_vel')\n",
    "trimmed_state.perturbate(np.array([0,p[3],0]), 'attitude') # /!\\ Convention theta, phi, psi"
   ]
  },
  {
   "cell_type": "code",
   "execution_count": 99,
   "metadata": {
    "collapsed": true
   },
   "outputs": [],
   "source": [
    "environment.update(trimmed_state)\n",
    "system = EulerFlatEarth(t0=0, full_state=trimmed_state)\n",
    "sim = Simulation(aircraft, system, environment, controls)"
   ]
  },
  {
   "cell_type": "code",
   "execution_count": 100,
   "metadata": {},
   "outputs": [
    {
     "name": "stderr",
     "output_type": "stream",
     "text": [
      "\n",
      "time:   0%|                                                                                     | 0/10 [00:00<?, ?it/s]\n",
      "time:   1%|▊                                                          | 0.12999999999999998/10 [00:00<00:07,  1.26it/s]\n",
      "time:   2%|█▍                                                         | 0.24000000000000007/10 [00:00<00:08,  1.19it/s]\n",
      "time:   4%|██                                                         | 0.35000000000000014/10 [00:00<00:08,  1.16it/s]\n",
      "time:   5%|██▊                                                        | 0.48000000000000026/10 [00:00<00:07,  1.19it/s]\n",
      "time:   6%|███▋                                                        | 0.6200000000000003/10 [00:00<00:07,  1.24it/s]\n",
      "time:   7%|████▍                                                       | 0.7300000000000004/10 [00:00<00:08,  1.09it/s]\n",
      "time:   9%|█████▏                                                      | 0.8600000000000005/10 [00:00<00:08,  1.12it/s]\n",
      "time:  10%|█████▉                                                      | 0.9900000000000007/10 [00:00<00:07,  1.16it/s]\n",
      "time:  11%|██████▊                                                     | 1.1400000000000008/10 [00:00<00:07,  1.24it/s]\n",
      "time:  13%|███████▉                                                     | 1.310000000000001/10 [00:01<00:06,  1.34it/s]\n",
      "time:  15%|████████▊                                                    | 1.450000000000001/10 [00:01<00:06,  1.35it/s]\n",
      "time:  16%|█████████▌                                                  | 1.5900000000000012/10 [00:01<00:06,  1.29it/s]\n",
      "time:  17%|██████████▍                                                 | 1.7300000000000013/10 [00:01<00:06,  1.26it/s]\n",
      "time:  19%|███████████▏                                                | 1.8600000000000014/10 [00:01<00:06,  1.23it/s]\n",
      "time:  20%|███████████▉                                                | 1.9900000000000015/10 [00:01<00:06,  1.25it/s]\n",
      "time:  21%|████████████▋                                               | 2.1199999999999988/10 [00:01<00:06,  1.23it/s]\n",
      "time:  22%|█████████████▋                                               | 2.249999999999996/10 [00:01<00:06,  1.22it/s]\n",
      "time:  24%|██████████████▌                                             | 2.4199999999999924/10 [00:01<00:05,  1.33it/s]\n",
      "time:  26%|███████████████▌                                            | 2.5999999999999885/10 [00:02<00:05,  1.44it/s]\n",
      "time:  27%|████████████████▍                                           | 2.7499999999999853/10 [00:02<00:05,  1.42it/s]\n",
      "time:  29%|█████████████████▋                                           | 2.899999999999982/10 [00:02<00:05,  1.35it/s]\n",
      "time:  30%|██████████████████▌                                          | 3.039999999999979/10 [00:02<00:05,  1.26it/s]\n",
      "time:  32%|███████████████████                                         | 3.1699999999999764/10 [00:02<00:05,  1.22it/s]\n",
      "time:  33%|███████████████████▊                                        | 3.2999999999999736/10 [00:02<00:05,  1.16it/s]\n",
      "time:  34%|████████████████████▊                                        | 3.419999999999971/10 [00:02<00:05,  1.15it/s]\n",
      "time:  35%|█████████████████████▏                                      | 3.5399999999999685/10 [00:02<00:05,  1.12it/s]\n",
      "time:  37%|██████████████████████                                      | 3.6799999999999655/10 [00:02<00:05,  1.19it/s]\n",
      "time:  39%|███████████████████████▏                                    | 3.8599999999999617/10 [00:03<00:04,  1.32it/s]\n",
      "time:  40%|████████████████████████▍                                    | 4.009999999999959/10 [00:03<00:04,  1.35it/s]\n",
      "time:  41%|█████████████████████████▎                                   | 4.149999999999956/10 [00:03<00:04,  1.31it/s]\n",
      "time:  43%|██████████████████████████▏                                  | 4.289999999999953/10 [00:03<00:04,  1.29it/s]\n",
      "time:  44%|███████████████████████████▍                                  | 4.42999999999995/10 [00:03<00:04,  1.26it/s]\n",
      "time:  46%|███████████████████████████▊                                 | 4.559999999999947/10 [00:03<00:04,  1.24it/s]\n",
      "time:  47%|████████████████████████████▌                                | 4.689999999999944/10 [00:03<00:04,  1.25it/s]\n",
      "time:  48%|█████████████████████████████▍                               | 4.819999999999942/10 [00:03<00:04,  1.23it/s]\n",
      "time:  49%|██████████████████████████████▏                              | 4.949999999999939/10 [00:03<00:04,  1.25it/s]\n",
      "time:  51%|███████████████████████████████▏                             | 5.119999999999935/10 [00:04<00:03,  1.35it/s]\n",
      "time:  53%|████████████████████████████████▏                            | 5.279999999999932/10 [00:04<00:03,  1.41it/s]\n",
      "time:  54%|█████████████████████████████████                            | 5.429999999999929/10 [00:04<00:03,  1.37it/s]\n",
      "time:  56%|█████████████████████████████████▉                           | 5.569999999999926/10 [00:04<00:03,  1.19it/s]\n",
      "time:  57%|██████████████████████████████████▊                          | 5.699999999999923/10 [00:04<00:03,  1.15it/s]\n",
      "time:  58%|████████████████████████████████████                          | 5.81999999999992/10 [00:04<00:03,  1.09it/s]\n",
      "time:  59%|████████████████████████████████████▏                        | 5.939999999999918/10 [00:04<00:03,  1.08it/s]\n",
      "time:  61%|████████████████████████████████████▉                        | 6.059999999999915/10 [00:04<00:03,  1.08it/s]\n",
      "time:  62%|█████████████████████████████████████▉                       | 6.219999999999912/10 [00:04<00:03,  1.19it/s]\n",
      "time:  63%|██████████████████████████████████████▋                      | 6.349999999999909/10 [00:05<00:03,  1.20it/s]\n",
      "time:  65%|███████████████████████████████████████▋                     | 6.499999999999906/10 [00:05<00:02,  1.27it/s]\n",
      "time:  66%|████████████████████████████████████████▌                    | 6.639999999999903/10 [00:05<00:02,  1.27it/s]\n",
      "time:  68%|██████████████████████████████████████████▋                    | 6.7699999999999/10 [00:05<00:02,  1.17it/s]\n",
      "time:  69%|██████████████████████████████████████████                   | 6.899999999999897/10 [00:05<00:03,  1.15s/it]\n",
      "time:  70%|██████████████████████████████████████████▊                  | 7.009999999999895/10 [00:06<00:05,  1.84s/it]\n",
      "time:  71%|███████████████████████████████████████████▏                 | 7.089999999999893/10 [00:06<00:05,  1.96s/it]\n",
      "time:  72%|███████████████████████████████████████████▋                 | 7.159999999999892/10 [00:06<00:12,  4.35s/it]\n",
      "time:  72%|████████████████████████████████████████████▊                 | 7.22999999999989/10 [00:07<00:09,  3.61s/it]\n",
      "time:  73%|████████████████████████████████████████████▍                | 7.289999999999889/10 [00:07<00:08,  3.28s/it]\n",
      "time:  73%|████████████████████████████████████████████▊                | 7.349999999999888/10 [00:07<00:08,  3.07s/it]\n",
      "time:  74%|████████████████████████████████████████████▍               | 7.4099999999998865/10 [00:07<00:07,  2.71s/it]\n",
      "time:  75%|█████████████████████████████████████████████▋               | 7.489999999999885/10 [00:07<00:05,  2.28s/it]\n",
      "time:  76%|██████████████████████████████████████████████▏              | 7.569999999999883/10 [00:07<00:04,  1.99s/it]\n",
      "time:  76%|██████████████████████████████████████████████▋              | 7.649999999999881/10 [00:07<00:04,  1.80s/it]\n",
      "time:  78%|███████████████████████████████████████████████▎             | 7.759999999999879/10 [00:07<00:03,  1.55s/it]\n",
      "time:  79%|████████████████████████████████████████████████▎            | 7.929999999999875/10 [00:07<00:02,  1.27s/it]\n",
      "time:  80%|█████████████████████████████████████████████████            | 8.039999999999873/10 [00:08<00:02,  1.19s/it]\n",
      "time:  82%|██████████████████████████████████████████████████▋           | 8.16999999999987/10 [00:08<00:01,  1.08s/it]\n",
      "time:  83%|██████████████████████████████████████████████████▌          | 8.279999999999868/10 [00:08<00:01,  1.03s/it]\n",
      "time:  84%|███████████████████████████████████████████████████▏         | 8.389999999999866/10 [00:08<00:01,  1.03s/it]\n",
      "time:  85%|███████████████████████████████████████████████████▉         | 8.509999999999863/10 [00:08<00:01,  1.03it/s]\n"
     ]
    },
    {
     "name": "stderr",
     "output_type": "stream",
     "text": [
      "time:  86%|█████████████████████████████████████████████████████▍        | 8.61999999999986/10 [00:08<00:01,  1.04s/it]\n",
      "time:  87%|█████████████████████████████████████████████████████▎       | 8.729999999999858/10 [00:08<00:01,  1.06s/it]\n",
      "time:  88%|█████████████████████████████████████████████████████▉       | 8.839999999999856/10 [00:08<00:01,  1.04s/it]\n",
      "time:  90%|██████████████████████████████████████████████████████▊      | 8.979999999999853/10 [00:08<00:00,  1.06it/s]\n",
      "time:  92%|███████████████████████████████████████████████████████▉     | 9.169999999999849/10 [00:09<00:00,  1.22it/s]\n",
      "time:  93%|████████████████████████████████████████████████████████▊    | 9.319999999999846/10 [00:09<00:00,  1.28it/s]\n",
      "time:  95%|█████████████████████████████████████████████████████████▋   | 9.459999999999843/10 [00:09<00:00,  1.28it/s]\n",
      "time:  96%|███████████████████████████████████████████████████████████▌  | 9.59999999999984/10 [00:09<00:00,  1.27it/s]\n",
      "time:  97%|███████████████████████████████████████████████████████████▍ | 9.739999999999837/10 [00:09<00:00,  1.26it/s]\n",
      "time:  99%|████████████████████████████████████████████████████████████▏| 9.869999999999834/10 [00:09<00:00,  1.25it/s]\n",
      "time: 100%|████████████████████████████████████████████████████████████▉| 9.999999999999831/10 [00:09<00:00,  1.23it/s]\n"
     ]
    }
   ],
   "source": [
    "r_lat = sim.propagate(10)"
   ]
  },
  {
   "cell_type": "code",
   "execution_count": 101,
   "metadata": {
    "collapsed": true
   },
   "outputs": [],
   "source": [
    "trimmed_state.cancel_perturbation();"
   ]
  },
  {
   "cell_type": "markdown",
   "metadata": {},
   "source": [
    "# Compare outputs"
   ]
  },
  {
   "cell_type": "code",
   "execution_count": 102,
   "metadata": {},
   "outputs": [
    {
     "data": {
      "image/png": "[encoded data removed]",
      "text/plain": [
       "<matplotlib.figure.Figure at 0x1bf54343630>"
      ]
     },
     "metadata": {},
     "output_type": "display_data"
    },
    {
     "data": {
      "image/png": "[encoded data removed]",
      "text/plain": [
       "<matplotlib.figure.Figure at 0x1bf54ca8d68>"
      ]
     },
     "metadata": {},
     "output_type": "display_data"
    },
    {
     "data": {
      "image/png": "[encoded data removed]",
      "text/plain": [
       "<matplotlib.figure.Figure at 0x1bf54cfaeb8>"
      ]
     },
     "metadata": {},
     "output_type": "display_data"
    },
    {
     "data": {
      "image/png": "[encoded data removed]",
      "text/plain": [
       "<matplotlib.figure.Figure at 0x1bf54d31e80>"
      ]
     },
     "metadata": {},
     "output_type": "display_data"
    }
   ],
   "source": [
    "# Longitudinal case\n",
    "plt.plot(t_long, X_long[:,0], '.', label='eigenvalue analysis')\n",
    "plt.plot(r_long.u, label='PyFME simulation')\n",
    "plt.legend()\n",
    "plt.title(\"Horizontal velocity\")\n",
    "plt.show()\n",
    "\n",
    "plt.plot(t_long, X_long[:,1], '.', label='eigenvalue analysis')\n",
    "plt.plot(r_long.w, label='PyFME simulation')\n",
    "plt.legend()\n",
    "plt.title(\"Vertical velocity\")\n",
    "plt.show()\n",
    "\n",
    "plt.plot(t_long, X_long[:,2], '.', label='eigenvalue analysis')\n",
    "plt.plot(r_long.q, label='PyFME simulation')\n",
    "plt.legend()\n",
    "plt.title(\"Pitch rate\")\n",
    "plt.show()\n",
    "\n",
    "plt.plot(t_long, X_long[:,3], '.', label='eigenvalue analysis')\n",
    "plt.plot(r_long.theta, label='PyFME simulation')\n",
    "plt.legend()\n",
    "plt.title(\"Pitch angle\")\n",
    "plt.show()"
   ]
  },
  {
   "cell_type": "code",
   "execution_count": 103,
   "metadata": {},
   "outputs": [
    {
     "data": {
      "image/png": "[encoded data removed]",
      "text/plain": [
       "<matplotlib.figure.Figure at 0x1bf54d867b8>"
      ]
     },
     "metadata": {},
     "output_type": "display_data"
    },
    {
     "data": {
      "image/png": "[encoded data removed]",
      "text/plain": [
       "<matplotlib.figure.Figure at 0x1bf54d9e5c0>"
      ]
     },
     "metadata": {},
     "output_type": "display_data"
    },
    {
     "data": {
      "image/png": "[encoded data removed]",
      "text/plain": [
       "<matplotlib.figure.Figure at 0x1bf54e66ef0>"
      ]
     },
     "metadata": {},
     "output_type": "display_data"
    },
    {
     "data": {
      "image/png": "[encoded data removed]",
      "text/plain": [
       "<matplotlib.figure.Figure at 0x1bf55331e80>"
      ]
     },
     "metadata": {},
     "output_type": "display_data"
    }
   ],
   "source": [
    "# Lateral case\n",
    "plt.plot(t_lat, X_lat[:,0], '.', label='eigenvalue analysis')\n",
    "plt.plot(r_lat.v, label='PyFME simulation')\n",
    "plt.legend()\n",
    "plt.title(\"Lateral velocity\")\n",
    "plt.show()\n",
    "\n",
    "plt.plot(t_lat, X_lat[:,1], '.', label='eigenvalue analysis')\n",
    "plt.plot(r_lat.p, label='PyFME simulation')\n",
    "plt.legend()\n",
    "plt.title(\"Roll rate\")\n",
    "plt.show()\n",
    "\n",
    "plt.plot(t_lat, X_lat[:,2], '.', label='eigenvalue analysis')\n",
    "plt.plot(r_lat.r, label='PyFME simulation')\n",
    "plt.legend()\n",
    "plt.title(\"Yaw rate\")\n",
    "plt.show()\n",
    "\n",
    "plt.plot(t_lat, X_lat[:,3], '.', label='eigenvalue analysis')\n",
    "plt.plot(r_lat.phi, label='PyFME simulation')\n",
    "plt.legend()\n",
    "plt.title(\"Heading angle\")\n",
    "plt.show()"
   ]
  },
  {
   "cell_type": "code",
   "execution_count": 105,
   "metadata": {},
   "outputs": [
    {
     "data": {
      "text/plain": [
       "array([[ 1285.3154166 ,     0.        ,  -677.908975  ],\n",
       "       [    0.        ,  1824.9309607 ,     0.        ],\n",
       "       [ -677.908975  ,     0.        ,  2666.89390765]])"
      ]
     },
     "execution_count": 105,
     "metadata": {},
     "output_type": "execute_result"
    }
   ],
   "source": [
    "aircraft.inertia\n"
   ]
  },
  {
   "cell_type": "markdown",
   "metadata": {
    "collapsed": true
   },
   "source": [
    "# References"
   ]
  },
  {
   "cell_type": "markdown",
   "metadata": {},
   "source": [
    "Dynamics of Flight, Stability and Control, Etkin and Reid"
   ]
  }
 ],
 "metadata": {
  "kernelspec": {
   "display_name": "Python 3",
   "language": "python",
   "name": "python3"
  },
  "language_info": {
   "codemirror_mode": {
    "name": "ipython",
    "version": 3
   },
   "file_extension": ".py",
   "mimetype": "text/x-python",
   "name": "python",
   "nbconvert_exporter": "python",
   "pygments_lexer": "ipython3",
   "version": "3.6.3"
  }
 },
 "nbformat": 4,
 "nbformat_minor": 2
}
