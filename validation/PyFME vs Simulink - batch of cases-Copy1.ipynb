{
 "cells": [
  {
   "cell_type": "markdown",
   "metadata": {},
   "source": [
    "# PyFME Validation: comparing response versus Matlab model"
   ]
  },
  {
   "cell_type": "code",
   "execution_count": 35,
   "metadata": {},
   "outputs": [],
   "source": [
    "from pyfme.aircrafts import Cessna172, SimplifiedCessna172\n",
    "from pyfme.models import EulerFlatEarth\n",
    "import numpy as np\n",
    "# nl = np.linalg\n",
    "import matplotlib.pyplot as plt\n",
    "from pyfme.environment.atmosphere import SeaLevel\n",
    "from pyfme.environment.wind import NoWind\n",
    "from pyfme.environment.gravity import VerticalConstant\n",
    "from pyfme.environment import Environment\n",
    "# from pyfme.utils.trimmer import steady_state_trim\n",
    "from pyfme.simulator import Simulation\n",
    "from pyfme.utils.export import results2matlab\n",
    "from scipy.io import savemat, loadmat\n",
    "from pyfme.utils.coordinates import wind2body, body2wind\n",
    "from pyfme.utils.input_generator import Constant, Doublet, Ramp\n",
    "from json import load as jload\n",
    "from copy import deepcopy as cp\n",
    "plt.style.use('ggplot')\n",
    "from scipy.interpolate import interp1d as itp\n",
    "import pickle\n",
    "import pandas as pd"
   ]
  },
  {
   "cell_type": "code",
   "execution_count": 36,
   "metadata": {
    "collapsed": true
   },
   "outputs": [],
   "source": [
    "%matplotlib inline"
   ]
  },
  {
   "cell_type": "code",
   "execution_count": 37,
   "metadata": {},
   "outputs": [
    {
     "name": "stdout",
     "output_type": "stream",
     "text": [
      "The autoreload extension is already loaded. To reload it, use:\n",
      "  %reload_ext autoreload\n"
     ]
    }
   ],
   "source": [
    "%load_ext autoreload\n",
    "%autoreload 2"
   ]
  },
  {
   "cell_type": "markdown",
   "metadata": {},
   "source": [
    "# Running a PyFME simulation and save it to a MATLAB readable file"
   ]
  },
  {
   "cell_type": "markdown",
   "metadata": {},
   "source": [
    "We start by defining the airplane and the environment."
   ]
  },
  {
   "cell_type": "code",
   "execution_count": 38,
   "metadata": {
    "collapsed": true
   },
   "outputs": [],
   "source": [
    "aircraft = SimplifiedCessna172()"
   ]
  },
  {
   "cell_type": "code",
   "execution_count": 39,
   "metadata": {},
   "outputs": [
    {
     "data": {
      "text/plain": [
       "{'delta_aileron': (-0.26179938779914941, 0.3490658503988659),\n",
       " 'delta_elevator': (-0.4537856055185257, 0.48869219055841229),\n",
       " 'delta_rudder': (-0.27925268031909273, 0.27925268031909273),\n",
       " 'delta_throttle': (0, 1)}"
      ]
     },
     "execution_count": 39,
     "metadata": {},
     "output_type": "execute_result"
    }
   ],
   "source": [
    "aircraft.control_limits"
   ]
  },
  {
   "cell_type": "code",
   "execution_count": 40,
   "metadata": {
    "collapsed": true
   },
   "outputs": [],
   "source": [
    "atmosphere = SeaLevel()\n",
    "gravity = VerticalConstant()\n",
    "wind = NoWind()\n",
    "environment = Environment(atmosphere, gravity, wind)"
   ]
  },
  {
   "cell_type": "markdown",
   "metadata": {},
   "source": [
    "Generate a serie of states on which to test"
   ]
  },
  {
   "cell_type": "code",
   "execution_count": 41,
   "metadata": {
    "collapsed": true
   },
   "outputs": [],
   "source": [
    "from pyfme.models import EulerFlatEarthState"
   ]
  },
  {
   "cell_type": "code",
   "execution_count": 42,
   "metadata": {},
   "outputs": [],
   "source": [
    "state = EulerFlatEarthState(from_json='0.json')"
   ]
  },
  {
   "cell_type": "code",
   "execution_count": 43,
   "metadata": {
    "collapsed": true
   },
   "outputs": [],
   "source": [
    "system = EulerFlatEarth(aircraft, environment)"
   ]
  },
  {
   "cell_type": "code",
   "execution_count": 44,
   "metadata": {
    "collapsed": true
   },
   "outputs": [],
   "source": [
    "cont = {'delta_aileron': -3.5358951610137923e-14,\n",
    " 'delta_elevator': -0.062874614281044197,\n",
    " 'delta_rudder': 2.1771806804482197e-13,\n",
    " 'delta_throttle': 0.83029313409410466}\n",
    "controls = {\n",
    "    'delta_elevator': Doublet(t_init=2, T=1, A=0.1, offset=cont['delta_elevator']),\n",
    "    'delta_aileron': Ramp(t_init=1,T=2, A=.2, offset=cont['delta_aileron']),\n",
    "    'delta_rudder': Constant(cont['delta_rudder']),\n",
    "    'delta_throttle': Constant(cont['delta_throttle'])\n",
    "}"
   ]
  },
  {
   "cell_type": "code",
   "execution_count": 11,
   "metadata": {},
   "outputs": [],
   "source": [
    "t=np.arange(0,3,.01)\n",
    "c = aircraft.get_controls(t, controls)"
   ]
  },
  {
   "cell_type": "code",
   "execution_count": 12,
   "metadata": {},
   "outputs": [],
   "source": [
    "s = EulerFlatEarthState(np.ones((300,1))*np.array(np.arange(1,13)))"
   ]
  },
  {
   "cell_type": "code",
   "execution_count": 13,
   "metadata": {},
   "outputs": [
    {
     "data": {
      "text/plain": [
       "(300, 12)"
      ]
     },
     "execution_count": 13,
     "metadata": {},
     "output_type": "execute_result"
    }
   ],
   "source": [
    "s.vec.shape"
   ]
  },
  {
   "cell_type": "code",
   "execution_count": 14,
   "metadata": {},
   "outputs": [],
   "source": [
    "conditions = environment.calculate_aero_conditions(s);"
   ]
  },
  {
   "cell_type": "code",
   "execution_count": 15,
   "metadata": {},
   "outputs": [],
   "source": [
    "forces, moments = aircraft.calculate_forces_and_moments(s, conditions, c)"
   ]
  },
  {
   "cell_type": "code",
   "execution_count": null,
   "metadata": {
    "collapsed": true
   },
   "outputs": [],
   "source": [
    "# controls={\"delta_throttle\":Constant(.8), \"delta_elevator\":Constant(0), \"delta_aileron\":Constant(0), \"delta_rudder\":Constant(0)}"
   ]
  },
  {
   "cell_type": "code",
   "execution_count": null,
   "metadata": {},
   "outputs": [],
   "source": [
    "sol = system.integrate(.1, state, controls)"
   ]
  },
  {
   "cell_type": "code",
   "execution_count": 26,
   "metadata": {},
   "outputs": [],
   "source": [
    "# with open('batch_results.pkl','wb') as f:\n",
    "#     pickle.dump(file=f,obj=results)\n",
    "r = pickle.load(open('batch_results.pkl','rb'))"
   ]
  },
  {
   "cell_type": "code",
   "execution_count": 33,
   "metadata": {},
   "outputs": [],
   "source": [
    "from pyfme_legacy.aircrafts.cessna_172 import SimplifiedCessna1720\n",
    "from pyfme_legacy.models.state import AircraftState"
   ]
  },
  {
   "cell_type": "code",
   "execution_count": 21,
   "metadata": {
    "collapsed": true
   },
   "outputs": [],
   "source": [
    "comp = SimplifiedCessna1720()"
   ]
  },
  {
   "cell_type": "code",
   "execution_count": 22,
   "metadata": {
    "collapsed": true
   },
   "outputs": [],
   "source": [
    "from pyfme.aircrafts.aircraft import ConventionalControls as cc\n",
    "from pyfme.models.euler_flat_earth import EulerFlatEarthState as es"
   ]
  },
  {
   "cell_type": "code",
   "execution_count": 27,
   "metadata": {},
   "outputs": [],
   "source": [
    "tr = r[0]"
   ]
  },
  {
   "cell_type": "code",
   "execution_count": 49,
   "metadata": {},
   "outputs": [],
   "source": [
    "for i in range(1):\n",
    "    state = es()\n",
    "    for k in system.info:\n",
    "        setattr(state, k, tr[k].iloc[i])"
   ]
  },
  {
   "cell_type": "code",
   "execution_count": 50,
   "metadata": {
    "collapsed": true
   },
   "outputs": [],
   "source": [
    "cont_test = cc()\n",
    "for k,c in cont.items():\n",
    "    setattr(cont_test, k, c)"
   ]
  },
  {
   "cell_type": "code",
   "execution_count": 31,
   "metadata": {
    "collapsed": true
   },
   "outputs": [],
   "source": [
    "cont2 = {'delta_aileron': -3.5358951610137923e-14,\n",
    " 'delta_elevator': -0.062874614281044197,\n",
    " 'delta_rudder': 2.1771806804482197e-13,\n",
    " 'delta_t': 0.83029313409410466}"
   ]
  },
  {
   "cell_type": "code",
   "execution_count": 32,
   "metadata": {},
   "outputs": [
    {
     "ename": "AttributeError",
     "evalue": "'BodyAxisState' object has no attribute 'velocity'",
     "output_type": "error",
     "traceback": [
      "\u001b[1;31m---------------------------------------------------------------------------\u001b[0m",
      "\u001b[1;31mAttributeError\u001b[0m                            Traceback (most recent call last)",
      "\u001b[1;32m<ipython-input-32-83e27db4d535>\u001b[0m in \u001b[0;36m<module>\u001b[1;34m()\u001b[0m\n\u001b[1;32m----> 1\u001b[1;33m \u001b[0mcomp\u001b[0m\u001b[1;33m.\u001b[0m\u001b[0mcalculate_forces_and_moments\u001b[0m\u001b[1;33m(\u001b[0m\u001b[0mstate\u001b[0m\u001b[1;33m,\u001b[0m \u001b[0menvironment\u001b[0m\u001b[1;33m,\u001b[0m \u001b[0mcont2\u001b[0m\u001b[1;33m)\u001b[0m\u001b[1;33m\u001b[0m\u001b[0m\n\u001b[0m",
      "\u001b[1;32mc:\\users\\jean\\box sync\\recherche\\pyfme_legacy\\src\\pyfme_legacy\\aircrafts\\cessna_172.py\u001b[0m in \u001b[0;36mcalculate_forces_and_moments\u001b[1;34m(self, state, environment, controls)\u001b[0m\n\u001b[0;32m    351\u001b[0m     \u001b[1;32mdef\u001b[0m \u001b[0mcalculate_forces_and_moments\u001b[0m\u001b[1;33m(\u001b[0m\u001b[0mself\u001b[0m\u001b[1;33m,\u001b[0m \u001b[0mstate\u001b[0m\u001b[1;33m,\u001b[0m \u001b[0menvironment\u001b[0m\u001b[1;33m,\u001b[0m \u001b[0mcontrols\u001b[0m\u001b[1;33m)\u001b[0m\u001b[1;33m:\u001b[0m\u001b[1;33m\u001b[0m\u001b[0m\n\u001b[0;32m    352\u001b[0m         \u001b[1;31m# Update controls and aerodynamics\u001b[0m\u001b[1;33m\u001b[0m\u001b[1;33m\u001b[0m\u001b[0m\n\u001b[1;32m--> 353\u001b[1;33m         \u001b[0msuper\u001b[0m\u001b[1;33m(\u001b[0m\u001b[1;33m)\u001b[0m\u001b[1;33m.\u001b[0m\u001b[0mcalculate_forces_and_moments\u001b[0m\u001b[1;33m(\u001b[0m\u001b[0mstate\u001b[0m\u001b[1;33m,\u001b[0m \u001b[0menvironment\u001b[0m\u001b[1;33m,\u001b[0m \u001b[0mcontrols\u001b[0m\u001b[1;33m)\u001b[0m\u001b[1;33m\u001b[0m\u001b[0m\n\u001b[0m\u001b[0;32m    354\u001b[0m \u001b[1;33m\u001b[0m\u001b[0m\n\u001b[0;32m    355\u001b[0m         \u001b[0mFt\u001b[0m \u001b[1;33m=\u001b[0m \u001b[0mself\u001b[0m\u001b[1;33m.\u001b[0m\u001b[0m_calculate_thrust_forces_moments\u001b[0m\u001b[1;33m(\u001b[0m\u001b[0menvironment\u001b[0m\u001b[1;33m)\u001b[0m\u001b[1;33m\u001b[0m\u001b[0m\n",
      "\u001b[1;32mc:\\users\\jean\\box sync\\recherche\\pyfme_legacy\\src\\pyfme_legacy\\aircrafts\\aircraft.py\u001b[0m in \u001b[0;36mcalculate_forces_and_moments\u001b[1;34m(self, state, environment, controls)\u001b[0m\n\u001b[0;32m    136\u001b[0m \u001b[1;33m\u001b[0m\u001b[0m\n\u001b[0;32m    137\u001b[0m         \u001b[0mself\u001b[0m\u001b[1;33m.\u001b[0m\u001b[0m_set_current_controls\u001b[0m\u001b[1;33m(\u001b[0m\u001b[0mcontrols\u001b[0m\u001b[1;33m)\u001b[0m\u001b[1;33m\u001b[0m\u001b[0m\n\u001b[1;32m--> 138\u001b[1;33m         \u001b[0mself\u001b[0m\u001b[1;33m.\u001b[0m\u001b[0m_calculate_aerodynamics\u001b[0m\u001b[1;33m(\u001b[0m\u001b[0mstate\u001b[0m\u001b[1;33m,\u001b[0m \u001b[0menvironment\u001b[0m\u001b[1;33m)\u001b[0m\u001b[1;33m\u001b[0m\u001b[0m\n\u001b[0m\u001b[0;32m    139\u001b[0m \u001b[1;33m\u001b[0m\u001b[0m\n\u001b[0;32m    140\u001b[0m \u001b[1;33m\u001b[0m\u001b[0m\n",
      "\u001b[1;32mc:\\users\\jean\\box sync\\recherche\\pyfme_legacy\\src\\pyfme_legacy\\aircrafts\\aircraft.py\u001b[0m in \u001b[0;36m_calculate_aerodynamics\u001b[1;34m(self, state, environment)\u001b[0m\n\u001b[0;32m    109\u001b[0m \u001b[1;33m\u001b[0m\u001b[0m\n\u001b[0;32m    110\u001b[0m         \u001b[1;31m# Velocity relative to air: aerodynamic velocity.\u001b[0m\u001b[1;33m\u001b[0m\u001b[1;33m\u001b[0m\u001b[0m\n\u001b[1;32m--> 111\u001b[1;33m         \u001b[0maero_vel\u001b[0m \u001b[1;33m=\u001b[0m \u001b[0mstate\u001b[0m\u001b[1;33m.\u001b[0m\u001b[0mvelocity\u001b[0m\u001b[1;33m.\u001b[0m\u001b[0mvel_body\u001b[0m \u001b[1;33m-\u001b[0m \u001b[0menvironment\u001b[0m\u001b[1;33m.\u001b[0m\u001b[0mbody_wind\u001b[0m\u001b[1;33m\u001b[0m\u001b[0m\n\u001b[0m\u001b[0;32m    112\u001b[0m \u001b[1;33m\u001b[0m\u001b[0m\n\u001b[0;32m    113\u001b[0m         self.alpha, self.beta, self.TAS = calculate_alpha_beta_TAS(\n",
      "\u001b[1;31mAttributeError\u001b[0m: 'BodyAxisState' object has no attribute 'velocity'"
     ]
    }
   ],
   "source": [
    "comp.calculate_forces_and_moments(state, environment, cont2)"
   ]
  },
  {
   "cell_type": "code",
   "execution_count": null,
   "metadata": {
    "collapsed": true
   },
   "outputs": [],
   "source": [
    "environment."
   ]
  },
  {
   "cell_type": "code",
   "execution_count": 56,
   "metadata": {},
   "outputs": [
    {
     "data": {
      "text/plain": [
       "Fx            -7.976849e+03\n",
       "Fy            -2.257072e+03\n",
       "Fz             1.424696e+03\n",
       "Mach           1.500762e-01\n",
       "Mx            -5.484183e+02\n",
       "My             3.850283e+03\n",
       "Mz             3.154606e+02\n",
       "TAS            5.107002e+01\n",
       "a              3.402939e+02\n",
       "aileron       -3.536356e-14\n",
       "alpha         -7.493855e-02\n",
       "beta           8.871607e-02\n",
       "elevator      -6.287461e-02\n",
       "height         1.000394e+03\n",
       "p             -9.699701e-04\n",
       "phi            2.613937e-01\n",
       "pressure       1.013249e+05\n",
       "psi           -9.276437e-01\n",
       "q              5.733794e-04\n",
       "q_inf          1.597488e+03\n",
       "r             -8.292121e-04\n",
       "rho            1.224999e+00\n",
       "rudder         2.177441e-13\n",
       "temperature    2.881499e+02\n",
       "theta          2.205750e+00\n",
       "thrust         8.302931e-01\n",
       "u              5.072641e+01\n",
       "v              4.524790e+00\n",
       "v_down        -3.935113e+01\n",
       "v_east         2.890521e+01\n",
       "v_north       -1.497079e+01\n",
       "w             -3.808496e+00\n",
       "x_earth       -1.497646e-01\n",
       "y_earth        2.893319e-01\n",
       "z_earth       -1.000394e+03\n",
       "Name: 0.01, dtype: float64"
      ]
     },
     "execution_count": 56,
     "metadata": {},
     "output_type": "execute_result"
    }
   ],
   "source": [
    "tr.iloc[0]"
   ]
  },
  {
   "cell_type": "code",
   "execution_count": 55,
   "metadata": {},
   "outputs": [
    {
     "data": {
      "text/plain": [
       "(array([[   52931.22694841,  -163601.08796407,  1708200.79968616]]),\n",
       " array([[-129001.52644662,  905681.71236121,   74204.12682056]]))"
      ]
     },
     "execution_count": 55,
     "metadata": {},
     "output_type": "execute_result"
    }
   ],
   "source": [
    "# for t in tr.index():\n",
    "state2 = es(np.array([state.vec]).T)\n",
    "conditions = environment.calculate_aero_conditions(state)\n",
    "aircraft.calculate_forces_and_moments(state, conditions, cont_test)"
   ]
  },
  {
   "cell_type": "code",
   "execution_count": null,
   "metadata": {
    "collapsed": true
   },
   "outputs": [],
   "source": [
    "from imp import load_source, lo"
   ]
  },
  {
   "cell_type": "code",
   "execution_count": null,
   "metadata": {},
   "outputs": [],
   "source": [
    "tr.iloc[0]"
   ]
  },
  {
   "cell_type": "code",
   "execution_count": null,
   "metadata": {},
   "outputs": [],
   "source": [
    "state"
   ]
  },
  {
   "cell_type": "code",
   "execution_count": null,
   "metadata": {
    "collapsed": true
   },
   "outputs": [],
   "source": [
    "results=[sol]"
   ]
  },
  {
   "cell_type": "code",
   "execution_count": null,
   "metadata": {
    "collapsed": true
   },
   "outputs": [],
   "source": [
    "T = sol.index[-1]"
   ]
  },
  {
   "cell_type": "code",
   "execution_count": null,
   "metadata": {
    "collapsed": true
   },
   "outputs": [],
   "source": [
    "nT = len(sol.index)\n",
    "t =  sol.index\n",
    "controls4matlab = np.ones((nT,4));\n",
    "for it in range(nT):\n",
    "    controls4matlab[it,0] = controls['delta_aileron']._fun(t[it])\n",
    "    controls4matlab[it,1] = controls['delta_elevator']._fun(t[it])\n",
    "    controls4matlab[it,2] = controls['delta_rudder']._fun(t[it])\n",
    "    controls4matlab[it,3] = controls['delta_throttle']._fun(t[it])\n",
    "savemat('controls.mat',{'c': controls4matlab, 'dt':sol.index[1]})"
   ]
  },
  {
   "cell_type": "markdown",
   "metadata": {},
   "source": [
    "We save the controls in a Matlab file"
   ]
  },
  {
   "cell_type": "markdown",
   "metadata": {},
   "source": [
    "# Run the same simulation in Simulink"
   ]
  },
  {
   "cell_type": "markdown",
   "metadata": {},
   "source": [
    "The simulink bloc diagram used for comparison uses exactly the same model to compute forces and moments (the method aircraft.compute_forces_and_moments() was translated directly to Matlab). The entire equations of motion integration is done with the %6DOF (Quaternion) % Simulink bloc from the aerospace blocset. Verifying against this tool allows to make sure that there are no mistake in the way the EulerFlatEarth equations of motion are written, and in the way they are integrated.\n",
    "\n",
    "We run the Simulink model and load the results:"
   ]
  },
  {
   "cell_type": "code",
   "execution_count": null,
   "metadata": {
    "collapsed": true
   },
   "outputs": [],
   "source": [
    "case_id = 1000"
   ]
  },
  {
   "cell_type": "code",
   "execution_count": 99,
   "metadata": {
    "collapsed": true
   },
   "outputs": [],
   "source": [
    "matlab_rslt = {}\n",
    "for case_id in range(1):\n",
    "#     with open('../../matlab_comparison/results' + str(case_id) + '.json','r') as f:\n",
    "    with open('../../matlab_comparison/matlab_results.json','r') as f:\n",
    "        mat_states = jload(f)\n",
    "    mat_states = {k:np.array(el) for k,el in mat_states.items()}\n",
    "    matlab_rslt[case_id] = mat_states"
   ]
  },
  {
   "cell_type": "markdown",
   "metadata": {},
   "source": [
    "# Compare outputs"
   ]
  },
  {
   "cell_type": "code",
   "execution_count": null,
   "metadata": {
    "collapsed": true
   },
   "outputs": [],
   "source": [
    "getname={'Euler':['phi','theta','psi'], 'Omega_body':['p','q','r'], 'V_body':['u', 'v', 'w']}\n",
    "unit = {'Euler':'deg', 'Omega_body':'deg/s', 'V_body':'m/s'} \n",
    "legend = {'Euler':('roll','pitch','yaw'), 'Omega_body':('roll','pitch','yaw'), 'V_body':('u','v','w')} \n",
    "factor = {'Euler':180/np.pi, 'Omega_body':180/np.pi, 'V_body':1}\n",
    "name = {'Euler':'euler angles', 'Omega_body':'rotation rates', 'V_body':'velocities'} \n",
    "def getMSE(keyword, idx):\n",
    "    name =  getname[keyword][idx]\n",
    "    error = np.zeros(N)\n",
    "    for case_id in range(N):\n",
    "        nc = len(results[case_id].u)\n",
    "        matlab_calc = itp(matlab_rslt[case_id]['t'], matlab_rslt[case_id][keyword][:,idx])\n",
    "        error[case_id] = np.sum(abs(results[case_id][name] - matlab_calc(results[case_id].index)))/nc\n",
    "    return error*factor[keyword]"
   ]
  },
  {
   "cell_type": "code",
   "execution_count": null,
   "metadata": {},
   "outputs": [],
   "source": [
    "for keyword in getname.keys():\n",
    "    err = (getMSE(keyword,i) for i in range(3))\n",
    "    error = np.vstack(err)\n",
    "    plt.hist(error.T, 30, stacked=True);\n",
    "    plt.title('Distribution of absolute errors on ' + name[keyword] + ' for all trajectories')\n",
    "    plt.ylabel('number of occurences')\n",
    "    plt.xlabel('Error in ' + unit[keyword])\n",
    "    plt.legend(legend[keyword])\n",
    "    plt.show()"
   ]
  },
  {
   "cell_type": "markdown",
   "metadata": {},
   "source": [
    "# Show examples"
   ]
  },
  {
   "cell_type": "code",
   "execution_count": null,
   "metadata": {
    "collapsed": true
   },
   "outputs": [],
   "source": [
    "case_id=0"
   ]
  },
  {
   "cell_type": "code",
   "execution_count": 97,
   "metadata": {
    "collapsed": true
   },
   "outputs": [],
   "source": [
    "results = [sol]"
   ]
  },
  {
   "cell_type": "code",
   "execution_count": 100,
   "metadata": {},
   "outputs": [
    {
     "data": {
      "image/png": "[encoded data removed]",
      "text/plain": [
       "<matplotlib.figure.Figure at 0x1edbd7f29b0>"
      ]
     },
     "metadata": {},
     "output_type": "display_data"
    },
    {
     "data": {
      "image/png": "[encoded data removed]",
      "text/plain": [
       "<matplotlib.figure.Figure at 0x1edbd43f358>"
      ]
     },
     "metadata": {},
     "output_type": "display_data"
    },
    {
     "data": {
      "image/png": "[encoded data removed]",
      "text/plain": [
       "<matplotlib.figure.Figure at 0x1edbd371ac8>"
      ]
     },
     "metadata": {},
     "output_type": "display_data"
    },
    {
     "data": {
      "image/png": "[encoded data removed]",
      "text/plain": [
       "<matplotlib.figure.Figure at 0x1edbcbb9320>"
      ]
     },
     "metadata": {},
     "output_type": "display_data"
    }
   ],
   "source": [
    "# Longitudinal values\n",
    "plt.plot(matlab_rslt[case_id]['t'], matlab_rslt[case_id]['V_body'][:,0], '.', label='Simulink output')\n",
    "plt.plot(results[case_id].u, label='PyFME simulation')\n",
    "plt.legend()\n",
    "plt.title(\"Horizontal velocity\")\n",
    "plt.show()\n",
    "\n",
    "plt.plot(matlab_rslt[case_id]['t'], matlab_rslt[case_id]['V_body'][:,2], '.', label='Simulink output')\n",
    "plt.plot(results[case_id].w, label='PyFME simulation')\n",
    "plt.legend()\n",
    "plt.title(\"Vertical velocity\")\n",
    "plt.show()\n",
    "\n",
    "plt.plot(matlab_rslt[case_id]['t'], matlab_rslt[case_id]['Omega_body'][:,1], '.', label='Simulink output')\n",
    "plt.plot(results[case_id].q, label='PyFME simulation')\n",
    "plt.legend()\n",
    "plt.title(\"Pitch rate\")\n",
    "plt.show()\n",
    "\n",
    "plt.plot(matlab_rslt[case_id]['t'], matlab_rslt[case_id]['Euler'][:,1], '.', label='Simulink output')\n",
    "plt.plot(results[case_id].theta, label='PyFME simulation')\n",
    "plt.legend()\n",
    "plt.title(\"Pitch angle\")\n",
    "plt.show()"
   ]
  },
  {
   "cell_type": "code",
   "execution_count": null,
   "metadata": {},
   "outputs": [],
   "source": [
    "# Lateral case\n",
    "plt.plot(matlab_rslt[case_id]['t'], matlab_rslt[case_id]['V_body'][:,1], '.', label='Simulink output')\n",
    "plt.plot(results[case_id].v, label='PyFME simulation')\n",
    "plt.legend()\n",
    "plt.title(\"Lateral velocity\")\n",
    "plt.show()\n",
    "\n",
    "plt.plot(matlab_rslt[case_id]['t'], matlab_rslt[case_id]['Omega_body'][:,0], '.', label='Simulink output')\n",
    "plt.plot(results[case_id].p, label='PyFME simulation')\n",
    "plt.legend()\n",
    "plt.title(\"Roll rate\")\n",
    "plt.show()\n",
    "\n",
    "plt.plot(matlab_rslt[case_id]['t'], matlab_rslt[case_id]['Omega_body'][:,2], '.', label='Simulink output')\n",
    "plt.plot(results[case_id].r, label='PyFME simulation')\n",
    "plt.legend()\n",
    "plt.title(\"Yaw rate\")\n",
    "plt.show()\n",
    "\n",
    "plt.plot(matlab_rslt[case_id]['t'], matlab_rslt[case_id]['Euler'][:,0], '.', label='Simulink output')\n",
    "plt.plot(results[case_id].phi, label='PyFME simulation')\n",
    "plt.legend()\n",
    "plt.title(\"Heading angle\")\n",
    "plt.show()"
   ]
  },
  {
   "cell_type": "code",
   "execution_count": null,
   "metadata": {
    "collapsed": true
   },
   "outputs": [],
   "source": []
  },
  {
   "cell_type": "code",
   "execution_count": null,
   "metadata": {
    "collapsed": true
   },
   "outputs": [],
   "source": []
  }
 ],
 "metadata": {
  "kernelspec": {
   "display_name": "Python 3",
   "language": "python",
   "name": "python3"
  },
  "language_info": {
   "codemirror_mode": {
    "name": "ipython",
    "version": 3
   },
   "file_extension": ".py",
   "mimetype": "text/x-python",
   "name": "python",
   "nbconvert_exporter": "python",
   "pygments_lexer": "ipython3",
   "version": "3.6.3"
  }
 },
 "nbformat": 4,
 "nbformat_minor": 2
}
