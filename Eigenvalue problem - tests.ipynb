{
 "cells": [
  {
   "cell_type": "markdown",
   "metadata": {},
   "source": [
    "# Python Flight Mechanics Engine "
   ]
  },
  {
   "cell_type": "code",
   "execution_count": 1,
   "metadata": {
    "collapsed": true
   },
   "outputs": [],
   "source": [
    "from pyfme.aircrafts import LinearB747, SimplifiedCessna172\n",
    "from pyfme.models import EulerFlatEarth\n",
    "import numpy as np\n",
    "nl = np.linalg\n",
    "import matplotlib.pyplot as plt\n",
    "from pyfme.environment.atmosphere import ISA1976\n",
    "from pyfme.environment.wind import NoWind\n",
    "from pyfme.environment.gravity import VerticalConstant\n",
    "from pyfme.environment import Environment\n",
    "from pyfme.utils.trimmer import steady_state_trim\n",
    "from pyfme.models.state.position import EarthPosition\n",
    "from pyfme.simulator import Simulation\n",
    "from pyfme.models import EulerFlatEarth"
   ]
  },
  {
   "cell_type": "code",
   "execution_count": 2,
   "metadata": {},
   "outputs": [],
   "source": [
    "%load_ext autoreload\n",
    "%autoreload 2"
   ]
  },
  {
   "cell_type": "markdown",
   "metadata": {},
   "source": [
    "# Test on Boeing"
   ]
  },
  {
   "cell_type": "code",
   "execution_count": 3,
   "metadata": {
    "collapsed": true
   },
   "outputs": [],
   "source": [
    "aircraft = LinearB747()"
   ]
  },
  {
   "cell_type": "code",
   "execution_count": 4,
   "metadata": {},
   "outputs": [
    {
     "name": "stdout",
     "output_type": "stream",
     "text": [
      "Aircraft mass: 288660.5504587156 kg\n",
      "Aircraft inertia tensor: \n",
      " [[ 24700000.         0.  -2120000.]\n",
      " [        0.  44900000.         0.]\n",
      " [ -2120000.         0.  67300000.]] kg/m²\n"
     ]
    }
   ],
   "source": [
    "print(f\"Aircraft mass: {aircraft.mass} kg\")\n",
    "print(f\"Aircraft inertia tensor: \\n {aircraft.inertia} kg/m²\")"
   ]
  },
  {
   "cell_type": "code",
   "execution_count": 5,
   "metadata": {
    "collapsed": true
   },
   "outputs": [],
   "source": [
    "state, environment = aircraft.trimmed_conditions()"
   ]
  },
  {
   "cell_type": "code",
   "execution_count": 6,
   "metadata": {
    "collapsed": true
   },
   "outputs": [],
   "source": [
    "system = EulerFlatEarth(t0=0, full_state=state)"
   ]
  },
  {
   "cell_type": "code",
   "execution_count": 7,
   "metadata": {},
   "outputs": [],
   "source": [
    "A_long, A_lat = system.linearized_model(state, aircraft, environment, None)"
   ]
  },
  {
   "cell_type": "code",
   "execution_count": 8,
   "metadata": {},
   "outputs": [
    {
     "name": "stdout",
     "output_type": "stream",
     "text": [
      "[[ -6.86619629e-03   1.39437135e-02   0.00000000e+00  -9.80665000e+00]\n",
      " [ -9.04964592e-02  -3.14906754e-01   2.35892792e+02  -0.00000000e+00]\n",
      " [  3.89092422e-04  -3.36169904e-03  -4.28171388e-01   0.00000000e+00]\n",
      " [  0.00000000e+00   0.00000000e+00   1.00000000e+00   0.00000000e+00]]\n"
     ]
    }
   ],
   "source": [
    "print(f\"{A_long}\")"
   ]
  },
  {
   "cell_type": "code",
   "execution_count": 9,
   "metadata": {
    "collapsed": true
   },
   "outputs": [],
   "source": [
    "d = aircraft.calculate_derivatives(None, None, None)"
   ]
  },
  {
   "cell_type": "code",
   "execution_count": 10,
   "metadata": {
    "collapsed": true
   },
   "outputs": [],
   "source": [
    "val, vec = nl.eig(A_long)"
   ]
  },
  {
   "cell_type": "code",
   "execution_count": 11,
   "metadata": {},
   "outputs": [
    {
     "data": {
      "text/plain": [
       "array([-0.37168337+0.88692454j, -0.37168337-0.88692454j,\n",
       "       -0.00328880+0.0671904j , -0.00328880-0.0671904j ])"
      ]
     },
     "execution_count": 11,
     "metadata": {},
     "output_type": "execute_result"
    }
   ],
   "source": [
    "val"
   ]
  },
  {
   "cell_type": "code",
   "execution_count": 12,
   "metadata": {},
   "outputs": [
    {
     "name": "stdout",
     "output_type": "stream",
     "text": [
      "[[ -5.57748538e-02   0.00000000e+00  -2.35900000e+02   9.80665000e+00]\n",
      " [ -1.27028796e-02  -4.35107741e-01   4.14335937e-01   0.00000000e+00]\n",
      " [  3.56656916e-03  -6.05604146e-03  -1.45800775e-01   0.00000000e+00]\n",
      " [  0.00000000e+00   1.00000000e+00   0.00000000e+00   0.00000000e+00]]\n"
     ]
    }
   ],
   "source": [
    "print(f\"{A_lat}\")"
   ]
  },
  {
   "cell_type": "code",
   "execution_count": 13,
   "metadata": {
    "collapsed": true
   },
   "outputs": [],
   "source": [
    "val, vec = nl.eig(A_lat)"
   ]
  },
  {
   "cell_type": "code",
   "execution_count": 14,
   "metadata": {},
   "outputs": [
    {
     "data": {
      "text/plain": [
       "array([-0.03309986+0.94696989j, -0.03309986-0.94696989j,\n",
       "       -0.56322438+0.j        , -0.00725928+0.j        ])"
      ]
     },
     "execution_count": 14,
     "metadata": {},
     "output_type": "execute_result"
    }
   ],
   "source": [
    "val"
   ]
  },
  {
   "cell_type": "markdown",
   "metadata": {},
   "source": [
    "Eigen values are the same as the ones in Etkin. So the matrix was copy-pasted right in EulerFlatEarth.linearize()"
   ]
  },
  {
   "cell_type": "markdown",
   "metadata": {},
   "source": [
    "# Simplified Cessna: compare response with eigenvalue analysis"
   ]
  },
  {
   "cell_type": "code",
   "execution_count": 48,
   "metadata": {},
   "outputs": [],
   "source": [
    "aircraft = SimplifiedCessna172()"
   ]
  },
  {
   "cell_type": "code",
   "execution_count": 49,
   "metadata": {},
   "outputs": [],
   "source": [
    "atmosphere = ISA1976()\n",
    "gravity = VerticalConstant()\n",
    "wind = NoWind()\n",
    "environment = Environment(atmosphere, gravity, wind)"
   ]
  },
  {
   "cell_type": "code",
   "execution_count": 50,
   "metadata": {},
   "outputs": [],
   "source": [
    "pos = EarthPosition(x=0, y=0, height=1000)\n",
    "psi = 0.5  # rad\n",
    "TAS = 45  # m/s\n",
    "controls0 = {'delta_elevator': 0, 'delta_aileron': 0, 'delta_rudder': 0, 'delta_t': 0.5}\n",
    "trimmed_state, trimmed_controls = steady_state_trim(\n",
    "    aircraft,\n",
    "    environment,\n",
    "    pos,\n",
    "    psi,\n",
    "    TAS,\n",
    "    controls0\n",
    ")\n",
    "environment.update(trimmed_state)"
   ]
  },
  {
   "cell_type": "code",
   "execution_count": 51,
   "metadata": {
    "collapsed": true
   },
   "outputs": [],
   "source": [
    "system = EulerFlatEarth(t0=0, full_state=trimmed_state)"
   ]
  },
  {
   "cell_type": "code",
   "execution_count": 52,
   "metadata": {},
   "outputs": [
    {
     "data": {
      "text/plain": [
       "{'Lp': -7133.3285464529754,\n",
       " 'Lq': -1.3596490723877686e-10,\n",
       " 'Lr': 2845.5233747989769,\n",
       " 'Lu': -1.5072258133617629e-13,\n",
       " 'Lv': -93.803403491879237,\n",
       " 'Lw': 6.4642542808689936e-11,\n",
       " 'Lw_dot': 0.0,\n",
       " 'Mp': -1.3635270481322531e-10,\n",
       " 'Mq': -5632.7295473571794,\n",
       " 'Mr': 2.5855995439045339e-10,\n",
       " 'Mu': -2.0740884413894751e-10,\n",
       " 'Mv': -8.5234948148304966e-12,\n",
       " 'Mw': -707.13949139550539,\n",
       " 'Mw_dot': 0.0,\n",
       " 'Np': -283.31950651664334,\n",
       " 'Nq': -2.0902086546512417e-11,\n",
       " 'Nr': -895.8625397666973,\n",
       " 'Nu': -1.600102250108547e-12,\n",
       " 'Nv': 63.401932933487544,\n",
       " 'Nw': 4.8437512785752048e-12,\n",
       " 'Nw_dot': 0.0,\n",
       " 'Xp': 8.5635844119039128e-12,\n",
       " 'Xq': -107.98409108583664,\n",
       " 'Xr': -4.3879010396940393e-11,\n",
       " 'Xu': -81.920634161805893,\n",
       " 'Xv': -1.0186591357214635e-10,\n",
       " 'Xw': 117.92566393495383,\n",
       " 'Xw_dot': 0.0,\n",
       " 'Yp': -94.244627388807359,\n",
       " 'Yq': -8.5635868519158715e-12,\n",
       " 'Yr': 482.90054315893269,\n",
       " 'Yu': -7.5184642244713184e-12,\n",
       " 'Yv': -126.09881477888285,\n",
       " 'Yw': 2.053118461568279e-11,\n",
       " 'Yw_dot': 0.0,\n",
       " 'Zp': 0.0,\n",
       " 'Zq': -2203.4392987142378,\n",
       " 'Zr': 0.0,\n",
       " 'Zu': -448.14552058364376,\n",
       " 'Zv': 9.0763684172927728e-12,\n",
       " 'Zw': -2221.7928894687734,\n",
       " 'Zw_dot': 0.0}"
      ]
     },
     "execution_count": 52,
     "metadata": {},
     "output_type": "execute_result"
    }
   ],
   "source": [
    "aircraft.calculate_derivatives(trimmed_state, environment=environment, controls=trimmed_controls)"
   ]
  },
  {
   "cell_type": "code",
   "execution_count": 53,
   "metadata": {},
   "outputs": [],
   "source": [
    "A_long, A_lat = system.linearized_model(trimmed_state, aircraft, environment, trimmed_controls)"
   ]
  },
  {
   "cell_type": "code",
   "execution_count": 54,
   "metadata": {},
   "outputs": [
    {
     "name": "stdout",
     "output_type": "stream",
     "text": [
      "longitudinal eigenvalues : [[-2.61286215+4.04181191j -2.61286215-4.04181191j -0.03450179+0.26321042j\n",
      "  -0.03450179-0.26321042j]]\n"
     ]
    }
   ],
   "source": [
    "long_val, long_vec=nl.eig(A_long)\n",
    "long_val = np.expand_dims(long_val, axis = 0)\n",
    "print(f\"longitudinal eigenvalues : {long_val}\")"
   ]
  },
  {
   "cell_type": "code",
   "execution_count": 55,
   "metadata": {},
   "outputs": [
    {
     "name": "stdout",
     "output_type": "stream",
     "text": [
      "[[ -1.20869794e-01  -9.03365248e-02  -4.43934827e+01   9.80665000e+00]\n",
      " [ -7.29808437e-02  -5.54986617e+00   2.21387166e+00   0.00000000e+00]\n",
      " [  2.37736990e-02  -1.06235762e-01  -3.35919827e-01   0.00000000e+00]\n",
      " [  0.00000000e+00   1.00000000e+00   0.00000000e+00   0.00000000e+00]]\n"
     ]
    }
   ],
   "source": [
    "print(f\"{A_lat}\")"
   ]
  },
  {
   "cell_type": "code",
   "execution_count": 56,
   "metadata": {},
   "outputs": [
    {
     "name": "stdout",
     "output_type": "stream",
     "text": [
      "lat eigenvalues : [[-5.54552962+0.j         -0.24937803+1.12210093j -0.24937803-1.12210093j\n",
      "   0.03762989+0.j        ]]\n"
     ]
    }
   ],
   "source": [
    "lat_val, lat_vec=nl.eig(A_lat)\n",
    "lat_val = np.expand_dims(lat_val, axis = 0)\n",
    "print(f\"lat eigenvalues : {lat_val}\")"
   ]
  },
  {
   "cell_type": "markdown",
   "metadata": {},
   "source": [
    "## Longitudinal checks"
   ]
  },
  {
   "cell_type": "code",
   "execution_count": 57,
   "metadata": {},
   "outputs": [
    {
     "data": {
      "text/plain": [
       "Aircraft State \n",
       "x_e: 0.00 m, y_e: 0.00 m, z_e: -1000.00 m \n",
       "theta: 0.080 rad, phi: 0.000 rad, psi: 0.500 rad \n",
       "u: 44.86 m/s, v: -0.00 m/s, w: 3.59 m/s \n",
       "P: 0.00 rad/s, Q: 0.00 rad/s, R: 0.00 rad/s \n",
       "u_dot: -0.00 m/s², v_dot: -0.00 m/s², w_dot: -0.00 m/s² \n",
       "P_dot: -0.00 rad/s², Q_dot: -0.00 rad/s², R_dot: -0.00 rad/s² "
      ]
     },
     "execution_count": 57,
     "metadata": {},
     "output_type": "execute_result"
    }
   ],
   "source": [
    "trimmed_state"
   ]
  },
  {
   "cell_type": "code",
   "execution_count": 58,
   "metadata": {
    "collapsed": true
   },
   "outputs": [],
   "source": [
    "def linear_stab_2_body(long_state=np.zeros(4), lat_state=np.zeros(4), u0=0, theta0=0,alpha0=0, beta0=0):\n",
    "    # velocities\n",
    "    v = wind2body(np.array([long_state[0] + u0, lat_state[0], long_state[1]]), alpha=alpha0, beta=beta0)\n",
    "    # Roll rates\n",
    "    r = wind2body(np.array([lat_state[1], long_state[2], lat_state[2]]), alpha=alpha0, beta=beta0)\n",
    "    long_stateB = np.copy(long_state)\n",
    "    lat_stateB = np.copy(lat_state)\n",
    "    long_stateB[0] = v[0]\n",
    "    long_stateB[1] = v[2]\n",
    "    long_stateB[2] = r[1]\n",
    "    long_stateB[3] += theta0\n",
    "    lat_stateB[0] = v[1]\n",
    "    lat_stateB[1] = r[0]\n",
    "    lat_stateB[2] = r[2]\n",
    "    return long_stateB.real, lat_stateB.real"
   ]
  },
  {
   "cell_type": "code",
   "execution_count": 59,
   "metadata": {},
   "outputs": [],
   "source": [
    "from pyfme.utils.coordinates import wind2body, body2wind, stab2body"
   ]
  },
  {
   "cell_type": "code",
   "execution_count": 60,
   "metadata": {},
   "outputs": [],
   "source": [
    "alpha = np.arctan2(trimmed_state.velocity.w, trimmed_state.velocity.u)\n",
    "u = trimmed_state.velocity.u*1.0"
   ]
  },
  {
   "cell_type": "code",
   "execution_count": 61,
   "metadata": {},
   "outputs": [],
   "source": [
    "perturbation = (long_vec.T[0] + long_vec.T[1])/10"
   ]
  },
  {
   "cell_type": "markdown",
   "metadata": {},
   "source": [
    "### Eigenvalue approach"
   ]
  },
  {
   "cell_type": "code",
   "execution_count": 62,
   "metadata": {},
   "outputs": [],
   "source": [
    "C = nl.lstsq(a=long_vec,b=perturbation.real)[0].real"
   ]
  },
  {
   "cell_type": "code",
   "execution_count": 63,
   "metadata": {
    "collapsed": true
   },
   "outputs": [],
   "source": [
    "# stability axis\n",
    "u, v, w = body2wind(trimmed_state.velocity.vel_body, alpha, 0)\n",
    "theta0 = trimmed_state.attitude.theta*1.0"
   ]
  },
  {
   "cell_type": "code",
   "execution_count": 64,
   "metadata": {},
   "outputs": [
    {
     "data": {
      "text/plain": [
       "array([  4.48563585e+01,  -4.08894829e-12,   3.59264617e+00])"
      ]
     },
     "execution_count": 64,
     "metadata": {},
     "output_type": "execute_result"
    }
   ],
   "source": [
    "trimmed_state.velocity._vel_body"
   ]
  },
  {
   "cell_type": "code",
   "execution_count": 65,
   "metadata": {},
   "outputs": [
    {
     "data": {
      "text/plain": [
       "array([  4.48563585e+01,  -4.08894829e-12,   3.59264617e+00])"
      ]
     },
     "execution_count": 65,
     "metadata": {},
     "output_type": "execute_result"
    }
   ],
   "source": [
    "wind2body(np.array([u,v,w]), alpha=alpha, beta=0)"
   ]
  },
  {
   "cell_type": "code",
   "execution_count": 66,
   "metadata": {},
   "outputs": [],
   "source": [
    "t = np.linspace(0,3,100)\n",
    "N = len(t)\n",
    "X = np.zeros((N,4))\n",
    "xx = []\n",
    "for i in range(N):\n",
    "    x_stab = (long_vec*np.exp(long_val*t[i])).dot(C)\n",
    "    xx.append(x_stab[1])\n",
    "    X[i,:] = linear_stab_2_body(long_state=x_stab.real, alpha0=alpha, u0=u, theta0 = theta0)[0]"
   ]
  },
  {
   "cell_type": "code",
   "execution_count": 67,
   "metadata": {},
   "outputs": [
    {
     "data": {
      "image/png": "[encoded data removed]",
      "text/plain": [
       "<matplotlib.figure.Figure at 0x2a0d1b4e828>"
      ]
     },
     "metadata": {},
     "output_type": "display_data"
    }
   ],
   "source": [
    "plt.plot(t,X[:,1],'.')\n",
    "plt.show()"
   ]
  },
  {
   "cell_type": "markdown",
   "metadata": {},
   "source": [
    "### Simulation"
   ]
  },
  {
   "cell_type": "code",
   "execution_count": 68,
   "metadata": {
    "collapsed": true
   },
   "outputs": [],
   "source": [
    "from pyfme.utils.input_generator import Constant"
   ]
  },
  {
   "cell_type": "code",
   "execution_count": 69,
   "metadata": {},
   "outputs": [],
   "source": [
    "controls = {\n",
    "    'delta_elevator': Constant(trimmed_controls['delta_elevator']),\n",
    "    'delta_aileron': Constant(trimmed_controls['delta_aileron']),\n",
    "    'delta_rudder': Constant(trimmed_controls['delta_rudder']),\n",
    "    'delta_t': Constant(trimmed_controls['delta_t'])\n",
    "}"
   ]
  },
  {
   "cell_type": "code",
   "execution_count": 78,
   "metadata": {},
   "outputs": [],
   "source": [
    "# Perturbate\n",
    "trimmed_state.cancel_perturbation()\n",
    "p = linear_stab_2_body(long_state=perturbation.real, alpha0=alpha)[0]\n",
    "trimmed_state.perturbate(np.array([p[0],0,p[1]]), 'velocity')\n",
    "trimmed_state.perturbate(np.array([0,p[2],0]), 'angular_vel')\n",
    "trimmed_state.perturbate(np.array([0,p[3],0]), 'attitude')"
   ]
  },
  {
   "cell_type": "code",
   "execution_count": 79,
   "metadata": {},
   "outputs": [
    {
     "data": {
      "text/plain": [
       "Aircraft State \n",
       "x_e: 0.00 m, y_e: 0.00 m, z_e: -1000.00 m \n",
       "theta: 0.080 rad, phi: 0.004 rad, psi: 0.500 rad \n",
       "u: 44.84 m/s, v: -0.00 m/s, w: 3.79 m/s \n",
       "P: 0.00 rad/s, Q: -0.00 rad/s, R: 0.00 rad/s \n",
       "u_dot: -0.00 m/s², v_dot: -0.00 m/s², w_dot: -0.00 m/s² \n",
       "P_dot: -0.00 rad/s², Q_dot: -0.00 rad/s², R_dot: -0.00 rad/s² "
      ]
     },
     "execution_count": 79,
     "metadata": {},
     "output_type": "execute_result"
    }
   ],
   "source": [
    "trimmed_state"
   ]
  },
  {
   "cell_type": "code",
   "execution_count": 71,
   "metadata": {},
   "outputs": [
    {
     "data": {
      "text/plain": [
       "array([ 0.00438011+0.j,  0.19901295+0.j, -0.00220572+0.j,  0.00353290+0.j])"
      ]
     },
     "execution_count": 71,
     "metadata": {},
     "output_type": "execute_result"
    }
   ],
   "source": [
    "perturbation"
   ]
  },
  {
   "cell_type": "code",
   "execution_count": 72,
   "metadata": {
    "collapsed": true
   },
   "outputs": [],
   "source": [
    "environment.update(trimmed_state)\n",
    "system = EulerFlatEarth(t0=0, full_state=trimmed_state)"
   ]
  },
  {
   "cell_type": "code",
   "execution_count": 73,
   "metadata": {
    "collapsed": true
   },
   "outputs": [],
   "source": [
    "sim = Simulation(aircraft, system, environment, controls)"
   ]
  },
  {
   "cell_type": "code",
   "execution_count": 74,
   "metadata": {},
   "outputs": [
    {
     "name": "stderr",
     "output_type": "stream",
     "text": [
      "time: 100%|████████████████████████████████████████████████████████████▉| 9.999999999999831/10 [00:06<00:00,  1.49it/s]\n"
     ]
    }
   ],
   "source": [
    "r = sim.propagate(10)"
   ]
  },
  {
   "cell_type": "code",
   "execution_count": 75,
   "metadata": {},
   "outputs": [
    {
     "data": {
      "text/plain": [
       "Aircraft State \n",
       "x_e: 0.00 m, y_e: 0.00 m, z_e: -1000.00 m \n",
       "theta: 0.080 rad, phi: 0.000 rad, psi: 0.500 rad \n",
       "u: 44.86 m/s, v: -0.00 m/s, w: 3.59 m/s \n",
       "P: 0.00 rad/s, Q: 0.00 rad/s, R: 0.00 rad/s \n",
       "u_dot: -0.00 m/s², v_dot: -0.00 m/s², w_dot: -0.00 m/s² \n",
       "P_dot: -0.00 rad/s², Q_dot: -0.00 rad/s², R_dot: -0.00 rad/s² "
      ]
     },
     "execution_count": 75,
     "metadata": {},
     "output_type": "execute_result"
    }
   ],
   "source": [
    "trimmed_state.cancel_perturbation()"
   ]
  },
  {
   "cell_type": "code",
   "execution_count": 76,
   "metadata": {},
   "outputs": [
    {
     "data": {
      "image/png": "[encoded data removed]",
      "text/plain": [
       "<matplotlib.figure.Figure at 0x2a0d1b709b0>"
      ]
     },
     "metadata": {},
     "output_type": "display_data"
    }
   ],
   "source": [
    "plt.plot(t,X[:,3],'.')\n",
    "plt.plot(r.theta)\n",
    "plt.show()"
   ]
  },
  {
   "cell_type": "code",
   "execution_count": 77,
   "metadata": {},
   "outputs": [
    {
     "data": {
      "text/plain": [
       "Aircraft State \n",
       "x_e: 0.00 m, y_e: 0.00 m, z_e: -1000.00 m \n",
       "theta: 0.080 rad, phi: 0.000 rad, psi: 0.500 rad \n",
       "u: 44.86 m/s, v: -0.00 m/s, w: 3.59 m/s \n",
       "P: 0.00 rad/s, Q: 0.00 rad/s, R: 0.00 rad/s \n",
       "u_dot: -0.00 m/s², v_dot: -0.00 m/s², w_dot: -0.00 m/s² \n",
       "P_dot: -0.00 rad/s², Q_dot: -0.00 rad/s², R_dot: -0.00 rad/s² "
      ]
     },
     "execution_count": 77,
     "metadata": {},
     "output_type": "execute_result"
    }
   ],
   "source": [
    "trimmed_state"
   ]
  },
  {
   "cell_type": "code",
   "execution_count": null,
   "metadata": {
    "collapsed": true
   },
   "outputs": [],
   "source": []
  },
  {
   "cell_type": "code",
   "execution_count": null,
   "metadata": {
    "collapsed": true
   },
   "outputs": [],
   "source": []
  }
 ],
 "metadata": {
  "kernelspec": {
   "display_name": "Python 3",
   "language": "python",
   "name": "python3"
  },
  "language_info": {
   "codemirror_mode": {
    "name": "ipython",
    "version": 3
   },
   "file_extension": ".py",
   "mimetype": "text/x-python",
   "name": "python",
   "nbconvert_exporter": "python",
   "pygments_lexer": "ipython3",
   "version": "3.6.3"
  }
 },
 "nbformat": 4,
 "nbformat_minor": 2
}
